{
  "nbformat": 4,
  "nbformat_minor": 0,
  "metadata": {
    "colab": {
      "name": "ICP7Q1.ipynb",
      "provenance": [],
      "collapsed_sections": []
    },
    "kernelspec": {
      "name": "python3",
      "display_name": "Python 3"
    },
    "language_info": {
      "name": "python"
    }
  },
  "cells": [
    {
      "cell_type": "markdown",
      "source": [
        "#ICP 7 Q1\n",
        "Using Dataset 20newsgroups from sklearn"
      ],
      "metadata": {
        "id": "9_REsY12E74Y"
      }
    },
    {
      "cell_type": "code",
      "execution_count": null,
      "metadata": {
        "id": "37GElb9RxcvF"
      },
      "outputs": [],
      "source": [
        "#Importing libraries and dataset\n",
        "from sklearn.datasets import fetch_20newsgroups\n",
        "\n",
        "from sklearn.feature_extraction.text import CountVectorizer, TfidfVectorizer\n",
        "from sklearn.feature_extraction.text import TfidfTransformer\n",
        "from sklearn import metrics\n",
        "from sklearn.pipeline import Pipeline\n",
        "from sklearn.naive_bayes import MultinomialNB\n",
        "import numpy as np\n",
        "import matplotlib.pyplot as plt"
      ]
    },
    {
      "cell_type": "markdown",
      "source": [
        "##Dataset Loading\n",
        "https://scikit-learn.org/stable/tutorial/text_analytics/working_with_text_data.html "
      ],
      "metadata": {
        "id": "Fsl-6dapP600"
      }
    },
    {
      "cell_type": "code",
      "source": [
        "#Get training data\n",
        "twenty_train = fetch_20newsgroups(subset='train', shuffle=True)"
      ],
      "metadata": {
        "id": "rTKcW5I0Hm6Z"
      },
      "execution_count": null,
      "outputs": []
    },
    {
      "cell_type": "code",
      "source": [
        "#printing first lines of the loaded file\n",
        "print(\"\\n\".join(twenty_train.data[0].split(\"\\n\")[:3]))"
      ],
      "metadata": {
        "colab": {
          "base_uri": "https://localhost:8080/"
        },
        "id": "1NyrDAZh_2mb",
        "outputId": "bbeab034-4e2d-4afe-95cb-ef1136992b1f"
      },
      "execution_count": null,
      "outputs": [
        {
          "output_type": "stream",
          "name": "stdout",
          "text": [
            "From: lerxst@wam.umd.edu (where's my thing)\n",
            "Subject: WHAT car is this!?\n",
            "Nntp-Posting-Host: rac3.wam.umd.edu\n"
          ]
        }
      ]
    },
    {
      "cell_type": "code",
      "source": [
        "#print the target\n",
        "print(twenty_train.target_names[twenty_train.target[0]])"
      ],
      "metadata": {
        "colab": {
          "base_uri": "https://localhost:8080/"
        },
        "id": "PCw8HtJmACEs",
        "outputId": "2b09b232-b492-4ca6-b818-12edbcffcff9"
      },
      "execution_count": null,
      "outputs": [
        {
          "output_type": "stream",
          "name": "stdout",
          "text": [
            "rec.autos\n"
          ]
        }
      ]
    },
    {
      "cell_type": "code",
      "source": [
        "#print category names\n",
        "categories = twenty_train.target_names\n",
        "print(categories)\n",
        "print(len(categories))"
      ],
      "metadata": {
        "id": "6vWv7JvFHGak",
        "colab": {
          "base_uri": "https://localhost:8080/"
        },
        "outputId": "84344b88-b274-4a11-ee7e-d8ea9011cb07"
      },
      "execution_count": null,
      "outputs": [
        {
          "output_type": "stream",
          "name": "stdout",
          "text": [
            "['alt.atheism', 'comp.graphics', 'comp.os.ms-windows.misc', 'comp.sys.ibm.pc.hardware', 'comp.sys.mac.hardware', 'comp.windows.x', 'misc.forsale', 'rec.autos', 'rec.motorcycles', 'rec.sport.baseball', 'rec.sport.hockey', 'sci.crypt', 'sci.electronics', 'sci.med', 'sci.space', 'soc.religion.christian', 'talk.politics.guns', 'talk.politics.mideast', 'talk.politics.misc', 'talk.religion.misc']\n",
            "20\n"
          ]
        }
      ]
    },
    {
      "cell_type": "markdown",
      "source": [
        "##Extracting Features from Text files"
      ],
      "metadata": {
        "id": "Tv_-bE3mBjG6"
      }
    },
    {
      "cell_type": "markdown",
      "source": [
        "Text preprocessing, tokenizing and filtering of stopwords are all included in CountVectorizer, which builds a dictionary of features and transforms documents to feature vectors:"
      ],
      "metadata": {
        "id": "Z2F58q_PCC7h"
      }
    },
    {
      "cell_type": "code",
      "source": [
        "#fit transform training data with CountVectorizer\n",
        "count_vect = CountVectorizer()\n",
        "X_train_counts = count_vect.fit_transform(twenty_train.data)\n",
        "X_train_counts.shape"
      ],
      "metadata": {
        "id": "OsoUzjLiRyIw",
        "colab": {
          "base_uri": "https://localhost:8080/"
        },
        "outputId": "05916d77-5504-4bd3-e1f8-9451ee00fd0b"
      },
      "execution_count": null,
      "outputs": [
        {
          "output_type": "execute_result",
          "data": {
            "text/plain": [
              "(11314, 130107)"
            ]
          },
          "metadata": {},
          "execution_count": 6
        }
      ]
    },
    {
      "cell_type": "markdown",
      "source": [
        "**fit method** - fit our estimator to the data\n",
        "\n",
        "**transform method** - transform our count-matrix to a tf-idf representation.\n",
        "\n",
        "We can use fit_transform to achieve this!"
      ],
      "metadata": {
        "id": "ud4wvBBsCfIl"
      }
    },
    {
      "cell_type": "code",
      "source": [
        "#fit transform using Term Frequency - Inverse Document Frequency TF-IDF vector\n",
        "tfidf_transformer = TfidfTransformer()\n",
        "X_train_tfidf = tfidf_transformer.fit_transform(X_train_counts)\n",
        "X_train_tfidf.shape"
      ],
      "metadata": {
        "colab": {
          "base_uri": "https://localhost:8080/"
        },
        "id": "OaqoU8hH-z6Q",
        "outputId": "1ce09b30-6aba-4dfe-da1c-9aabcd7dddac"
      },
      "execution_count": null,
      "outputs": [
        {
          "output_type": "execute_result",
          "data": {
            "text/plain": [
              "(11314, 130107)"
            ]
          },
          "metadata": {},
          "execution_count": 7
        }
      ]
    },
    {
      "cell_type": "markdown",
      "source": [
        "##Using SVM and KNN\n",
        "\n",
        "Evaluation of the algorithms performance on the test set"
      ],
      "metadata": {
        "id": "tKduXTCDOTrY"
      }
    },
    {
      "cell_type": "code",
      "source": [
        "#get the test data set\n",
        "twenty_test = fetch_20newsgroups(subset='test',\n",
        "    categories=categories, shuffle=True)\n",
        "docs_test = twenty_test.data"
      ],
      "metadata": {
        "id": "6zW0Itc-ETb_"
      },
      "execution_count": null,
      "outputs": []
    },
    {
      "cell_type": "markdown",
      "source": [
        "###1a) SVM algorithm\n",
        "\n",
        "accuracy: 85%"
      ],
      "metadata": {
        "id": "xvHQoT4-Hxj_"
      }
    },
    {
      "cell_type": "code",
      "source": [
        "from sklearn.linear_model import SGDClassifier\n",
        "#Linear classifier (SVM) with SGD training\n",
        "#This implementation works with data represented as dense or sparse arrays of floating point values for the features. \n",
        "#The model it fits can be controlled with the loss parameter; by default, it fits a linear support vector machine (SVM).\n",
        "\n",
        "#build the pipeline\n",
        "text_clf = Pipeline([\n",
        "    ('vect', CountVectorizer()),\n",
        "    ('tfidf', TfidfTransformer()),\n",
        "    ('clf', SGDClassifier()),\n",
        "    ])\n",
        "\n",
        "#fit the training data and target\n",
        "text_clf.fit(twenty_train.data, twenty_train.target)\n",
        "\n",
        "#predict\n",
        "predicted = text_clf.predict(docs_test)\n",
        "#get accuracies\n",
        "acc_svc = round(np.mean(predicted == twenty_test.target)*100, 2)\n",
        "print(\"svm accuracy is:\", acc_svc)"
      ],
      "metadata": {
        "id": "CyqBr-8gIIYA",
        "colab": {
          "base_uri": "https://localhost:8080/"
        },
        "outputId": "d712b611-7f7a-4234-970e-269b43da1cbb"
      },
      "execution_count": null,
      "outputs": [
        {
          "output_type": "stream",
          "name": "stdout",
          "text": [
            "svm accuracy is: 85.37\n"
          ]
        }
      ]
    },
    {
      "cell_type": "code",
      "source": [
        "from sklearn import metrics\n",
        "#Print classification report\n",
        "print(metrics.classification_report(twenty_test.target, predicted,\n",
        "    target_names=twenty_test.target_names))"
      ],
      "metadata": {
        "colab": {
          "base_uri": "https://localhost:8080/"
        },
        "id": "48USHrb1MB4p",
        "outputId": "65aaebea-c585-416e-8c01-ed6ce894bdf7"
      },
      "execution_count": null,
      "outputs": [
        {
          "output_type": "stream",
          "name": "stdout",
          "text": [
            "                          precision    recall  f1-score   support\n",
            "\n",
            "             alt.atheism       0.80      0.78      0.79       319\n",
            "           comp.graphics       0.77      0.78      0.78       389\n",
            " comp.os.ms-windows.misc       0.75      0.74      0.74       394\n",
            "comp.sys.ibm.pc.hardware       0.73      0.76      0.74       392\n",
            "   comp.sys.mac.hardware       0.84      0.86      0.85       385\n",
            "          comp.windows.x       0.87      0.76      0.81       395\n",
            "            misc.forsale       0.84      0.91      0.87       390\n",
            "               rec.autos       0.93      0.91      0.92       396\n",
            "         rec.motorcycles       0.95      0.95      0.95       398\n",
            "      rec.sport.baseball       0.91      0.96      0.93       397\n",
            "        rec.sport.hockey       0.96      0.98      0.97       399\n",
            "               sci.crypt       0.91      0.95      0.93       396\n",
            "         sci.electronics       0.84      0.78      0.81       393\n",
            "                 sci.med       0.90      0.88      0.89       396\n",
            "               sci.space       0.89      0.95      0.92       394\n",
            "  soc.religion.christian       0.84      0.93      0.88       398\n",
            "      talk.politics.guns       0.75      0.92      0.82       364\n",
            "   talk.politics.mideast       0.96      0.91      0.94       376\n",
            "      talk.politics.misc       0.86      0.61      0.71       310\n",
            "      talk.religion.misc       0.76      0.58      0.66       251\n",
            "\n",
            "                accuracy                           0.85      7532\n",
            "               macro avg       0.85      0.85      0.85      7532\n",
            "            weighted avg       0.85      0.85      0.85      7532\n",
            "\n"
          ]
        }
      ]
    },
    {
      "cell_type": "markdown",
      "source": [
        "###1b) KNeighborsClassifier\n",
        "\n",
        "accuracy: 65%"
      ],
      "metadata": {
        "id": "YRlXopMZJI3V"
      }
    },
    {
      "cell_type": "code",
      "source": [
        "from sklearn.neighbors import KNeighborsClassifier\n",
        "#build the pipeline using KNN\n",
        "text_clf = Pipeline([\n",
        "    ('vect', CountVectorizer()),\n",
        "    ('tfidf', TfidfTransformer()),\n",
        "    ('clf', KNeighborsClassifier()),\n",
        "    ])\n",
        "\n",
        "#fit the data\n",
        "text_clf.fit(twenty_train.data, twenty_train.target)\n",
        "#predict\n",
        "predicted = text_clf.predict(docs_test)\n",
        "#get accuracy scores\n",
        "acc_knn = round(np.mean(predicted == twenty_test.target)*100, 2)\n",
        "print(\"KNN accuracy is:\", acc_knn)"
      ],
      "metadata": {
        "id": "urstExRANY3K",
        "colab": {
          "base_uri": "https://localhost:8080/"
        },
        "outputId": "b5bbd003-3594-48a3-fb25-7d17cfcdedc4"
      },
      "execution_count": null,
      "outputs": [
        {
          "output_type": "stream",
          "name": "stdout",
          "text": [
            "KNN accuracy is: 65.92\n"
          ]
        }
      ]
    },
    {
      "cell_type": "code",
      "source": [
        "from sklearn import metrics\n",
        "#Get classification report\n",
        "print(metrics.classification_report(twenty_test.target, predicted,\n",
        "    target_names=twenty_test.target_names))"
      ],
      "metadata": {
        "colab": {
          "base_uri": "https://localhost:8080/"
        },
        "id": "D7NLXCJkMDzW",
        "outputId": "0f5d0738-d715-486c-b178-037bc76240e6"
      },
      "execution_count": null,
      "outputs": [
        {
          "output_type": "stream",
          "name": "stdout",
          "text": [
            "                          precision    recall  f1-score   support\n",
            "\n",
            "             alt.atheism       0.43      0.76      0.55       319\n",
            "           comp.graphics       0.50      0.61      0.55       389\n",
            " comp.os.ms-windows.misc       0.56      0.57      0.57       394\n",
            "comp.sys.ibm.pc.hardware       0.53      0.58      0.56       392\n",
            "   comp.sys.mac.hardware       0.59      0.56      0.57       385\n",
            "          comp.windows.x       0.69      0.60      0.64       395\n",
            "            misc.forsale       0.58      0.45      0.51       390\n",
            "               rec.autos       0.75      0.69      0.72       396\n",
            "         rec.motorcycles       0.84      0.81      0.82       398\n",
            "      rec.sport.baseball       0.77      0.72      0.74       397\n",
            "        rec.sport.hockey       0.85      0.84      0.84       399\n",
            "               sci.crypt       0.76      0.84      0.80       396\n",
            "         sci.electronics       0.70      0.50      0.58       393\n",
            "                 sci.med       0.82      0.49      0.62       396\n",
            "               sci.space       0.79      0.76      0.78       394\n",
            "  soc.religion.christian       0.75      0.76      0.76       398\n",
            "      talk.politics.guns       0.70      0.73      0.72       364\n",
            "   talk.politics.mideast       0.62      0.76      0.69       376\n",
            "      talk.politics.misc       0.55      0.61      0.58       310\n",
            "      talk.religion.misc       0.56      0.49      0.52       251\n",
            "\n",
            "                accuracy                           0.66      7532\n",
            "               macro avg       0.67      0.66      0.65      7532\n",
            "            weighted avg       0.67      0.66      0.66      7532\n",
            "\n"
          ]
        }
      ]
    },
    {
      "cell_type": "markdown",
      "source": [
        "##1d) Set tfidf vectorizer to use bigram\n",
        "\n",
        "https://www.geeksforgeeks.org/tf-idf-for-bigrams-trigrams/\n",
        "\n",
        "https://scikit-learn.org/0.19/datasets/twenty_newsgroups.html\n",
        "\n",
        "Classifier: KNN\n",
        "\n",
        "accuracy: 59%"
      ],
      "metadata": {
        "id": "OoN1U5_zOe_2"
      }
    },
    {
      "cell_type": "code",
      "source": [
        "#Set vectorizer to use bigram\n",
        "tfidf_Vect = TfidfVectorizer(ngram_range = (2, 2))\n",
        "#fit-transform the train data\n",
        "X_train_tfidf = tfidf_Vect.fit_transform(twenty_train.data)"
      ],
      "metadata": {
        "id": "d8_tYZryQjoS"
      },
      "execution_count": null,
      "outputs": []
    },
    {
      "cell_type": "code",
      "source": [
        "#use KNN\n",
        "clf = KNeighborsClassifier()\n",
        "#fit the train data and target\n",
        "clf.fit(X_train_tfidf, twenty_train.target)"
      ],
      "metadata": {
        "colab": {
          "base_uri": "https://localhost:8080/"
        },
        "id": "gFcNokc3QlXR",
        "outputId": "335de139-a4a3-4e25-df6f-8052c208d290"
      },
      "execution_count": null,
      "outputs": [
        {
          "output_type": "execute_result",
          "data": {
            "text/plain": [
              "KNeighborsClassifier()"
            ]
          },
          "metadata": {},
          "execution_count": 14
        }
      ]
    },
    {
      "cell_type": "code",
      "source": [
        "#get the test data\n",
        "twenty_test = fetch_20newsgroups(subset='test', shuffle=True)"
      ],
      "metadata": {
        "id": "nNmhTuzyTSVR"
      },
      "execution_count": null,
      "outputs": []
    },
    {
      "cell_type": "code",
      "source": [
        "#transform the data to get the X_test\n",
        "X_test_tfidf = tfidf_Vect.transform(twenty_test.data)"
      ],
      "metadata": {
        "id": "flqpb64gTQcz"
      },
      "execution_count": null,
      "outputs": []
    },
    {
      "cell_type": "code",
      "source": [
        "#predict\n",
        "predicted = clf.predict(X_test_tfidf)\n",
        "#Get the accuracy\n",
        "score = metrics.accuracy_score(twenty_test.target, predicted)\n",
        "print(score)"
      ],
      "metadata": {
        "colab": {
          "base_uri": "https://localhost:8080/"
        },
        "id": "vsIdRepXQ-NA",
        "outputId": "9b85d0ea-da6a-4706-9e30-a4b720a5dfe8"
      },
      "execution_count": null,
      "outputs": [
        {
          "output_type": "stream",
          "name": "stdout",
          "text": [
            "0.5973181093998938\n"
          ]
        }
      ]
    },
    {
      "cell_type": "markdown",
      "source": [
        "##1e) Set tfidf vectorizer arguments to use stop_words='english'\n",
        "\n",
        "classifier: KNN\n",
        "\n",
        "accuracy: 67%"
      ],
      "metadata": {
        "id": "FZnAFziMOs01"
      }
    },
    {
      "cell_type": "code",
      "source": [
        "#set vectorizer to use stop_words='english'\n",
        "tfidf_Vect = TfidfVectorizer(stop_words='english')\n",
        "#get X_train\n",
        "X_train_tfidf = tfidf_Vect.fit_transform(twenty_train.data)"
      ],
      "metadata": {
        "id": "-mCWmbLOUC81"
      },
      "execution_count": null,
      "outputs": []
    },
    {
      "cell_type": "code",
      "source": [
        "#use KNN\n",
        "clf = KNeighborsClassifier()\n",
        "#fit the data\n",
        "clf.fit(X_train_tfidf, twenty_train.target)"
      ],
      "metadata": {
        "colab": {
          "base_uri": "https://localhost:8080/"
        },
        "id": "XgBE3tIRUV8R",
        "outputId": "5c58034a-4765-4a1f-fca4-066c4ed6413f"
      },
      "execution_count": null,
      "outputs": [
        {
          "output_type": "execute_result",
          "data": {
            "text/plain": [
              "KNeighborsClassifier()"
            ]
          },
          "metadata": {},
          "execution_count": 19
        }
      ]
    },
    {
      "cell_type": "code",
      "source": [
        "#get test data\n",
        "twenty_test = fetch_20newsgroups(subset='test', shuffle=True)"
      ],
      "metadata": {
        "id": "51f2YRyGUYWk"
      },
      "execution_count": null,
      "outputs": []
    },
    {
      "cell_type": "code",
      "source": [
        "#get X_test\n",
        "X_test_tfidf = tfidf_Vect.transform(twenty_test.data)"
      ],
      "metadata": {
        "id": "qhm4nUP-UZ1z"
      },
      "execution_count": null,
      "outputs": []
    },
    {
      "cell_type": "code",
      "source": [
        "#predict\n",
        "predicted = clf.predict(X_test_tfidf)\n",
        "#get accuracies\n",
        "score = metrics.accuracy_score(twenty_test.target, predicted)\n",
        "print(score)"
      ],
      "metadata": {
        "colab": {
          "base_uri": "https://localhost:8080/"
        },
        "id": "YB7K06B5Ubgj",
        "outputId": "a5fa7d7a-05ce-451f-f132-6172fb21e297"
      },
      "execution_count": null,
      "outputs": [
        {
          "output_type": "stream",
          "name": "stdout",
          "text": [
            "0.6757833244822092\n"
          ]
        }
      ]
    },
    {
      "cell_type": "markdown",
      "source": [
        "##ICP 7 Q2\n"
      ],
      "metadata": {
        "id": "-p4jeXKPanM7"
      }
    },
    {
      "cell_type": "markdown",
      "source": [
        "### Import Dependencies & Libraries"
      ],
      "metadata": {
        "id": "7kZkzTqtgdQQ"
      }
    },
    {
      "cell_type": "code",
      "metadata": {
        "id": "5-nb_uzddVQJ",
        "colab": {
          "base_uri": "https://localhost:8080/"
        },
        "outputId": "19a1ad89-c991-48b8-a63b-5806693e6402"
      },
      "source": [
        "import nltk\n",
        "import requests\n",
        "from bs4 import BeautifulSoup\n",
        "nltk.download('brown') \n",
        "nltk.download('punkt') \n",
        "nltk.download('tagset')\n",
        "nltk.download('averaged_perceptron_tagger')\n",
        "\n",
        "from nltk.tokenize import sent_tokenize\n",
        "from nltk.stem import PorterStemmer\n",
        "from nltk.tokenize import word_tokenize\n",
        "from nltk import WordNetLemmatizer\n",
        "\n",
        "from nltk import ne_chunk\n",
        "nltk.download('maxent_ne_chunker')\n",
        "nltk.download('words')\n",
        "nltk.download('wordnet')\n",
        "\n",
        "from nltk.probability import FreqDist\n",
        "from nltk.corpus import stopwords\n",
        "import matplotlib.pyplot as plt\n",
        "nltk.download('stopwords')"
      ],
      "execution_count": null,
      "outputs": [
        {
          "output_type": "stream",
          "name": "stdout",
          "text": [
            "[nltk_data] Downloading package brown to /root/nltk_data...\n",
            "[nltk_data]   Unzipping corpora/brown.zip.\n",
            "[nltk_data] Downloading package punkt to /root/nltk_data...\n",
            "[nltk_data]   Unzipping tokenizers/punkt.zip.\n",
            "[nltk_data] Error loading tagset: Package 'tagset' not found in index\n",
            "[nltk_data] Downloading package averaged_perceptron_tagger to\n",
            "[nltk_data]     /root/nltk_data...\n",
            "[nltk_data]   Unzipping taggers/averaged_perceptron_tagger.zip.\n",
            "[nltk_data] Downloading package maxent_ne_chunker to\n",
            "[nltk_data]     /root/nltk_data...\n",
            "[nltk_data]   Unzipping chunkers/maxent_ne_chunker.zip.\n",
            "[nltk_data] Downloading package words to /root/nltk_data...\n",
            "[nltk_data]   Unzipping corpora/words.zip.\n",
            "[nltk_data] Downloading package wordnet to /root/nltk_data...\n",
            "[nltk_data]   Unzipping corpora/wordnet.zip.\n",
            "[nltk_data] Downloading package stopwords to /root/nltk_data...\n",
            "[nltk_data]   Unzipping corpora/stopwords.zip.\n"
          ]
        },
        {
          "output_type": "execute_result",
          "data": {
            "text/plain": [
              "True"
            ]
          },
          "metadata": {},
          "execution_count": 23
        }
      ]
    },
    {
      "cell_type": "markdown",
      "source": [
        "### Get paragraphs from the fox and crow story\n",
        "Using BeautifulSoup, we can get paragraphs as a list. We need to use the .text tag to avoid adding \\<p><\\p> tags to our list."
      ],
      "metadata": {
        "id": "q1cOKbwkg4sS"
      }
    },
    {
      "cell_type": "code",
      "source": [
        "#get link we're gonna parse through\n",
        "html = requests.get(\"https://www.storynory.com/fox-and-the-crow/\")\n",
        "\n",
        "\n",
        "#set up the html parser\n",
        "htmlParse = BeautifulSoup(html.content, \"html.parser\")\n",
        "\n",
        "#initialize list to store paragraphs\n",
        "fox_crow = []\n",
        "#loop through document to get paragraphs\n",
        "for para in htmlParse.find_all(\"p\"):\n",
        "    fox_crow.append(para.text)\n",
        "\n",
        "#discard the last 5 paragraphs (legal material)\n",
        "fox_crow = fox_crow [:-5]\n",
        "fox_crow"
      ],
      "metadata": {
        "colab": {
          "base_uri": "https://localhost:8080/"
        },
        "id": "QtmuLv_DEcY9",
        "outputId": "9322b3e9-6f62-4eb3-cfe2-03d9bf4d15b7"
      },
      "execution_count": null,
      "outputs": [
        {
          "output_type": "execute_result",
          "data": {
            "text/plain": [
              "['I bet you can’t guess what I like to eat best of all? Yes, I knew that you would say that foxes like to eat hens best, and stolen ones at that. I don’t mind admitting that I wouldn’t ever say no to a nice fat chicken wing once in a while. But not many people know that what foxes appreciate even more than chicken, is a nice piece of cheese once in a while.',\n",
              " 'Well today I ate a wonderfully rich and creamy slice of cheddar for my breakfast. It was kindly given to me by a beautiful black-feathered bird whose voice is even more wonderful than her looks. No, I don’t mean a sky-lark, or a fancy bird of paradise. I’m talking about Miss Crow, up in that tree.',\n",
              " 'It was a fine bright morning, and I was following my sharp nose through the woods in search of a bite to eat, when I caught a cheesy smell on the breeze. I looked up into the tree and there on the branch I saw Miss Crow, looking terribly pleased with herself, for in her beak she held a large piece of cheese. It was stolen, no doubt, from the farmer over the hill, but I’m not one to go around accusing people of this and that.',\n",
              " 'I called up to my neighbour and said: “Good morning Miss Crow, you are looking very lovely today, if I may say so.” Miss Crow cocked her head on one side and looked at me with her beady little eye, but she kept her beak firmly closed on the cheese.',\n",
              " '“Such a charming creature,” I mused to myself, making sure nevertheless that she could overhear. “Such a fine sheen on those wondrous black feathers. What wings! What legs! And that beak, exquisite!”',\n",
              " 'I could see that Miss Crow was paying close attention to my words, even though she was pretending ever so hard not to hear.',\n",
              " 'So I gazed up at the tree with admiration and love in my eyes and said: “Ah, my heart is smitten by this wonderful bird. If only I could hear her voice. I’m sure that such a charming creature must sing most sweetly! If I could but hear one line of her song, I would hail her as the Princess of The Forest!”',\n",
              " 'Now I could see my words had hit home. Swelling with pride, Miss Crow puffed up her feathers and began to sing the most lovely music I have ever heard.',\n",
              " '“CAAWWWWWWWWW!”',\n",
              " 'Well alright, I know that you are saying that Miss Crow’s voice is not exactly star quality, but to me that “cawww!” was just the sound that I’d been waiting for. Because as soon as she opened her beak, the cheese fell to the ground and I snapped up my breakfast.',\n",
              " 'Which only goes to show that: Flattery will get you everywhere.']"
            ]
          },
          "metadata": {},
          "execution_count": 24
        }
      ]
    },
    {
      "cell_type": "markdown",
      "source": [
        "Transform our list of strings into 1 coherent paragraph using a join method"
      ],
      "metadata": {
        "id": "8bK1wiGHhUkX"
      }
    },
    {
      "cell_type": "code",
      "source": [
        "fox_crow_string = ' '.join(fox_crow)\n",
        "fox_crow_string"
      ],
      "metadata": {
        "colab": {
          "base_uri": "https://localhost:8080/",
          "height": 87
        },
        "id": "pxfTKyPkEcWM",
        "outputId": "1c9d8438-b10b-42e4-ea8a-8b38db5cb3b0"
      },
      "execution_count": null,
      "outputs": [
        {
          "output_type": "execute_result",
          "data": {
            "text/plain": [
              "'I bet you can’t guess what I like to eat best of all? Yes, I knew that you would say that foxes like to eat hens best, and stolen ones at that. I don’t mind admitting that I wouldn’t ever say no to a nice fat chicken wing once in a while. But not many people know that what foxes appreciate even more than chicken, is a nice piece of cheese once in a while. Well today I ate a wonderfully rich and creamy slice of cheddar for my breakfast. It was kindly given to me by a beautiful black-feathered bird whose voice is even more wonderful than her looks. No, I don’t mean a sky-lark, or a fancy bird of paradise. I’m talking about Miss Crow, up in that tree. It was a fine bright morning, and I was following my sharp nose through the woods in search of a bite to eat, when I caught a cheesy smell on the breeze. I looked up into the tree and there on the branch I saw Miss Crow, looking terribly pleased with herself, for in her beak she held a large piece of cheese. It was stolen, no doubt, from the farmer over the hill, but I’m not one to go around accusing people of this and that. I called up to my neighbour and said: “Good morning Miss Crow, you are looking very lovely today, if I may say so.” Miss Crow cocked her head on one side and looked at me with her beady little eye, but she kept her beak firmly closed on the cheese. “Such a charming creature,” I mused to myself, making sure nevertheless that she could overhear. “Such a fine sheen on those wondrous black feathers. What wings! What legs! And that beak, exquisite!” I could see that Miss Crow was paying close attention to my words, even though she was pretending ever so hard not to hear. So I gazed up at the tree with admiration and love in my eyes and said: “Ah, my heart is smitten by this wonderful bird. If only I could hear her voice. I’m sure that such a charming creature must sing most sweetly! If I could but hear one line of her song, I would hail her as the Princess of The Forest!” Now I could see my words had hit home. Swelling with pride, Miss Crow puffed up her feathers and began to sing the most lovely music I have ever heard. “CAAWWWWWWWWW!” Well alright, I know that you are saying that Miss Crow’s voice is not exactly star quality, but to me that “cawww!” was just the sound that I’d been waiting for. Because as soon as she opened her beak, the cheese fell to the ground and I snapped up my breakfast. Which only goes to show that: Flattery will get you everywhere.'"
            ],
            "application/vnd.google.colaboratory.intrinsic+json": {
              "type": "string"
            }
          },
          "metadata": {},
          "execution_count": 25
        }
      ]
    },
    {
      "cell_type": "markdown",
      "source": [
        "### Sentence Tokenization\n",
        "We use the sent_tokenize method to split our long string into a list where each element is 1 sentence"
      ],
      "metadata": {
        "id": "qk_7aeIxhdyG"
      }
    },
    {
      "cell_type": "code",
      "source": [
        "# Tokenize by sentence\n",
        "fox_crow_sent = sent_tokenize(fox_crow_string)\n",
        "\n",
        "print(fox_crow_sent)"
      ],
      "metadata": {
        "colab": {
          "base_uri": "https://localhost:8080/"
        },
        "id": "zs6UMFJ9EcUI",
        "outputId": "961ad1f1-7cba-484e-f6b2-503351ec9a34"
      },
      "execution_count": null,
      "outputs": [
        {
          "output_type": "stream",
          "name": "stdout",
          "text": [
            "['I bet you can’t guess what I like to eat best of all?', 'Yes, I knew that you would say that foxes like to eat hens best, and stolen ones at that.', 'I don’t mind admitting that I wouldn’t ever say no to a nice fat chicken wing once in a while.', 'But not many people know that what foxes appreciate even more than chicken, is a nice piece of cheese once in a while.', 'Well today I ate a wonderfully rich and creamy slice of cheddar for my breakfast.', 'It was kindly given to me by a beautiful black-feathered bird whose voice is even more wonderful than her looks.', 'No, I don’t mean a sky-lark, or a fancy bird of paradise.', 'I’m talking about Miss Crow, up in that tree.', 'It was a fine bright morning, and I was following my sharp nose through the woods in search of a bite to eat, when I caught a cheesy smell on the breeze.', 'I looked up into the tree and there on the branch I saw Miss Crow, looking terribly pleased with herself, for in her beak she held a large piece of cheese.', 'It was stolen, no doubt, from the farmer over the hill, but I’m not one to go around accusing people of this and that.', 'I called up to my neighbour and said: “Good morning Miss Crow, you are looking very lovely today, if I may say so.” Miss Crow cocked her head on one side and looked at me with her beady little eye, but she kept her beak firmly closed on the cheese.', '“Such a charming creature,” I mused to myself, making sure nevertheless that she could overhear.', '“Such a fine sheen on those wondrous black feathers.', 'What wings!', 'What legs!', 'And that beak, exquisite!” I could see that Miss Crow was paying close attention to my words, even though she was pretending ever so hard not to hear.', 'So I gazed up at the tree with admiration and love in my eyes and said: “Ah, my heart is smitten by this wonderful bird.', 'If only I could hear her voice.', 'I’m sure that such a charming creature must sing most sweetly!', 'If I could but hear one line of her song, I would hail her as the Princess of The Forest!” Now I could see my words had hit home.', 'Swelling with pride, Miss Crow puffed up her feathers and began to sing the most lovely music I have ever heard.', '“CAAWWWWWWWWW!” Well alright, I know that you are saying that Miss Crow’s voice is not exactly star quality, but to me that “cawww!” was just the sound that I’d been waiting for.', 'Because as soon as she opened her beak, the cheese fell to the ground and I snapped up my breakfast.', 'Which only goes to show that: Flattery will get you everywhere.']\n"
          ]
        }
      ]
    },
    {
      "cell_type": "markdown",
      "source": [
        "### Word Tokenization & POS Tagging\n",
        "We use the word_tokenize method to split our long string into a list where each element is 1 word.\n",
        "\n",
        "We then use the pos_tag method to add tags to each word.\n",
        "\n",
        "We also remove the punctuation"
      ],
      "metadata": {
        "id": "GKw6Zb6qhpJn"
      }
    },
    {
      "cell_type": "code",
      "source": [
        "# Tokenize by word\n",
        "fox_crow_words = word_tokenize(fox_crow_string)\n",
        "\n",
        "# Empty list to store words:\n",
        "temp_no_punc = []\n",
        "\n",
        "# Removing punctuation marks :\n",
        "for w in fox_crow_words:\n",
        "    if w.isalpha():\n",
        "        temp_no_punc.append(w)\n",
        "\n",
        "# Set the word list\n",
        "fox_crow_words = temp_no_punc\n",
        "\n",
        "# Get the POS tags for each word\n",
        "fox_crow_tagged = nltk.pos_tag(fox_crow_words)\n",
        "print(fox_crow_tagged)"
      ],
      "metadata": {
        "colab": {
          "base_uri": "https://localhost:8080/"
        },
        "id": "Jq2E3bPmEcRM",
        "outputId": "72f70f15-43c7-4d4a-9286-6e34e76a9659"
      },
      "execution_count": null,
      "outputs": [
        {
          "output_type": "stream",
          "name": "stdout",
          "text": [
            "[('I', 'PRP'), ('bet', 'VBP'), ('you', 'PRP'), ('can', 'MD'), ('t', 'VB'), ('guess', 'VB'), ('what', 'WP'), ('I', 'PRP'), ('like', 'VBP'), ('to', 'TO'), ('eat', 'VB'), ('best', 'JJS'), ('of', 'IN'), ('all', 'DT'), ('Yes', 'NNP'), ('I', 'PRP'), ('knew', 'VBD'), ('that', 'IN'), ('you', 'PRP'), ('would', 'MD'), ('say', 'VB'), ('that', 'IN'), ('foxes', 'NNS'), ('like', 'IN'), ('to', 'TO'), ('eat', 'VB'), ('hens', 'NNS'), ('best', 'JJS'), ('and', 'CC'), ('stolen', 'VBN'), ('ones', 'NNS'), ('at', 'IN'), ('that', 'DT'), ('I', 'PRP'), ('don', 'VBP'), ('t', 'JJ'), ('mind', 'NN'), ('admitting', 'VBG'), ('that', 'IN'), ('I', 'PRP'), ('wouldn', 'VBP'), ('t', 'JJ'), ('ever', 'RB'), ('say', 'VBP'), ('no', 'UH'), ('to', 'TO'), ('a', 'DT'), ('nice', 'JJ'), ('fat', 'NN'), ('chicken', 'NN'), ('wing', 'VBG'), ('once', 'RB'), ('in', 'IN'), ('a', 'DT'), ('while', 'NN'), ('But', 'CC'), ('not', 'RB'), ('many', 'JJ'), ('people', 'NNS'), ('know', 'VBP'), ('that', 'IN'), ('what', 'WP'), ('foxes', 'VBP'), ('appreciate', 'VB'), ('even', 'RB'), ('more', 'JJR'), ('than', 'IN'), ('chicken', 'NN'), ('is', 'VBZ'), ('a', 'DT'), ('nice', 'JJ'), ('piece', 'NN'), ('of', 'IN'), ('cheese', 'JJ'), ('once', 'RB'), ('in', 'IN'), ('a', 'DT'), ('while', 'NN'), ('Well', 'RB'), ('today', 'NN'), ('I', 'PRP'), ('ate', 'VBP'), ('a', 'DT'), ('wonderfully', 'RB'), ('rich', 'JJ'), ('and', 'CC'), ('creamy', 'JJ'), ('slice', 'NN'), ('of', 'IN'), ('cheddar', 'NN'), ('for', 'IN'), ('my', 'PRP$'), ('breakfast', 'NN'), ('It', 'PRP'), ('was', 'VBD'), ('kindly', 'RB'), ('given', 'VBN'), ('to', 'TO'), ('me', 'PRP'), ('by', 'IN'), ('a', 'DT'), ('beautiful', 'JJ'), ('bird', 'NN'), ('whose', 'WP$'), ('voice', 'NN'), ('is', 'VBZ'), ('even', 'RB'), ('more', 'RBR'), ('wonderful', 'JJ'), ('than', 'IN'), ('her', 'PRP$'), ('looks', 'JJ'), ('No', 'NNP'), ('I', 'PRP'), ('don', 'VBP'), ('t', 'JJ'), ('mean', 'VBP'), ('a', 'DT'), ('or', 'CC'), ('a', 'DT'), ('fancy', 'JJ'), ('bird', 'NN'), ('of', 'IN'), ('paradise', 'NN'), ('I', 'PRP'), ('m', 'VBP'), ('talking', 'VBG'), ('about', 'IN'), ('Miss', 'NNP'), ('Crow', 'NNP'), ('up', 'RP'), ('in', 'IN'), ('that', 'DT'), ('tree', 'NN'), ('It', 'PRP'), ('was', 'VBD'), ('a', 'DT'), ('fine', 'JJ'), ('bright', 'JJ'), ('morning', 'NN'), ('and', 'CC'), ('I', 'PRP'), ('was', 'VBD'), ('following', 'VBG'), ('my', 'PRP$'), ('sharp', 'JJ'), ('nose', 'JJ'), ('through', 'IN'), ('the', 'DT'), ('woods', 'NNS'), ('in', 'IN'), ('search', 'NN'), ('of', 'IN'), ('a', 'DT'), ('bite', 'NN'), ('to', 'TO'), ('eat', 'VB'), ('when', 'WRB'), ('I', 'PRP'), ('caught', 'VBD'), ('a', 'DT'), ('cheesy', 'NN'), ('smell', 'NN'), ('on', 'IN'), ('the', 'DT'), ('breeze', 'NN'), ('I', 'PRP'), ('looked', 'VBD'), ('up', 'RB'), ('into', 'IN'), ('the', 'DT'), ('tree', 'NN'), ('and', 'CC'), ('there', 'RB'), ('on', 'IN'), ('the', 'DT'), ('branch', 'NN'), ('I', 'PRP'), ('saw', 'VBD'), ('Miss', 'NNP'), ('Crow', 'NNP'), ('looking', 'VBG'), ('terribly', 'RB'), ('pleased', 'VBN'), ('with', 'IN'), ('herself', 'PRP'), ('for', 'IN'), ('in', 'IN'), ('her', 'PRP$'), ('beak', 'NN'), ('she', 'PRP'), ('held', 'VBD'), ('a', 'DT'), ('large', 'JJ'), ('piece', 'NN'), ('of', 'IN'), ('cheese', 'NN'), ('It', 'PRP'), ('was', 'VBD'), ('stolen', 'VBN'), ('no', 'DT'), ('doubt', 'NN'), ('from', 'IN'), ('the', 'DT'), ('farmer', 'NN'), ('over', 'IN'), ('the', 'DT'), ('hill', 'NN'), ('but', 'CC'), ('I', 'PRP'), ('m', 'VBP'), ('not', 'RB'), ('one', 'CD'), ('to', 'TO'), ('go', 'VB'), ('around', 'RP'), ('accusing', 'VBG'), ('people', 'NNS'), ('of', 'IN'), ('this', 'DT'), ('and', 'CC'), ('that', 'IN'), ('I', 'PRP'), ('called', 'VBD'), ('up', 'RB'), ('to', 'TO'), ('my', 'PRP$'), ('neighbour', 'NN'), ('and', 'CC'), ('said', 'VBD'), ('Good', 'JJ'), ('morning', 'NN'), ('Miss', 'NNP'), ('Crow', 'NNP'), ('you', 'PRP'), ('are', 'VBP'), ('looking', 'VBG'), ('very', 'RB'), ('lovely', 'RB'), ('today', 'NN'), ('if', 'IN'), ('I', 'PRP'), ('may', 'MD'), ('say', 'VB'), ('Miss', 'NNP'), ('Crow', 'NNP'), ('cocked', 'VBD'), ('her', 'PRP$'), ('head', 'NN'), ('on', 'IN'), ('one', 'CD'), ('side', 'NN'), ('and', 'CC'), ('looked', 'VBD'), ('at', 'IN'), ('me', 'PRP'), ('with', 'IN'), ('her', 'PRP$'), ('beady', 'JJ'), ('little', 'JJ'), ('eye', 'NN'), ('but', 'CC'), ('she', 'PRP'), ('kept', 'VBD'), ('her', 'PRP'), ('beak', 'NN'), ('firmly', 'RB'), ('closed', 'VBD'), ('on', 'IN'), ('the', 'DT'), ('cheese', 'NN'), ('Such', 'PDT'), ('a', 'DT'), ('charming', 'JJ'), ('creature', 'NN'), ('I', 'PRP'), ('mused', 'VBD'), ('to', 'TO'), ('myself', 'VB'), ('making', 'VBG'), ('sure', 'JJ'), ('nevertheless', 'NN'), ('that', 'IN'), ('she', 'PRP'), ('could', 'MD'), ('overhear', 'VB'), ('Such', 'PDT'), ('a', 'DT'), ('fine', 'JJ'), ('sheen', 'NN'), ('on', 'IN'), ('those', 'DT'), ('wondrous', 'JJ'), ('black', 'JJ'), ('feathers', 'NNS'), ('What', 'WP'), ('wings', 'VBZ'), ('What', 'WP'), ('legs', 'NN'), ('And', 'CC'), ('that', 'IN'), ('beak', 'JJ'), ('exquisite', 'NN'), ('I', 'PRP'), ('could', 'MD'), ('see', 'VB'), ('that', 'IN'), ('Miss', 'NNP'), ('Crow', 'NNP'), ('was', 'VBD'), ('paying', 'VBG'), ('close', 'JJ'), ('attention', 'NN'), ('to', 'TO'), ('my', 'PRP$'), ('words', 'NNS'), ('even', 'RB'), ('though', 'IN'), ('she', 'PRP'), ('was', 'VBD'), ('pretending', 'VBG'), ('ever', 'RB'), ('so', 'RB'), ('hard', 'JJ'), ('not', 'RB'), ('to', 'TO'), ('hear', 'VB'), ('So', 'RB'), ('I', 'PRP'), ('gazed', 'VBD'), ('up', 'RB'), ('at', 'IN'), ('the', 'DT'), ('tree', 'NN'), ('with', 'IN'), ('admiration', 'NN'), ('and', 'CC'), ('love', 'NN'), ('in', 'IN'), ('my', 'PRP$'), ('eyes', 'NNS'), ('and', 'CC'), ('said', 'VBD'), ('Ah', 'NNP'), ('my', 'PRP$'), ('heart', 'NN'), ('is', 'VBZ'), ('smitten', 'VBN'), ('by', 'IN'), ('this', 'DT'), ('wonderful', 'JJ'), ('bird', 'NN'), ('If', 'IN'), ('only', 'RB'), ('I', 'PRP'), ('could', 'MD'), ('hear', 'VB'), ('her', 'PRP$'), ('voice', 'NN'), ('I', 'PRP'), ('m', 'VBP'), ('sure', 'JJ'), ('that', 'IN'), ('such', 'PDT'), ('a', 'DT'), ('charming', 'JJ'), ('creature', 'NN'), ('must', 'MD'), ('sing', 'VB'), ('most', 'RBS'), ('sweetly', 'RB'), ('If', 'IN'), ('I', 'PRP'), ('could', 'MD'), ('but', 'CC'), ('hear', 'VB'), ('one', 'CD'), ('line', 'NN'), ('of', 'IN'), ('her', 'PRP$'), ('song', 'NN'), ('I', 'PRP'), ('would', 'MD'), ('hail', 'VB'), ('her', 'PRP'), ('as', 'IN'), ('the', 'DT'), ('Princess', 'NNP'), ('of', 'IN'), ('The', 'DT'), ('Forest', 'NNP'), ('Now', 'RB'), ('I', 'PRP'), ('could', 'MD'), ('see', 'VB'), ('my', 'PRP$'), ('words', 'NNS'), ('had', 'VBD'), ('hit', 'VBN'), ('home', 'NN'), ('Swelling', 'VBG'), ('with', 'IN'), ('pride', 'NN'), ('Miss', 'NNP'), ('Crow', 'NNP'), ('puffed', 'VBD'), ('up', 'RP'), ('her', 'PRP$'), ('feathers', 'NNS'), ('and', 'CC'), ('began', 'VBD'), ('to', 'TO'), ('sing', 'VBG'), ('the', 'DT'), ('most', 'RBS'), ('lovely', 'JJ'), ('music', 'NN'), ('I', 'PRP'), ('have', 'VBP'), ('ever', 'RB'), ('heard', 'VBN'), ('CAAWWWWWWWWW', 'NNP'), ('Well', 'NNP'), ('alright', 'RB'), ('I', 'PRP'), ('know', 'VBP'), ('that', 'IN'), ('you', 'PRP'), ('are', 'VBP'), ('saying', 'VBG'), ('that', 'IN'), ('Miss', 'NNP'), ('Crow', 'NNP'), ('s', 'JJ'), ('voice', 'NN'), ('is', 'VBZ'), ('not', 'RB'), ('exactly', 'RB'), ('star', 'JJ'), ('quality', 'NN'), ('but', 'CC'), ('to', 'TO'), ('me', 'PRP'), ('that', 'IN'), ('cawww', 'NN'), ('was', 'VBD'), ('just', 'RB'), ('the', 'DT'), ('sound', 'NN'), ('that', 'IN'), ('I', 'PRP'), ('d', 'VBP'), ('been', 'VBN'), ('waiting', 'VBG'), ('for', 'IN'), ('Because', 'IN'), ('as', 'RB'), ('soon', 'RB'), ('as', 'IN'), ('she', 'PRP'), ('opened', 'VBD'), ('her', 'PRP'), ('beak', 'VB'), ('the', 'DT'), ('cheese', 'NN'), ('fell', 'VBD'), ('to', 'TO'), ('the', 'DT'), ('ground', 'NN'), ('and', 'CC'), ('I', 'PRP'), ('snapped', 'VBD'), ('up', 'RP'), ('my', 'PRP$'), ('breakfast', 'NN'), ('Which', 'NNP'), ('only', 'RB'), ('goes', 'VBZ'), ('to', 'TO'), ('show', 'VB'), ('that', 'DT'), ('Flattery', 'NNP'), ('will', 'MD'), ('get', 'VB'), ('you', 'PRP'), ('everywhere', 'RB')]\n"
          ]
        }
      ]
    },
    {
      "cell_type": "markdown",
      "source": [
        "### Stemming\n",
        "Create a Porter Stemmer object and stem the words in the story"
      ],
      "metadata": {
        "id": "kwMdXATxiSlO"
      }
    },
    {
      "cell_type": "code",
      "source": [
        "# Iniialize Stemming object\n",
        "stem = PorterStemmer()\n",
        "\n",
        "# Initialize empty list for stem words\n",
        "fox_crow_stem = []\n",
        "#Loop through words and get stemmed version\n",
        "for word in fox_crow_words:\n",
        "  fox_crow_stem.append(stem.stem(word))\n",
        "\n",
        "#Print first 20 stemmed words\n",
        "for word in fox_crow_stem[:20]:\n",
        "  print(word)"
      ],
      "metadata": {
        "colab": {
          "base_uri": "https://localhost:8080/"
        },
        "id": "qAJWDbOMEcME",
        "outputId": "2090f61a-8b8e-414d-f41d-e12105688656"
      },
      "execution_count": null,
      "outputs": [
        {
          "output_type": "stream",
          "name": "stdout",
          "text": [
            "I\n",
            "bet\n",
            "you\n",
            "can\n",
            "t\n",
            "guess\n",
            "what\n",
            "I\n",
            "like\n",
            "to\n",
            "eat\n",
            "best\n",
            "of\n",
            "all\n",
            "ye\n",
            "I\n",
            "knew\n",
            "that\n",
            "you\n",
            "would\n"
          ]
        }
      ]
    },
    {
      "cell_type": "markdown",
      "source": [
        "### Lemmatizing\n",
        "Create a WordNet Lemmatizer object and get the lemma of each word in the story"
      ],
      "metadata": {
        "id": "0PPhZsNliiDE"
      }
    },
    {
      "cell_type": "code",
      "source": [
        "# Create Lemma object\n",
        "lemma = WordNetLemmatizer()\n",
        "\n",
        "# Initialize empty list to store lemmas\n",
        "fox_crow_lemma = []\n",
        "# Loop through words and get the lemma for each\n",
        "for word in fox_crow_words:\n",
        "  fox_crow_lemma.append(lemma.lemmatize(word))\n",
        "\n",
        "# Print the lemmas\n",
        "for word in fox_crow_lemma[:20]:\n",
        "  print(word)"
      ],
      "metadata": {
        "colab": {
          "base_uri": "https://localhost:8080/"
        },
        "id": "oZ5TET32EcJL",
        "outputId": "85b464f5-464c-4d5d-a20f-5b7094e24957"
      },
      "execution_count": null,
      "outputs": [
        {
          "output_type": "stream",
          "name": "stdout",
          "text": [
            "I\n",
            "bet\n",
            "you\n",
            "can\n",
            "t\n",
            "guess\n",
            "what\n",
            "I\n",
            "like\n",
            "to\n",
            "eat\n",
            "best\n",
            "of\n",
            "all\n",
            "Yes\n",
            "I\n",
            "knew\n",
            "that\n",
            "you\n",
            "would\n"
          ]
        }
      ]
    },
    {
      "cell_type": "markdown",
      "source": [
        "### Trigrams\n",
        "Get the trigrams of the story as a list"
      ],
      "metadata": {
        "id": "TeBfQoN7jNHP"
      }
    },
    {
      "cell_type": "code",
      "source": [
        "# Get all of the Trigrams for \n",
        "fox_crow_trigram = [(a, b, c) for (a, b, c) in nltk.trigrams(fox_crow_words)]\n",
        "\n",
        "# Print the Trigrams\n",
        "fox_crow_trigram"
      ],
      "metadata": {
        "id": "dBsOZjuHEcAy",
        "colab": {
          "base_uri": "https://localhost:8080/"
        },
        "outputId": "6281f4a3-5f04-4b11-f0df-86cc01d9f442"
      },
      "execution_count": null,
      "outputs": [
        {
          "output_type": "execute_result",
          "data": {
            "text/plain": [
              "[('I', 'bet', 'you'),\n",
              " ('bet', 'you', 'can'),\n",
              " ('you', 'can', 't'),\n",
              " ('can', 't', 'guess'),\n",
              " ('t', 'guess', 'what'),\n",
              " ('guess', 'what', 'I'),\n",
              " ('what', 'I', 'like'),\n",
              " ('I', 'like', 'to'),\n",
              " ('like', 'to', 'eat'),\n",
              " ('to', 'eat', 'best'),\n",
              " ('eat', 'best', 'of'),\n",
              " ('best', 'of', 'all'),\n",
              " ('of', 'all', 'Yes'),\n",
              " ('all', 'Yes', 'I'),\n",
              " ('Yes', 'I', 'knew'),\n",
              " ('I', 'knew', 'that'),\n",
              " ('knew', 'that', 'you'),\n",
              " ('that', 'you', 'would'),\n",
              " ('you', 'would', 'say'),\n",
              " ('would', 'say', 'that'),\n",
              " ('say', 'that', 'foxes'),\n",
              " ('that', 'foxes', 'like'),\n",
              " ('foxes', 'like', 'to'),\n",
              " ('like', 'to', 'eat'),\n",
              " ('to', 'eat', 'hens'),\n",
              " ('eat', 'hens', 'best'),\n",
              " ('hens', 'best', 'and'),\n",
              " ('best', 'and', 'stolen'),\n",
              " ('and', 'stolen', 'ones'),\n",
              " ('stolen', 'ones', 'at'),\n",
              " ('ones', 'at', 'that'),\n",
              " ('at', 'that', 'I'),\n",
              " ('that', 'I', 'don'),\n",
              " ('I', 'don', 't'),\n",
              " ('don', 't', 'mind'),\n",
              " ('t', 'mind', 'admitting'),\n",
              " ('mind', 'admitting', 'that'),\n",
              " ('admitting', 'that', 'I'),\n",
              " ('that', 'I', 'wouldn'),\n",
              " ('I', 'wouldn', 't'),\n",
              " ('wouldn', 't', 'ever'),\n",
              " ('t', 'ever', 'say'),\n",
              " ('ever', 'say', 'no'),\n",
              " ('say', 'no', 'to'),\n",
              " ('no', 'to', 'a'),\n",
              " ('to', 'a', 'nice'),\n",
              " ('a', 'nice', 'fat'),\n",
              " ('nice', 'fat', 'chicken'),\n",
              " ('fat', 'chicken', 'wing'),\n",
              " ('chicken', 'wing', 'once'),\n",
              " ('wing', 'once', 'in'),\n",
              " ('once', 'in', 'a'),\n",
              " ('in', 'a', 'while'),\n",
              " ('a', 'while', 'But'),\n",
              " ('while', 'But', 'not'),\n",
              " ('But', 'not', 'many'),\n",
              " ('not', 'many', 'people'),\n",
              " ('many', 'people', 'know'),\n",
              " ('people', 'know', 'that'),\n",
              " ('know', 'that', 'what'),\n",
              " ('that', 'what', 'foxes'),\n",
              " ('what', 'foxes', 'appreciate'),\n",
              " ('foxes', 'appreciate', 'even'),\n",
              " ('appreciate', 'even', 'more'),\n",
              " ('even', 'more', 'than'),\n",
              " ('more', 'than', 'chicken'),\n",
              " ('than', 'chicken', 'is'),\n",
              " ('chicken', 'is', 'a'),\n",
              " ('is', 'a', 'nice'),\n",
              " ('a', 'nice', 'piece'),\n",
              " ('nice', 'piece', 'of'),\n",
              " ('piece', 'of', 'cheese'),\n",
              " ('of', 'cheese', 'once'),\n",
              " ('cheese', 'once', 'in'),\n",
              " ('once', 'in', 'a'),\n",
              " ('in', 'a', 'while'),\n",
              " ('a', 'while', 'Well'),\n",
              " ('while', 'Well', 'today'),\n",
              " ('Well', 'today', 'I'),\n",
              " ('today', 'I', 'ate'),\n",
              " ('I', 'ate', 'a'),\n",
              " ('ate', 'a', 'wonderfully'),\n",
              " ('a', 'wonderfully', 'rich'),\n",
              " ('wonderfully', 'rich', 'and'),\n",
              " ('rich', 'and', 'creamy'),\n",
              " ('and', 'creamy', 'slice'),\n",
              " ('creamy', 'slice', 'of'),\n",
              " ('slice', 'of', 'cheddar'),\n",
              " ('of', 'cheddar', 'for'),\n",
              " ('cheddar', 'for', 'my'),\n",
              " ('for', 'my', 'breakfast'),\n",
              " ('my', 'breakfast', 'It'),\n",
              " ('breakfast', 'It', 'was'),\n",
              " ('It', 'was', 'kindly'),\n",
              " ('was', 'kindly', 'given'),\n",
              " ('kindly', 'given', 'to'),\n",
              " ('given', 'to', 'me'),\n",
              " ('to', 'me', 'by'),\n",
              " ('me', 'by', 'a'),\n",
              " ('by', 'a', 'beautiful'),\n",
              " ('a', 'beautiful', 'bird'),\n",
              " ('beautiful', 'bird', 'whose'),\n",
              " ('bird', 'whose', 'voice'),\n",
              " ('whose', 'voice', 'is'),\n",
              " ('voice', 'is', 'even'),\n",
              " ('is', 'even', 'more'),\n",
              " ('even', 'more', 'wonderful'),\n",
              " ('more', 'wonderful', 'than'),\n",
              " ('wonderful', 'than', 'her'),\n",
              " ('than', 'her', 'looks'),\n",
              " ('her', 'looks', 'No'),\n",
              " ('looks', 'No', 'I'),\n",
              " ('No', 'I', 'don'),\n",
              " ('I', 'don', 't'),\n",
              " ('don', 't', 'mean'),\n",
              " ('t', 'mean', 'a'),\n",
              " ('mean', 'a', 'or'),\n",
              " ('a', 'or', 'a'),\n",
              " ('or', 'a', 'fancy'),\n",
              " ('a', 'fancy', 'bird'),\n",
              " ('fancy', 'bird', 'of'),\n",
              " ('bird', 'of', 'paradise'),\n",
              " ('of', 'paradise', 'I'),\n",
              " ('paradise', 'I', 'm'),\n",
              " ('I', 'm', 'talking'),\n",
              " ('m', 'talking', 'about'),\n",
              " ('talking', 'about', 'Miss'),\n",
              " ('about', 'Miss', 'Crow'),\n",
              " ('Miss', 'Crow', 'up'),\n",
              " ('Crow', 'up', 'in'),\n",
              " ('up', 'in', 'that'),\n",
              " ('in', 'that', 'tree'),\n",
              " ('that', 'tree', 'It'),\n",
              " ('tree', 'It', 'was'),\n",
              " ('It', 'was', 'a'),\n",
              " ('was', 'a', 'fine'),\n",
              " ('a', 'fine', 'bright'),\n",
              " ('fine', 'bright', 'morning'),\n",
              " ('bright', 'morning', 'and'),\n",
              " ('morning', 'and', 'I'),\n",
              " ('and', 'I', 'was'),\n",
              " ('I', 'was', 'following'),\n",
              " ('was', 'following', 'my'),\n",
              " ('following', 'my', 'sharp'),\n",
              " ('my', 'sharp', 'nose'),\n",
              " ('sharp', 'nose', 'through'),\n",
              " ('nose', 'through', 'the'),\n",
              " ('through', 'the', 'woods'),\n",
              " ('the', 'woods', 'in'),\n",
              " ('woods', 'in', 'search'),\n",
              " ('in', 'search', 'of'),\n",
              " ('search', 'of', 'a'),\n",
              " ('of', 'a', 'bite'),\n",
              " ('a', 'bite', 'to'),\n",
              " ('bite', 'to', 'eat'),\n",
              " ('to', 'eat', 'when'),\n",
              " ('eat', 'when', 'I'),\n",
              " ('when', 'I', 'caught'),\n",
              " ('I', 'caught', 'a'),\n",
              " ('caught', 'a', 'cheesy'),\n",
              " ('a', 'cheesy', 'smell'),\n",
              " ('cheesy', 'smell', 'on'),\n",
              " ('smell', 'on', 'the'),\n",
              " ('on', 'the', 'breeze'),\n",
              " ('the', 'breeze', 'I'),\n",
              " ('breeze', 'I', 'looked'),\n",
              " ('I', 'looked', 'up'),\n",
              " ('looked', 'up', 'into'),\n",
              " ('up', 'into', 'the'),\n",
              " ('into', 'the', 'tree'),\n",
              " ('the', 'tree', 'and'),\n",
              " ('tree', 'and', 'there'),\n",
              " ('and', 'there', 'on'),\n",
              " ('there', 'on', 'the'),\n",
              " ('on', 'the', 'branch'),\n",
              " ('the', 'branch', 'I'),\n",
              " ('branch', 'I', 'saw'),\n",
              " ('I', 'saw', 'Miss'),\n",
              " ('saw', 'Miss', 'Crow'),\n",
              " ('Miss', 'Crow', 'looking'),\n",
              " ('Crow', 'looking', 'terribly'),\n",
              " ('looking', 'terribly', 'pleased'),\n",
              " ('terribly', 'pleased', 'with'),\n",
              " ('pleased', 'with', 'herself'),\n",
              " ('with', 'herself', 'for'),\n",
              " ('herself', 'for', 'in'),\n",
              " ('for', 'in', 'her'),\n",
              " ('in', 'her', 'beak'),\n",
              " ('her', 'beak', 'she'),\n",
              " ('beak', 'she', 'held'),\n",
              " ('she', 'held', 'a'),\n",
              " ('held', 'a', 'large'),\n",
              " ('a', 'large', 'piece'),\n",
              " ('large', 'piece', 'of'),\n",
              " ('piece', 'of', 'cheese'),\n",
              " ('of', 'cheese', 'It'),\n",
              " ('cheese', 'It', 'was'),\n",
              " ('It', 'was', 'stolen'),\n",
              " ('was', 'stolen', 'no'),\n",
              " ('stolen', 'no', 'doubt'),\n",
              " ('no', 'doubt', 'from'),\n",
              " ('doubt', 'from', 'the'),\n",
              " ('from', 'the', 'farmer'),\n",
              " ('the', 'farmer', 'over'),\n",
              " ('farmer', 'over', 'the'),\n",
              " ('over', 'the', 'hill'),\n",
              " ('the', 'hill', 'but'),\n",
              " ('hill', 'but', 'I'),\n",
              " ('but', 'I', 'm'),\n",
              " ('I', 'm', 'not'),\n",
              " ('m', 'not', 'one'),\n",
              " ('not', 'one', 'to'),\n",
              " ('one', 'to', 'go'),\n",
              " ('to', 'go', 'around'),\n",
              " ('go', 'around', 'accusing'),\n",
              " ('around', 'accusing', 'people'),\n",
              " ('accusing', 'people', 'of'),\n",
              " ('people', 'of', 'this'),\n",
              " ('of', 'this', 'and'),\n",
              " ('this', 'and', 'that'),\n",
              " ('and', 'that', 'I'),\n",
              " ('that', 'I', 'called'),\n",
              " ('I', 'called', 'up'),\n",
              " ('called', 'up', 'to'),\n",
              " ('up', 'to', 'my'),\n",
              " ('to', 'my', 'neighbour'),\n",
              " ('my', 'neighbour', 'and'),\n",
              " ('neighbour', 'and', 'said'),\n",
              " ('and', 'said', 'Good'),\n",
              " ('said', 'Good', 'morning'),\n",
              " ('Good', 'morning', 'Miss'),\n",
              " ('morning', 'Miss', 'Crow'),\n",
              " ('Miss', 'Crow', 'you'),\n",
              " ('Crow', 'you', 'are'),\n",
              " ('you', 'are', 'looking'),\n",
              " ('are', 'looking', 'very'),\n",
              " ('looking', 'very', 'lovely'),\n",
              " ('very', 'lovely', 'today'),\n",
              " ('lovely', 'today', 'if'),\n",
              " ('today', 'if', 'I'),\n",
              " ('if', 'I', 'may'),\n",
              " ('I', 'may', 'say'),\n",
              " ('may', 'say', 'Miss'),\n",
              " ('say', 'Miss', 'Crow'),\n",
              " ('Miss', 'Crow', 'cocked'),\n",
              " ('Crow', 'cocked', 'her'),\n",
              " ('cocked', 'her', 'head'),\n",
              " ('her', 'head', 'on'),\n",
              " ('head', 'on', 'one'),\n",
              " ('on', 'one', 'side'),\n",
              " ('one', 'side', 'and'),\n",
              " ('side', 'and', 'looked'),\n",
              " ('and', 'looked', 'at'),\n",
              " ('looked', 'at', 'me'),\n",
              " ('at', 'me', 'with'),\n",
              " ('me', 'with', 'her'),\n",
              " ('with', 'her', 'beady'),\n",
              " ('her', 'beady', 'little'),\n",
              " ('beady', 'little', 'eye'),\n",
              " ('little', 'eye', 'but'),\n",
              " ('eye', 'but', 'she'),\n",
              " ('but', 'she', 'kept'),\n",
              " ('she', 'kept', 'her'),\n",
              " ('kept', 'her', 'beak'),\n",
              " ('her', 'beak', 'firmly'),\n",
              " ('beak', 'firmly', 'closed'),\n",
              " ('firmly', 'closed', 'on'),\n",
              " ('closed', 'on', 'the'),\n",
              " ('on', 'the', 'cheese'),\n",
              " ('the', 'cheese', 'Such'),\n",
              " ('cheese', 'Such', 'a'),\n",
              " ('Such', 'a', 'charming'),\n",
              " ('a', 'charming', 'creature'),\n",
              " ('charming', 'creature', 'I'),\n",
              " ('creature', 'I', 'mused'),\n",
              " ('I', 'mused', 'to'),\n",
              " ('mused', 'to', 'myself'),\n",
              " ('to', 'myself', 'making'),\n",
              " ('myself', 'making', 'sure'),\n",
              " ('making', 'sure', 'nevertheless'),\n",
              " ('sure', 'nevertheless', 'that'),\n",
              " ('nevertheless', 'that', 'she'),\n",
              " ('that', 'she', 'could'),\n",
              " ('she', 'could', 'overhear'),\n",
              " ('could', 'overhear', 'Such'),\n",
              " ('overhear', 'Such', 'a'),\n",
              " ('Such', 'a', 'fine'),\n",
              " ('a', 'fine', 'sheen'),\n",
              " ('fine', 'sheen', 'on'),\n",
              " ('sheen', 'on', 'those'),\n",
              " ('on', 'those', 'wondrous'),\n",
              " ('those', 'wondrous', 'black'),\n",
              " ('wondrous', 'black', 'feathers'),\n",
              " ('black', 'feathers', 'What'),\n",
              " ('feathers', 'What', 'wings'),\n",
              " ('What', 'wings', 'What'),\n",
              " ('wings', 'What', 'legs'),\n",
              " ('What', 'legs', 'And'),\n",
              " ('legs', 'And', 'that'),\n",
              " ('And', 'that', 'beak'),\n",
              " ('that', 'beak', 'exquisite'),\n",
              " ('beak', 'exquisite', 'I'),\n",
              " ('exquisite', 'I', 'could'),\n",
              " ('I', 'could', 'see'),\n",
              " ('could', 'see', 'that'),\n",
              " ('see', 'that', 'Miss'),\n",
              " ('that', 'Miss', 'Crow'),\n",
              " ('Miss', 'Crow', 'was'),\n",
              " ('Crow', 'was', 'paying'),\n",
              " ('was', 'paying', 'close'),\n",
              " ('paying', 'close', 'attention'),\n",
              " ('close', 'attention', 'to'),\n",
              " ('attention', 'to', 'my'),\n",
              " ('to', 'my', 'words'),\n",
              " ('my', 'words', 'even'),\n",
              " ('words', 'even', 'though'),\n",
              " ('even', 'though', 'she'),\n",
              " ('though', 'she', 'was'),\n",
              " ('she', 'was', 'pretending'),\n",
              " ('was', 'pretending', 'ever'),\n",
              " ('pretending', 'ever', 'so'),\n",
              " ('ever', 'so', 'hard'),\n",
              " ('so', 'hard', 'not'),\n",
              " ('hard', 'not', 'to'),\n",
              " ('not', 'to', 'hear'),\n",
              " ('to', 'hear', 'So'),\n",
              " ('hear', 'So', 'I'),\n",
              " ('So', 'I', 'gazed'),\n",
              " ('I', 'gazed', 'up'),\n",
              " ('gazed', 'up', 'at'),\n",
              " ('up', 'at', 'the'),\n",
              " ('at', 'the', 'tree'),\n",
              " ('the', 'tree', 'with'),\n",
              " ('tree', 'with', 'admiration'),\n",
              " ('with', 'admiration', 'and'),\n",
              " ('admiration', 'and', 'love'),\n",
              " ('and', 'love', 'in'),\n",
              " ('love', 'in', 'my'),\n",
              " ('in', 'my', 'eyes'),\n",
              " ('my', 'eyes', 'and'),\n",
              " ('eyes', 'and', 'said'),\n",
              " ('and', 'said', 'Ah'),\n",
              " ('said', 'Ah', 'my'),\n",
              " ('Ah', 'my', 'heart'),\n",
              " ('my', 'heart', 'is'),\n",
              " ('heart', 'is', 'smitten'),\n",
              " ('is', 'smitten', 'by'),\n",
              " ('smitten', 'by', 'this'),\n",
              " ('by', 'this', 'wonderful'),\n",
              " ('this', 'wonderful', 'bird'),\n",
              " ('wonderful', 'bird', 'If'),\n",
              " ('bird', 'If', 'only'),\n",
              " ('If', 'only', 'I'),\n",
              " ('only', 'I', 'could'),\n",
              " ('I', 'could', 'hear'),\n",
              " ('could', 'hear', 'her'),\n",
              " ('hear', 'her', 'voice'),\n",
              " ('her', 'voice', 'I'),\n",
              " ('voice', 'I', 'm'),\n",
              " ('I', 'm', 'sure'),\n",
              " ('m', 'sure', 'that'),\n",
              " ('sure', 'that', 'such'),\n",
              " ('that', 'such', 'a'),\n",
              " ('such', 'a', 'charming'),\n",
              " ('a', 'charming', 'creature'),\n",
              " ('charming', 'creature', 'must'),\n",
              " ('creature', 'must', 'sing'),\n",
              " ('must', 'sing', 'most'),\n",
              " ('sing', 'most', 'sweetly'),\n",
              " ('most', 'sweetly', 'If'),\n",
              " ('sweetly', 'If', 'I'),\n",
              " ('If', 'I', 'could'),\n",
              " ('I', 'could', 'but'),\n",
              " ('could', 'but', 'hear'),\n",
              " ('but', 'hear', 'one'),\n",
              " ('hear', 'one', 'line'),\n",
              " ('one', 'line', 'of'),\n",
              " ('line', 'of', 'her'),\n",
              " ('of', 'her', 'song'),\n",
              " ('her', 'song', 'I'),\n",
              " ('song', 'I', 'would'),\n",
              " ('I', 'would', 'hail'),\n",
              " ('would', 'hail', 'her'),\n",
              " ('hail', 'her', 'as'),\n",
              " ('her', 'as', 'the'),\n",
              " ('as', 'the', 'Princess'),\n",
              " ('the', 'Princess', 'of'),\n",
              " ('Princess', 'of', 'The'),\n",
              " ('of', 'The', 'Forest'),\n",
              " ('The', 'Forest', 'Now'),\n",
              " ('Forest', 'Now', 'I'),\n",
              " ('Now', 'I', 'could'),\n",
              " ('I', 'could', 'see'),\n",
              " ('could', 'see', 'my'),\n",
              " ('see', 'my', 'words'),\n",
              " ('my', 'words', 'had'),\n",
              " ('words', 'had', 'hit'),\n",
              " ('had', 'hit', 'home'),\n",
              " ('hit', 'home', 'Swelling'),\n",
              " ('home', 'Swelling', 'with'),\n",
              " ('Swelling', 'with', 'pride'),\n",
              " ('with', 'pride', 'Miss'),\n",
              " ('pride', 'Miss', 'Crow'),\n",
              " ('Miss', 'Crow', 'puffed'),\n",
              " ('Crow', 'puffed', 'up'),\n",
              " ('puffed', 'up', 'her'),\n",
              " ('up', 'her', 'feathers'),\n",
              " ('her', 'feathers', 'and'),\n",
              " ('feathers', 'and', 'began'),\n",
              " ('and', 'began', 'to'),\n",
              " ('began', 'to', 'sing'),\n",
              " ('to', 'sing', 'the'),\n",
              " ('sing', 'the', 'most'),\n",
              " ('the', 'most', 'lovely'),\n",
              " ('most', 'lovely', 'music'),\n",
              " ('lovely', 'music', 'I'),\n",
              " ('music', 'I', 'have'),\n",
              " ('I', 'have', 'ever'),\n",
              " ('have', 'ever', 'heard'),\n",
              " ('ever', 'heard', 'CAAWWWWWWWWW'),\n",
              " ('heard', 'CAAWWWWWWWWW', 'Well'),\n",
              " ('CAAWWWWWWWWW', 'Well', 'alright'),\n",
              " ('Well', 'alright', 'I'),\n",
              " ('alright', 'I', 'know'),\n",
              " ('I', 'know', 'that'),\n",
              " ('know', 'that', 'you'),\n",
              " ('that', 'you', 'are'),\n",
              " ('you', 'are', 'saying'),\n",
              " ('are', 'saying', 'that'),\n",
              " ('saying', 'that', 'Miss'),\n",
              " ('that', 'Miss', 'Crow'),\n",
              " ('Miss', 'Crow', 's'),\n",
              " ('Crow', 's', 'voice'),\n",
              " ('s', 'voice', 'is'),\n",
              " ('voice', 'is', 'not'),\n",
              " ('is', 'not', 'exactly'),\n",
              " ('not', 'exactly', 'star'),\n",
              " ('exactly', 'star', 'quality'),\n",
              " ('star', 'quality', 'but'),\n",
              " ('quality', 'but', 'to'),\n",
              " ('but', 'to', 'me'),\n",
              " ('to', 'me', 'that'),\n",
              " ('me', 'that', 'cawww'),\n",
              " ('that', 'cawww', 'was'),\n",
              " ('cawww', 'was', 'just'),\n",
              " ('was', 'just', 'the'),\n",
              " ('just', 'the', 'sound'),\n",
              " ('the', 'sound', 'that'),\n",
              " ('sound', 'that', 'I'),\n",
              " ('that', 'I', 'd'),\n",
              " ('I', 'd', 'been'),\n",
              " ('d', 'been', 'waiting'),\n",
              " ('been', 'waiting', 'for'),\n",
              " ('waiting', 'for', 'Because'),\n",
              " ('for', 'Because', 'as'),\n",
              " ('Because', 'as', 'soon'),\n",
              " ('as', 'soon', 'as'),\n",
              " ('soon', 'as', 'she'),\n",
              " ('as', 'she', 'opened'),\n",
              " ('she', 'opened', 'her'),\n",
              " ('opened', 'her', 'beak'),\n",
              " ('her', 'beak', 'the'),\n",
              " ('beak', 'the', 'cheese'),\n",
              " ('the', 'cheese', 'fell'),\n",
              " ('cheese', 'fell', 'to'),\n",
              " ('fell', 'to', 'the'),\n",
              " ('to', 'the', 'ground'),\n",
              " ('the', 'ground', 'and'),\n",
              " ('ground', 'and', 'I'),\n",
              " ('and', 'I', 'snapped'),\n",
              " ('I', 'snapped', 'up'),\n",
              " ('snapped', 'up', 'my'),\n",
              " ('up', 'my', 'breakfast'),\n",
              " ('my', 'breakfast', 'Which'),\n",
              " ('breakfast', 'Which', 'only'),\n",
              " ('Which', 'only', 'goes'),\n",
              " ('only', 'goes', 'to'),\n",
              " ('goes', 'to', 'show'),\n",
              " ('to', 'show', 'that'),\n",
              " ('show', 'that', 'Flattery'),\n",
              " ('that', 'Flattery', 'will'),\n",
              " ('Flattery', 'will', 'get'),\n",
              " ('will', 'get', 'you'),\n",
              " ('get', 'you', 'everywhere')]"
            ]
          },
          "metadata": {},
          "execution_count": 30
        }
      ]
    },
    {
      "cell_type": "markdown",
      "source": [
        "### Named Entities\n",
        "Get the named entities by passing the tagged word list"
      ],
      "metadata": {
        "id": "9Tjgr8Nwjhwc"
      }
    },
    {
      "cell_type": "code",
      "source": [
        "# Create a NLTK object to store the named entities in the story\n",
        "fox_crow_NE = ne_chunk(fox_crow_tagged)\n",
        "#Print the entities\n",
        "print(fox_crow_NE)"
      ],
      "metadata": {
        "colab": {
          "base_uri": "https://localhost:8080/"
        },
        "id": "JkgIMPv1Ordp",
        "outputId": "41a0133f-3e9c-4a9f-fa39-ea5283b61428"
      },
      "execution_count": null,
      "outputs": [
        {
          "output_type": "stream",
          "name": "stdout",
          "text": [
            "(S\n",
            "  I/PRP\n",
            "  bet/VBP\n",
            "  you/PRP\n",
            "  can/MD\n",
            "  t/VB\n",
            "  guess/VB\n",
            "  what/WP\n",
            "  I/PRP\n",
            "  like/VBP\n",
            "  to/TO\n",
            "  eat/VB\n",
            "  best/JJS\n",
            "  of/IN\n",
            "  all/DT\n",
            "  Yes/NNP\n",
            "  I/PRP\n",
            "  knew/VBD\n",
            "  that/IN\n",
            "  you/PRP\n",
            "  would/MD\n",
            "  say/VB\n",
            "  that/IN\n",
            "  foxes/NNS\n",
            "  like/IN\n",
            "  to/TO\n",
            "  eat/VB\n",
            "  hens/NNS\n",
            "  best/JJS\n",
            "  and/CC\n",
            "  stolen/VBN\n",
            "  ones/NNS\n",
            "  at/IN\n",
            "  that/DT\n",
            "  I/PRP\n",
            "  don/VBP\n",
            "  t/JJ\n",
            "  mind/NN\n",
            "  admitting/VBG\n",
            "  that/IN\n",
            "  I/PRP\n",
            "  wouldn/VBP\n",
            "  t/JJ\n",
            "  ever/RB\n",
            "  say/VBP\n",
            "  no/UH\n",
            "  to/TO\n",
            "  a/DT\n",
            "  nice/JJ\n",
            "  fat/NN\n",
            "  chicken/NN\n",
            "  wing/VBG\n",
            "  once/RB\n",
            "  in/IN\n",
            "  a/DT\n",
            "  while/NN\n",
            "  But/CC\n",
            "  not/RB\n",
            "  many/JJ\n",
            "  people/NNS\n",
            "  know/VBP\n",
            "  that/IN\n",
            "  what/WP\n",
            "  foxes/VBP\n",
            "  appreciate/VB\n",
            "  even/RB\n",
            "  more/JJR\n",
            "  than/IN\n",
            "  chicken/NN\n",
            "  is/VBZ\n",
            "  a/DT\n",
            "  nice/JJ\n",
            "  piece/NN\n",
            "  of/IN\n",
            "  cheese/JJ\n",
            "  once/RB\n",
            "  in/IN\n",
            "  a/DT\n",
            "  while/NN\n",
            "  Well/RB\n",
            "  today/NN\n",
            "  I/PRP\n",
            "  ate/VBP\n",
            "  a/DT\n",
            "  wonderfully/RB\n",
            "  rich/JJ\n",
            "  and/CC\n",
            "  creamy/JJ\n",
            "  slice/NN\n",
            "  of/IN\n",
            "  cheddar/NN\n",
            "  for/IN\n",
            "  my/PRP$\n",
            "  breakfast/NN\n",
            "  It/PRP\n",
            "  was/VBD\n",
            "  kindly/RB\n",
            "  given/VBN\n",
            "  to/TO\n",
            "  me/PRP\n",
            "  by/IN\n",
            "  a/DT\n",
            "  beautiful/JJ\n",
            "  bird/NN\n",
            "  whose/WP$\n",
            "  voice/NN\n",
            "  is/VBZ\n",
            "  even/RB\n",
            "  more/RBR\n",
            "  wonderful/JJ\n",
            "  than/IN\n",
            "  her/PRP$\n",
            "  looks/JJ\n",
            "  No/NNP\n",
            "  I/PRP\n",
            "  don/VBP\n",
            "  t/JJ\n",
            "  mean/VBP\n",
            "  a/DT\n",
            "  or/CC\n",
            "  a/DT\n",
            "  fancy/JJ\n",
            "  bird/NN\n",
            "  of/IN\n",
            "  paradise/NN\n",
            "  I/PRP\n",
            "  m/VBP\n",
            "  talking/VBG\n",
            "  about/IN\n",
            "  (PERSON Miss/NNP Crow/NNP)\n",
            "  up/RP\n",
            "  in/IN\n",
            "  that/DT\n",
            "  tree/NN\n",
            "  It/PRP\n",
            "  was/VBD\n",
            "  a/DT\n",
            "  fine/JJ\n",
            "  bright/JJ\n",
            "  morning/NN\n",
            "  and/CC\n",
            "  I/PRP\n",
            "  was/VBD\n",
            "  following/VBG\n",
            "  my/PRP$\n",
            "  sharp/JJ\n",
            "  nose/JJ\n",
            "  through/IN\n",
            "  the/DT\n",
            "  woods/NNS\n",
            "  in/IN\n",
            "  search/NN\n",
            "  of/IN\n",
            "  a/DT\n",
            "  bite/NN\n",
            "  to/TO\n",
            "  eat/VB\n",
            "  when/WRB\n",
            "  I/PRP\n",
            "  caught/VBD\n",
            "  a/DT\n",
            "  cheesy/NN\n",
            "  smell/NN\n",
            "  on/IN\n",
            "  the/DT\n",
            "  breeze/NN\n",
            "  I/PRP\n",
            "  looked/VBD\n",
            "  up/RB\n",
            "  into/IN\n",
            "  the/DT\n",
            "  tree/NN\n",
            "  and/CC\n",
            "  there/RB\n",
            "  on/IN\n",
            "  the/DT\n",
            "  branch/NN\n",
            "  I/PRP\n",
            "  saw/VBD\n",
            "  (PERSON Miss/NNP Crow/NNP)\n",
            "  looking/VBG\n",
            "  terribly/RB\n",
            "  pleased/VBN\n",
            "  with/IN\n",
            "  herself/PRP\n",
            "  for/IN\n",
            "  in/IN\n",
            "  her/PRP$\n",
            "  beak/NN\n",
            "  she/PRP\n",
            "  held/VBD\n",
            "  a/DT\n",
            "  large/JJ\n",
            "  piece/NN\n",
            "  of/IN\n",
            "  cheese/NN\n",
            "  It/PRP\n",
            "  was/VBD\n",
            "  stolen/VBN\n",
            "  no/DT\n",
            "  doubt/NN\n",
            "  from/IN\n",
            "  the/DT\n",
            "  farmer/NN\n",
            "  over/IN\n",
            "  the/DT\n",
            "  hill/NN\n",
            "  but/CC\n",
            "  I/PRP\n",
            "  m/VBP\n",
            "  not/RB\n",
            "  one/CD\n",
            "  to/TO\n",
            "  go/VB\n",
            "  around/RP\n",
            "  accusing/VBG\n",
            "  people/NNS\n",
            "  of/IN\n",
            "  this/DT\n",
            "  and/CC\n",
            "  that/IN\n",
            "  I/PRP\n",
            "  called/VBD\n",
            "  up/RB\n",
            "  to/TO\n",
            "  my/PRP$\n",
            "  neighbour/NN\n",
            "  and/CC\n",
            "  said/VBD\n",
            "  (PERSON Good/JJ)\n",
            "  morning/NN\n",
            "  (PERSON Miss/NNP Crow/NNP)\n",
            "  you/PRP\n",
            "  are/VBP\n",
            "  looking/VBG\n",
            "  very/RB\n",
            "  lovely/RB\n",
            "  today/NN\n",
            "  if/IN\n",
            "  I/PRP\n",
            "  may/MD\n",
            "  say/VB\n",
            "  (PERSON Miss/NNP Crow/NNP)\n",
            "  cocked/VBD\n",
            "  her/PRP$\n",
            "  head/NN\n",
            "  on/IN\n",
            "  one/CD\n",
            "  side/NN\n",
            "  and/CC\n",
            "  looked/VBD\n",
            "  at/IN\n",
            "  me/PRP\n",
            "  with/IN\n",
            "  her/PRP$\n",
            "  beady/JJ\n",
            "  little/JJ\n",
            "  eye/NN\n",
            "  but/CC\n",
            "  she/PRP\n",
            "  kept/VBD\n",
            "  her/PRP\n",
            "  beak/NN\n",
            "  firmly/RB\n",
            "  closed/VBD\n",
            "  on/IN\n",
            "  the/DT\n",
            "  cheese/NN\n",
            "  Such/PDT\n",
            "  a/DT\n",
            "  charming/JJ\n",
            "  creature/NN\n",
            "  I/PRP\n",
            "  mused/VBD\n",
            "  to/TO\n",
            "  myself/VB\n",
            "  making/VBG\n",
            "  sure/JJ\n",
            "  nevertheless/NN\n",
            "  that/IN\n",
            "  she/PRP\n",
            "  could/MD\n",
            "  overhear/VB\n",
            "  Such/PDT\n",
            "  a/DT\n",
            "  fine/JJ\n",
            "  sheen/NN\n",
            "  on/IN\n",
            "  those/DT\n",
            "  wondrous/JJ\n",
            "  black/JJ\n",
            "  feathers/NNS\n",
            "  What/WP\n",
            "  wings/VBZ\n",
            "  What/WP\n",
            "  legs/NN\n",
            "  And/CC\n",
            "  that/IN\n",
            "  beak/JJ\n",
            "  exquisite/NN\n",
            "  I/PRP\n",
            "  could/MD\n",
            "  see/VB\n",
            "  that/IN\n",
            "  (PERSON Miss/NNP Crow/NNP)\n",
            "  was/VBD\n",
            "  paying/VBG\n",
            "  close/JJ\n",
            "  attention/NN\n",
            "  to/TO\n",
            "  my/PRP$\n",
            "  words/NNS\n",
            "  even/RB\n",
            "  though/IN\n",
            "  she/PRP\n",
            "  was/VBD\n",
            "  pretending/VBG\n",
            "  ever/RB\n",
            "  so/RB\n",
            "  hard/JJ\n",
            "  not/RB\n",
            "  to/TO\n",
            "  hear/VB\n",
            "  So/RB\n",
            "  I/PRP\n",
            "  gazed/VBD\n",
            "  up/RB\n",
            "  at/IN\n",
            "  the/DT\n",
            "  tree/NN\n",
            "  with/IN\n",
            "  admiration/NN\n",
            "  and/CC\n",
            "  love/NN\n",
            "  in/IN\n",
            "  my/PRP$\n",
            "  eyes/NNS\n",
            "  and/CC\n",
            "  said/VBD\n",
            "  Ah/NNP\n",
            "  my/PRP$\n",
            "  heart/NN\n",
            "  is/VBZ\n",
            "  smitten/VBN\n",
            "  by/IN\n",
            "  this/DT\n",
            "  wonderful/JJ\n",
            "  bird/NN\n",
            "  If/IN\n",
            "  only/RB\n",
            "  I/PRP\n",
            "  could/MD\n",
            "  hear/VB\n",
            "  her/PRP$\n",
            "  voice/NN\n",
            "  I/PRP\n",
            "  m/VBP\n",
            "  sure/JJ\n",
            "  that/IN\n",
            "  such/PDT\n",
            "  a/DT\n",
            "  charming/JJ\n",
            "  creature/NN\n",
            "  must/MD\n",
            "  sing/VB\n",
            "  most/RBS\n",
            "  sweetly/RB\n",
            "  If/IN\n",
            "  I/PRP\n",
            "  could/MD\n",
            "  but/CC\n",
            "  hear/VB\n",
            "  one/CD\n",
            "  line/NN\n",
            "  of/IN\n",
            "  her/PRP$\n",
            "  song/NN\n",
            "  I/PRP\n",
            "  would/MD\n",
            "  hail/VB\n",
            "  her/PRP\n",
            "  as/IN\n",
            "  the/DT\n",
            "  (ORGANIZATION Princess/NNP)\n",
            "  of/IN\n",
            "  The/DT\n",
            "  Forest/NNP\n",
            "  Now/RB\n",
            "  I/PRP\n",
            "  could/MD\n",
            "  see/VB\n",
            "  my/PRP$\n",
            "  words/NNS\n",
            "  had/VBD\n",
            "  hit/VBN\n",
            "  home/NN\n",
            "  Swelling/VBG\n",
            "  with/IN\n",
            "  pride/NN\n",
            "  (PERSON Miss/NNP Crow/NNP)\n",
            "  puffed/VBD\n",
            "  up/RP\n",
            "  her/PRP$\n",
            "  feathers/NNS\n",
            "  and/CC\n",
            "  began/VBD\n",
            "  to/TO\n",
            "  sing/VBG\n",
            "  the/DT\n",
            "  most/RBS\n",
            "  lovely/JJ\n",
            "  music/NN\n",
            "  I/PRP\n",
            "  have/VBP\n",
            "  ever/RB\n",
            "  heard/VBN\n",
            "  (ORGANIZATION CAAWWWWWWWWW/NNP Well/NNP)\n",
            "  alright/RB\n",
            "  I/PRP\n",
            "  know/VBP\n",
            "  that/IN\n",
            "  you/PRP\n",
            "  are/VBP\n",
            "  saying/VBG\n",
            "  that/IN\n",
            "  (PERSON Miss/NNP Crow/NNP)\n",
            "  s/JJ\n",
            "  voice/NN\n",
            "  is/VBZ\n",
            "  not/RB\n",
            "  exactly/RB\n",
            "  star/JJ\n",
            "  quality/NN\n",
            "  but/CC\n",
            "  to/TO\n",
            "  me/PRP\n",
            "  that/IN\n",
            "  cawww/NN\n",
            "  was/VBD\n",
            "  just/RB\n",
            "  the/DT\n",
            "  sound/NN\n",
            "  that/IN\n",
            "  I/PRP\n",
            "  d/VBP\n",
            "  been/VBN\n",
            "  waiting/VBG\n",
            "  for/IN\n",
            "  Because/IN\n",
            "  as/RB\n",
            "  soon/RB\n",
            "  as/IN\n",
            "  she/PRP\n",
            "  opened/VBD\n",
            "  her/PRP\n",
            "  beak/VB\n",
            "  the/DT\n",
            "  cheese/NN\n",
            "  fell/VBD\n",
            "  to/TO\n",
            "  the/DT\n",
            "  ground/NN\n",
            "  and/CC\n",
            "  I/PRP\n",
            "  snapped/VBD\n",
            "  up/RP\n",
            "  my/PRP$\n",
            "  breakfast/NN\n",
            "  (PERSON Which/NNP)\n",
            "  only/RB\n",
            "  goes/VBZ\n",
            "  to/TO\n",
            "  show/VB\n",
            "  that/DT\n",
            "  Flattery/NNP\n",
            "  will/MD\n",
            "  get/VB\n",
            "  you/PRP\n",
            "  everywhere/RB)\n"
          ]
        }
      ]
    },
    {
      "cell_type": "markdown",
      "source": [
        "### Frequency Distributions\n"
      ],
      "metadata": {
        "id": "7_JUp_jdkYPl"
      }
    },
    {
      "cell_type": "code",
      "source": [
        "#Find the frequency\n",
        "fdist = FreqDist(fox_crow_words)\n",
        "\n",
        "#Print 10 most common words\n",
        "fdist.most_common(10)"
      ],
      "metadata": {
        "colab": {
          "base_uri": "https://localhost:8080/"
        },
        "id": "yBzf7_NNj7Rs",
        "outputId": "2035c46a-5618-4e39-8659-09302d4031e5"
      },
      "execution_count": null,
      "outputs": [
        {
          "output_type": "execute_result",
          "data": {
            "text/plain": [
              "[('I', 27),\n",
              " ('that', 16),\n",
              " ('a', 15),\n",
              " ('to', 14),\n",
              " ('the', 13),\n",
              " ('and', 11),\n",
              " ('her', 10),\n",
              " ('of', 9),\n",
              " ('my', 8),\n",
              " ('was', 7)]"
            ]
          },
          "metadata": {},
          "execution_count": 32
        }
      ]
    },
    {
      "cell_type": "markdown",
      "source": [
        "This is the frequency distribution before removing Stop Words"
      ],
      "metadata": {
        "id": "GrkUo0K2lwMq"
      }
    },
    {
      "cell_type": "code",
      "source": [
        "fdist.plot(10)"
      ],
      "metadata": {
        "colab": {
          "base_uri": "https://localhost:8080/",
          "height": 290
        },
        "id": "fqNsX-dMj7PQ",
        "outputId": "a7080464-bbc9-4f02-e338-f63649af0f8f"
      },
      "execution_count": null,
      "outputs": [
        {
          "output_type": "display_data",
          "data": {
            "text/plain": [
              "<Figure size 432x288 with 1 Axes>"
            ],
            "image/png": "[encoded data removed]"
          },
          "metadata": {
            "needs_background": "light"
          }
        }
      ]
    },
    {
      "cell_type": "code",
      "source": [
        "# Create a list of known stop words\n",
        "stopwords = stopwords.words(\"english\")\n",
        "\n",
        "# Empty list to store clean words :\n",
        "non_stop_words = []\n",
        "\n",
        "# Fill the list with non stop words\n",
        "for w in fox_crow_words:\n",
        "    if w not in stopwords:\n",
        "        non_stop_words.append(w)\n",
        "\n",
        "# Plot the frequency of the cleaned words\n",
        "fdist_no_stop = FreqDist(non_stop_words)\n",
        "#Print 10 most common words\n",
        "fdist_no_stop.most_common(10)"
      ],
      "metadata": {
        "colab": {
          "base_uri": "https://localhost:8080/"
        },
        "id": "IOWAYdnrj7MQ",
        "outputId": "c05389b6-66c9-497b-d75a-fb0179e40172"
      },
      "execution_count": null,
      "outputs": [
        {
          "output_type": "execute_result",
          "data": {
            "text/plain": [
              "[('I', 27),\n",
              " ('Miss', 7),\n",
              " ('Crow', 7),\n",
              " ('could', 5),\n",
              " ('cheese', 4),\n",
              " ('beak', 4),\n",
              " ('eat', 3),\n",
              " ('say', 3),\n",
              " ('ever', 3),\n",
              " ('even', 3)]"
            ]
          },
          "metadata": {},
          "execution_count": 34
        }
      ]
    },
    {
      "cell_type": "markdown",
      "source": [
        "This is the frequency distribution after removing Stop Words"
      ],
      "metadata": {
        "id": "d4EHD9a7m1Cc"
      }
    },
    {
      "cell_type": "code",
      "source": [
        "fdist_no_stop.plot(10)"
      ],
      "metadata": {
        "colab": {
          "base_uri": "https://localhost:8080/",
          "height": 305
        },
        "id": "6MyTZvraj7Eo",
        "outputId": "3b5d65c3-fb19-4eec-c6bb-3af7c4465ab6"
      },
      "execution_count": null,
      "outputs": [
        {
          "output_type": "display_data",
          "data": {
            "text/plain": [
              "<Figure size 432x288 with 1 Axes>"
            ],
            "image/png": "[encoded data removed]"
          },
          "metadata": {
            "needs_background": "light"
          }
        }
      ]
    }
  ]
}