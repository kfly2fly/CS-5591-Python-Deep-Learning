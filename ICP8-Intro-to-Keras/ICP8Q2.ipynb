{
  "nbformat": 4,
  "nbformat_minor": 0,
  "metadata": {
    "colab": {
      "name": "ICP8Q2.ipynb",
      "provenance": [],
      "collapsed_sections": []
    },
    "kernelspec": {
      "name": "python3",
      "display_name": "Python 3"
    },
    "accelerator": "GPU"
  },
  "cells": [
    {
      "cell_type": "markdown",
      "source": [
        "#ICP 8 Q2\n",
        "\n",
        "##Breast Cancer dataset"
      ],
      "metadata": {
        "id": "6t6ZwdR9iCrg"
      }
    },
    {
      "cell_type": "markdown",
      "source": [
        "Import Dependencies and Libraries"
      ],
      "metadata": {
        "id": "biDDEvaweykc"
      }
    },
    {
      "cell_type": "code",
      "metadata": {
        "id": "pTRagYcvHjDj"
      },
      "source": [
        "import numpy as np\n",
        "import tensorflow as tf\n",
        "from tensorflow import keras\n",
        "\n",
        "from tensorflow.keras import layers\n",
        "\n",
        "from sklearn.preprocessing import StandardScaler\n",
        "\n",
        "from sklearn.model_selection import train_test_split\n",
        "\n",
        "import pandas as pd\n",
        "import numpy as np\n",
        "\n",
        "import matplotlib.pyplot as plt"
      ],
      "execution_count": 1,
      "outputs": []
    },
    {
      "cell_type": "markdown",
      "source": [
        "Import our datafile and read it into a Pandas dataframe"
      ],
      "metadata": {
        "id": "kC_w2dBwfE1d"
      }
    },
    {
      "cell_type": "code",
      "metadata": {
        "id": "ApzFGDkOHnt7"
      },
      "source": [
        "dataset = pd.read_csv(\"/content/Breast Cancer.csv\")"
      ],
      "execution_count": 2,
      "outputs": []
    },
    {
      "cell_type": "markdown",
      "source": [
        "## Data Exploration"
      ],
      "metadata": {
        "id": "2GmIE0tzgpwP"
      }
    },
    {
      "cell_type": "markdown",
      "source": [
        "Read the dataset. We can see that it reads in an extra row at the end filled with NaNs. We will take care of this problem when we train-test split"
      ],
      "metadata": {
        "id": "QZ73w3WufpVd"
      }
    },
    {
      "cell_type": "code",
      "metadata": {
        "id": "033I05ZJJ9ND",
        "colab": {
          "base_uri": "https://localhost:8080/",
          "height": 317
        },
        "outputId": "95c66f16-e7d0-4ad0-86de-cd37c5cd2f70"
      },
      "source": [
        "dataset.head()"
      ],
      "execution_count": 3,
      "outputs": [
        {
          "output_type": "execute_result",
          "data": {
            "text/plain": [
              "         id diagnosis  radius_mean  texture_mean  perimeter_mean  area_mean  \\\n",
              "0    842302         M        17.99         10.38          122.80     1001.0   \n",
              "1    842517         M        20.57         17.77          132.90     1326.0   \n",
              "2  84300903         M        19.69         21.25          130.00     1203.0   \n",
              "3  84348301         M        11.42         20.38           77.58      386.1   \n",
              "4  84358402         M        20.29         14.34          135.10     1297.0   \n",
              "\n",
              "   smoothness_mean  compactness_mean  concavity_mean  concave points_mean  \\\n",
              "0          0.11840           0.27760          0.3001              0.14710   \n",
              "1          0.08474           0.07864          0.0869              0.07017   \n",
              "2          0.10960           0.15990          0.1974              0.12790   \n",
              "3          0.14250           0.28390          0.2414              0.10520   \n",
              "4          0.10030           0.13280          0.1980              0.10430   \n",
              "\n",
              "   ...  texture_worst  perimeter_worst  area_worst  smoothness_worst  \\\n",
              "0  ...          17.33           184.60      2019.0            0.1622   \n",
              "1  ...          23.41           158.80      1956.0            0.1238   \n",
              "2  ...          25.53           152.50      1709.0            0.1444   \n",
              "3  ...          26.50            98.87       567.7            0.2098   \n",
              "4  ...          16.67           152.20      1575.0            0.1374   \n",
              "\n",
              "   compactness_worst  concavity_worst  concave points_worst  symmetry_worst  \\\n",
              "0             0.6656           0.7119                0.2654          0.4601   \n",
              "1             0.1866           0.2416                0.1860          0.2750   \n",
              "2             0.4245           0.4504                0.2430          0.3613   \n",
              "3             0.8663           0.6869                0.2575          0.6638   \n",
              "4             0.2050           0.4000                0.1625          0.2364   \n",
              "\n",
              "   fractal_dimension_worst  Unnamed: 32  \n",
              "0                  0.11890          NaN  \n",
              "1                  0.08902          NaN  \n",
              "2                  0.08758          NaN  \n",
              "3                  0.17300          NaN  \n",
              "4                  0.07678          NaN  \n",
              "\n",
              "[5 rows x 33 columns]"
            ],
            "text/html": [
              "\n",
              "  <div id=\"df-13ac3bf0-8e23-4434-a295-ac45919b1d3f\">\n",
              "    <div class=\"colab-df-container\">\n",
              "      <div>\n",
              "<style scoped>\n",
              "    .dataframe tbody tr th:only-of-type {\n",
              "        vertical-align: middle;\n",
              "    }\n",
              "\n",
              "    .dataframe tbody tr th {\n",
              "        vertical-align: top;\n",
              "    }\n",
              "\n",
              "    .dataframe thead th {\n",
              "        text-align: right;\n",
              "    }\n",
              "</style>\n",
              "<table border=\"1\" class=\"dataframe\">\n",
              "  <thead>\n",
              "    <tr style=\"text-align: right;\">\n",
              "      <th></th>\n",
              "      <th>id</th>\n",
              "      <th>diagnosis</th>\n",
              "      <th>radius_mean</th>\n",
              "      <th>texture_mean</th>\n",
              "      <th>perimeter_mean</th>\n",
              "      <th>area_mean</th>\n",
              "      <th>smoothness_mean</th>\n",
              "      <th>compactness_mean</th>\n",
              "      <th>concavity_mean</th>\n",
              "      <th>concave points_mean</th>\n",
              "      <th>...</th>\n",
              "      <th>texture_worst</th>\n",
              "      <th>perimeter_worst</th>\n",
              "      <th>area_worst</th>\n",
              "      <th>smoothness_worst</th>\n",
              "      <th>compactness_worst</th>\n",
              "      <th>concavity_worst</th>\n",
              "      <th>concave points_worst</th>\n",
              "      <th>symmetry_worst</th>\n",
              "      <th>fractal_dimension_worst</th>\n",
              "      <th>Unnamed: 32</th>\n",
              "    </tr>\n",
              "  </thead>\n",
              "  <tbody>\n",
              "    <tr>\n",
              "      <th>0</th>\n",
              "      <td>842302</td>\n",
              "      <td>M</td>\n",
              "      <td>17.99</td>\n",
              "      <td>10.38</td>\n",
              "      <td>122.80</td>\n",
              "      <td>1001.0</td>\n",
              "      <td>0.11840</td>\n",
              "      <td>0.27760</td>\n",
              "      <td>0.3001</td>\n",
              "      <td>0.14710</td>\n",
              "      <td>...</td>\n",
              "      <td>17.33</td>\n",
              "      <td>184.60</td>\n",
              "      <td>2019.0</td>\n",
              "      <td>0.1622</td>\n",
              "      <td>0.6656</td>\n",
              "      <td>0.7119</td>\n",
              "      <td>0.2654</td>\n",
              "      <td>0.4601</td>\n",
              "      <td>0.11890</td>\n",
              "      <td>NaN</td>\n",
              "    </tr>\n",
              "    <tr>\n",
              "      <th>1</th>\n",
              "      <td>842517</td>\n",
              "      <td>M</td>\n",
              "      <td>20.57</td>\n",
              "      <td>17.77</td>\n",
              "      <td>132.90</td>\n",
              "      <td>1326.0</td>\n",
              "      <td>0.08474</td>\n",
              "      <td>0.07864</td>\n",
              "      <td>0.0869</td>\n",
              "      <td>0.07017</td>\n",
              "      <td>...</td>\n",
              "      <td>23.41</td>\n",
              "      <td>158.80</td>\n",
              "      <td>1956.0</td>\n",
              "      <td>0.1238</td>\n",
              "      <td>0.1866</td>\n",
              "      <td>0.2416</td>\n",
              "      <td>0.1860</td>\n",
              "      <td>0.2750</td>\n",
              "      <td>0.08902</td>\n",
              "      <td>NaN</td>\n",
              "    </tr>\n",
              "    <tr>\n",
              "      <th>2</th>\n",
              "      <td>84300903</td>\n",
              "      <td>M</td>\n",
              "      <td>19.69</td>\n",
              "      <td>21.25</td>\n",
              "      <td>130.00</td>\n",
              "      <td>1203.0</td>\n",
              "      <td>0.10960</td>\n",
              "      <td>0.15990</td>\n",
              "      <td>0.1974</td>\n",
              "      <td>0.12790</td>\n",
              "      <td>...</td>\n",
              "      <td>25.53</td>\n",
              "      <td>152.50</td>\n",
              "      <td>1709.0</td>\n",
              "      <td>0.1444</td>\n",
              "      <td>0.4245</td>\n",
              "      <td>0.4504</td>\n",
              "      <td>0.2430</td>\n",
              "      <td>0.3613</td>\n",
              "      <td>0.08758</td>\n",
              "      <td>NaN</td>\n",
              "    </tr>\n",
              "    <tr>\n",
              "      <th>3</th>\n",
              "      <td>84348301</td>\n",
              "      <td>M</td>\n",
              "      <td>11.42</td>\n",
              "      <td>20.38</td>\n",
              "      <td>77.58</td>\n",
              "      <td>386.1</td>\n",
              "      <td>0.14250</td>\n",
              "      <td>0.28390</td>\n",
              "      <td>0.2414</td>\n",
              "      <td>0.10520</td>\n",
              "      <td>...</td>\n",
              "      <td>26.50</td>\n",
              "      <td>98.87</td>\n",
              "      <td>567.7</td>\n",
              "      <td>0.2098</td>\n",
              "      <td>0.8663</td>\n",
              "      <td>0.6869</td>\n",
              "      <td>0.2575</td>\n",
              "      <td>0.6638</td>\n",
              "      <td>0.17300</td>\n",
              "      <td>NaN</td>\n",
              "    </tr>\n",
              "    <tr>\n",
              "      <th>4</th>\n",
              "      <td>84358402</td>\n",
              "      <td>M</td>\n",
              "      <td>20.29</td>\n",
              "      <td>14.34</td>\n",
              "      <td>135.10</td>\n",
              "      <td>1297.0</td>\n",
              "      <td>0.10030</td>\n",
              "      <td>0.13280</td>\n",
              "      <td>0.1980</td>\n",
              "      <td>0.10430</td>\n",
              "      <td>...</td>\n",
              "      <td>16.67</td>\n",
              "      <td>152.20</td>\n",
              "      <td>1575.0</td>\n",
              "      <td>0.1374</td>\n",
              "      <td>0.2050</td>\n",
              "      <td>0.4000</td>\n",
              "      <td>0.1625</td>\n",
              "      <td>0.2364</td>\n",
              "      <td>0.07678</td>\n",
              "      <td>NaN</td>\n",
              "    </tr>\n",
              "  </tbody>\n",
              "</table>\n",
              "<p>5 rows × 33 columns</p>\n",
              "</div>\n",
              "      <button class=\"colab-df-convert\" onclick=\"convertToInteractive('df-13ac3bf0-8e23-4434-a295-ac45919b1d3f')\"\n",
              "              title=\"Convert this dataframe to an interactive table.\"\n",
              "              style=\"display:none;\">\n",
              "        \n",
              "  <svg xmlns=\"http://www.w3.org/2000/svg\" height=\"24px\"viewBox=\"0 0 24 24\"\n",
              "       width=\"24px\">\n",
              "    <path d=\"M0 0h24v24H0V0z\" fill=\"none\"/>\n",
              "    <path d=\"M18.56 5.44l.94 2.06.94-2.06 2.06-.94-2.06-.94-.94-2.06-.94 2.06-2.06.94zm-11 1L8.5 8.5l.94-2.06 2.06-.94-2.06-.94L8.5 2.5l-.94 2.06-2.06.94zm10 10l.94 2.06.94-2.06 2.06-.94-2.06-.94-.94-2.06-.94 2.06-2.06.94z\"/><path d=\"M17.41 7.96l-1.37-1.37c-.4-.4-.92-.59-1.43-.59-.52 0-1.04.2-1.43.59L10.3 9.45l-7.72 7.72c-.78.78-.78 2.05 0 2.83L4 21.41c.39.39.9.59 1.41.59.51 0 1.02-.2 1.41-.59l7.78-7.78 2.81-2.81c.8-.78.8-2.07 0-2.86zM5.41 20L4 18.59l7.72-7.72 1.47 1.35L5.41 20z\"/>\n",
              "  </svg>\n",
              "      </button>\n",
              "      \n",
              "  <style>\n",
              "    .colab-df-container {\n",
              "      display:flex;\n",
              "      flex-wrap:wrap;\n",
              "      gap: 12px;\n",
              "    }\n",
              "\n",
              "    .colab-df-convert {\n",
              "      background-color: #E8F0FE;\n",
              "      border: none;\n",
              "      border-radius: 50%;\n",
              "      cursor: pointer;\n",
              "      display: none;\n",
              "      fill: #1967D2;\n",
              "      height: 32px;\n",
              "      padding: 0 0 0 0;\n",
              "      width: 32px;\n",
              "    }\n",
              "\n",
              "    .colab-df-convert:hover {\n",
              "      background-color: #E2EBFA;\n",
              "      box-shadow: 0px 1px 2px rgba(60, 64, 67, 0.3), 0px 1px 3px 1px rgba(60, 64, 67, 0.15);\n",
              "      fill: #174EA6;\n",
              "    }\n",
              "\n",
              "    [theme=dark] .colab-df-convert {\n",
              "      background-color: #3B4455;\n",
              "      fill: #D2E3FC;\n",
              "    }\n",
              "\n",
              "    [theme=dark] .colab-df-convert:hover {\n",
              "      background-color: #434B5C;\n",
              "      box-shadow: 0px 1px 3px 1px rgba(0, 0, 0, 0.15);\n",
              "      filter: drop-shadow(0px 1px 2px rgba(0, 0, 0, 0.3));\n",
              "      fill: #FFFFFF;\n",
              "    }\n",
              "  </style>\n",
              "\n",
              "      <script>\n",
              "        const buttonEl =\n",
              "          document.querySelector('#df-13ac3bf0-8e23-4434-a295-ac45919b1d3f button.colab-df-convert');\n",
              "        buttonEl.style.display =\n",
              "          google.colab.kernel.accessAllowed ? 'block' : 'none';\n",
              "\n",
              "        async function convertToInteractive(key) {\n",
              "          const element = document.querySelector('#df-13ac3bf0-8e23-4434-a295-ac45919b1d3f');\n",
              "          const dataTable =\n",
              "            await google.colab.kernel.invokeFunction('convertToInteractive',\n",
              "                                                     [key], {});\n",
              "          if (!dataTable) return;\n",
              "\n",
              "          const docLinkHtml = 'Like what you see? Visit the ' +\n",
              "            '<a target=\"_blank\" href=https://colab.research.google.com/notebooks/data_table.ipynb>data table notebook</a>'\n",
              "            + ' to learn more about interactive tables.';\n",
              "          element.innerHTML = '';\n",
              "          dataTable['output_type'] = 'display_data';\n",
              "          await google.colab.output.renderOutput(dataTable, element);\n",
              "          const docLink = document.createElement('div');\n",
              "          docLink.innerHTML = docLinkHtml;\n",
              "          element.appendChild(docLink);\n",
              "        }\n",
              "      </script>\n",
              "    </div>\n",
              "  </div>\n",
              "  "
            ]
          },
          "metadata": {},
          "execution_count": 3
        }
      ]
    },
    {
      "cell_type": "markdown",
      "source": [
        "Get statistics of our dataset"
      ],
      "metadata": {
        "id": "ZF9OTvd8oL1F"
      }
    },
    {
      "cell_type": "code",
      "source": [
        "dataset.describe()"
      ],
      "metadata": {
        "id": "bf4b72ZOACgX",
        "colab": {
          "base_uri": "https://localhost:8080/",
          "height": 411
        },
        "outputId": "18082a2a-2eff-4a86-ced8-fcc5c99a7fa7"
      },
      "execution_count": 4,
      "outputs": [
        {
          "output_type": "execute_result",
          "data": {
            "text/plain": [
              "                 id  radius_mean  texture_mean  perimeter_mean    area_mean  \\\n",
              "count  5.690000e+02   569.000000    569.000000      569.000000   569.000000   \n",
              "mean   3.037183e+07    14.127292     19.289649       91.969033   654.889104   \n",
              "std    1.250206e+08     3.524049      4.301036       24.298981   351.914129   \n",
              "min    8.670000e+03     6.981000      9.710000       43.790000   143.500000   \n",
              "25%    8.692180e+05    11.700000     16.170000       75.170000   420.300000   \n",
              "50%    9.060240e+05    13.370000     18.840000       86.240000   551.100000   \n",
              "75%    8.813129e+06    15.780000     21.800000      104.100000   782.700000   \n",
              "max    9.113205e+08    28.110000     39.280000      188.500000  2501.000000   \n",
              "\n",
              "       smoothness_mean  compactness_mean  concavity_mean  concave points_mean  \\\n",
              "count       569.000000        569.000000      569.000000           569.000000   \n",
              "mean          0.096360          0.104341        0.088799             0.048919   \n",
              "std           0.014064          0.052813        0.079720             0.038803   \n",
              "min           0.052630          0.019380        0.000000             0.000000   \n",
              "25%           0.086370          0.064920        0.029560             0.020310   \n",
              "50%           0.095870          0.092630        0.061540             0.033500   \n",
              "75%           0.105300          0.130400        0.130700             0.074000   \n",
              "max           0.163400          0.345400        0.426800             0.201200   \n",
              "\n",
              "       symmetry_mean  ...  texture_worst  perimeter_worst   area_worst  \\\n",
              "count     569.000000  ...     569.000000       569.000000   569.000000   \n",
              "mean        0.181162  ...      25.677223       107.261213   880.583128   \n",
              "std         0.027414  ...       6.146258        33.602542   569.356993   \n",
              "min         0.106000  ...      12.020000        50.410000   185.200000   \n",
              "25%         0.161900  ...      21.080000        84.110000   515.300000   \n",
              "50%         0.179200  ...      25.410000        97.660000   686.500000   \n",
              "75%         0.195700  ...      29.720000       125.400000  1084.000000   \n",
              "max         0.304000  ...      49.540000       251.200000  4254.000000   \n",
              "\n",
              "       smoothness_worst  compactness_worst  concavity_worst  \\\n",
              "count        569.000000         569.000000       569.000000   \n",
              "mean           0.132369           0.254265         0.272188   \n",
              "std            0.022832           0.157336         0.208624   \n",
              "min            0.071170           0.027290         0.000000   \n",
              "25%            0.116600           0.147200         0.114500   \n",
              "50%            0.131300           0.211900         0.226700   \n",
              "75%            0.146000           0.339100         0.382900   \n",
              "max            0.222600           1.058000         1.252000   \n",
              "\n",
              "       concave points_worst  symmetry_worst  fractal_dimension_worst  \\\n",
              "count            569.000000      569.000000               569.000000   \n",
              "mean               0.114606        0.290076                 0.083946   \n",
              "std                0.065732        0.061867                 0.018061   \n",
              "min                0.000000        0.156500                 0.055040   \n",
              "25%                0.064930        0.250400                 0.071460   \n",
              "50%                0.099930        0.282200                 0.080040   \n",
              "75%                0.161400        0.317900                 0.092080   \n",
              "max                0.291000        0.663800                 0.207500   \n",
              "\n",
              "       Unnamed: 32  \n",
              "count          0.0  \n",
              "mean           NaN  \n",
              "std            NaN  \n",
              "min            NaN  \n",
              "25%            NaN  \n",
              "50%            NaN  \n",
              "75%            NaN  \n",
              "max            NaN  \n",
              "\n",
              "[8 rows x 32 columns]"
            ],
            "text/html": [
              "\n",
              "  <div id=\"df-c6d6cb4f-c7ad-468b-bf80-a16f8672272e\">\n",
              "    <div class=\"colab-df-container\">\n",
              "      <div>\n",
              "<style scoped>\n",
              "    .dataframe tbody tr th:only-of-type {\n",
              "        vertical-align: middle;\n",
              "    }\n",
              "\n",
              "    .dataframe tbody tr th {\n",
              "        vertical-align: top;\n",
              "    }\n",
              "\n",
              "    .dataframe thead th {\n",
              "        text-align: right;\n",
              "    }\n",
              "</style>\n",
              "<table border=\"1\" class=\"dataframe\">\n",
              "  <thead>\n",
              "    <tr style=\"text-align: right;\">\n",
              "      <th></th>\n",
              "      <th>id</th>\n",
              "      <th>radius_mean</th>\n",
              "      <th>texture_mean</th>\n",
              "      <th>perimeter_mean</th>\n",
              "      <th>area_mean</th>\n",
              "      <th>smoothness_mean</th>\n",
              "      <th>compactness_mean</th>\n",
              "      <th>concavity_mean</th>\n",
              "      <th>concave points_mean</th>\n",
              "      <th>symmetry_mean</th>\n",
              "      <th>...</th>\n",
              "      <th>texture_worst</th>\n",
              "      <th>perimeter_worst</th>\n",
              "      <th>area_worst</th>\n",
              "      <th>smoothness_worst</th>\n",
              "      <th>compactness_worst</th>\n",
              "      <th>concavity_worst</th>\n",
              "      <th>concave points_worst</th>\n",
              "      <th>symmetry_worst</th>\n",
              "      <th>fractal_dimension_worst</th>\n",
              "      <th>Unnamed: 32</th>\n",
              "    </tr>\n",
              "  </thead>\n",
              "  <tbody>\n",
              "    <tr>\n",
              "      <th>count</th>\n",
              "      <td>5.690000e+02</td>\n",
              "      <td>569.000000</td>\n",
              "      <td>569.000000</td>\n",
              "      <td>569.000000</td>\n",
              "      <td>569.000000</td>\n",
              "      <td>569.000000</td>\n",
              "      <td>569.000000</td>\n",
              "      <td>569.000000</td>\n",
              "      <td>569.000000</td>\n",
              "      <td>569.000000</td>\n",
              "      <td>...</td>\n",
              "      <td>569.000000</td>\n",
              "      <td>569.000000</td>\n",
              "      <td>569.000000</td>\n",
              "      <td>569.000000</td>\n",
              "      <td>569.000000</td>\n",
              "      <td>569.000000</td>\n",
              "      <td>569.000000</td>\n",
              "      <td>569.000000</td>\n",
              "      <td>569.000000</td>\n",
              "      <td>0.0</td>\n",
              "    </tr>\n",
              "    <tr>\n",
              "      <th>mean</th>\n",
              "      <td>3.037183e+07</td>\n",
              "      <td>14.127292</td>\n",
              "      <td>19.289649</td>\n",
              "      <td>91.969033</td>\n",
              "      <td>654.889104</td>\n",
              "      <td>0.096360</td>\n",
              "      <td>0.104341</td>\n",
              "      <td>0.088799</td>\n",
              "      <td>0.048919</td>\n",
              "      <td>0.181162</td>\n",
              "      <td>...</td>\n",
              "      <td>25.677223</td>\n",
              "      <td>107.261213</td>\n",
              "      <td>880.583128</td>\n",
              "      <td>0.132369</td>\n",
              "      <td>0.254265</td>\n",
              "      <td>0.272188</td>\n",
              "      <td>0.114606</td>\n",
              "      <td>0.290076</td>\n",
              "      <td>0.083946</td>\n",
              "      <td>NaN</td>\n",
              "    </tr>\n",
              "    <tr>\n",
              "      <th>std</th>\n",
              "      <td>1.250206e+08</td>\n",
              "      <td>3.524049</td>\n",
              "      <td>4.301036</td>\n",
              "      <td>24.298981</td>\n",
              "      <td>351.914129</td>\n",
              "      <td>0.014064</td>\n",
              "      <td>0.052813</td>\n",
              "      <td>0.079720</td>\n",
              "      <td>0.038803</td>\n",
              "      <td>0.027414</td>\n",
              "      <td>...</td>\n",
              "      <td>6.146258</td>\n",
              "      <td>33.602542</td>\n",
              "      <td>569.356993</td>\n",
              "      <td>0.022832</td>\n",
              "      <td>0.157336</td>\n",
              "      <td>0.208624</td>\n",
              "      <td>0.065732</td>\n",
              "      <td>0.061867</td>\n",
              "      <td>0.018061</td>\n",
              "      <td>NaN</td>\n",
              "    </tr>\n",
              "    <tr>\n",
              "      <th>min</th>\n",
              "      <td>8.670000e+03</td>\n",
              "      <td>6.981000</td>\n",
              "      <td>9.710000</td>\n",
              "      <td>43.790000</td>\n",
              "      <td>143.500000</td>\n",
              "      <td>0.052630</td>\n",
              "      <td>0.019380</td>\n",
              "      <td>0.000000</td>\n",
              "      <td>0.000000</td>\n",
              "      <td>0.106000</td>\n",
              "      <td>...</td>\n",
              "      <td>12.020000</td>\n",
              "      <td>50.410000</td>\n",
              "      <td>185.200000</td>\n",
              "      <td>0.071170</td>\n",
              "      <td>0.027290</td>\n",
              "      <td>0.000000</td>\n",
              "      <td>0.000000</td>\n",
              "      <td>0.156500</td>\n",
              "      <td>0.055040</td>\n",
              "      <td>NaN</td>\n",
              "    </tr>\n",
              "    <tr>\n",
              "      <th>25%</th>\n",
              "      <td>8.692180e+05</td>\n",
              "      <td>11.700000</td>\n",
              "      <td>16.170000</td>\n",
              "      <td>75.170000</td>\n",
              "      <td>420.300000</td>\n",
              "      <td>0.086370</td>\n",
              "      <td>0.064920</td>\n",
              "      <td>0.029560</td>\n",
              "      <td>0.020310</td>\n",
              "      <td>0.161900</td>\n",
              "      <td>...</td>\n",
              "      <td>21.080000</td>\n",
              "      <td>84.110000</td>\n",
              "      <td>515.300000</td>\n",
              "      <td>0.116600</td>\n",
              "      <td>0.147200</td>\n",
              "      <td>0.114500</td>\n",
              "      <td>0.064930</td>\n",
              "      <td>0.250400</td>\n",
              "      <td>0.071460</td>\n",
              "      <td>NaN</td>\n",
              "    </tr>\n",
              "    <tr>\n",
              "      <th>50%</th>\n",
              "      <td>9.060240e+05</td>\n",
              "      <td>13.370000</td>\n",
              "      <td>18.840000</td>\n",
              "      <td>86.240000</td>\n",
              "      <td>551.100000</td>\n",
              "      <td>0.095870</td>\n",
              "      <td>0.092630</td>\n",
              "      <td>0.061540</td>\n",
              "      <td>0.033500</td>\n",
              "      <td>0.179200</td>\n",
              "      <td>...</td>\n",
              "      <td>25.410000</td>\n",
              "      <td>97.660000</td>\n",
              "      <td>686.500000</td>\n",
              "      <td>0.131300</td>\n",
              "      <td>0.211900</td>\n",
              "      <td>0.226700</td>\n",
              "      <td>0.099930</td>\n",
              "      <td>0.282200</td>\n",
              "      <td>0.080040</td>\n",
              "      <td>NaN</td>\n",
              "    </tr>\n",
              "    <tr>\n",
              "      <th>75%</th>\n",
              "      <td>8.813129e+06</td>\n",
              "      <td>15.780000</td>\n",
              "      <td>21.800000</td>\n",
              "      <td>104.100000</td>\n",
              "      <td>782.700000</td>\n",
              "      <td>0.105300</td>\n",
              "      <td>0.130400</td>\n",
              "      <td>0.130700</td>\n",
              "      <td>0.074000</td>\n",
              "      <td>0.195700</td>\n",
              "      <td>...</td>\n",
              "      <td>29.720000</td>\n",
              "      <td>125.400000</td>\n",
              "      <td>1084.000000</td>\n",
              "      <td>0.146000</td>\n",
              "      <td>0.339100</td>\n",
              "      <td>0.382900</td>\n",
              "      <td>0.161400</td>\n",
              "      <td>0.317900</td>\n",
              "      <td>0.092080</td>\n",
              "      <td>NaN</td>\n",
              "    </tr>\n",
              "    <tr>\n",
              "      <th>max</th>\n",
              "      <td>9.113205e+08</td>\n",
              "      <td>28.110000</td>\n",
              "      <td>39.280000</td>\n",
              "      <td>188.500000</td>\n",
              "      <td>2501.000000</td>\n",
              "      <td>0.163400</td>\n",
              "      <td>0.345400</td>\n",
              "      <td>0.426800</td>\n",
              "      <td>0.201200</td>\n",
              "      <td>0.304000</td>\n",
              "      <td>...</td>\n",
              "      <td>49.540000</td>\n",
              "      <td>251.200000</td>\n",
              "      <td>4254.000000</td>\n",
              "      <td>0.222600</td>\n",
              "      <td>1.058000</td>\n",
              "      <td>1.252000</td>\n",
              "      <td>0.291000</td>\n",
              "      <td>0.663800</td>\n",
              "      <td>0.207500</td>\n",
              "      <td>NaN</td>\n",
              "    </tr>\n",
              "  </tbody>\n",
              "</table>\n",
              "<p>8 rows × 32 columns</p>\n",
              "</div>\n",
              "      <button class=\"colab-df-convert\" onclick=\"convertToInteractive('df-c6d6cb4f-c7ad-468b-bf80-a16f8672272e')\"\n",
              "              title=\"Convert this dataframe to an interactive table.\"\n",
              "              style=\"display:none;\">\n",
              "        \n",
              "  <svg xmlns=\"http://www.w3.org/2000/svg\" height=\"24px\"viewBox=\"0 0 24 24\"\n",
              "       width=\"24px\">\n",
              "    <path d=\"M0 0h24v24H0V0z\" fill=\"none\"/>\n",
              "    <path d=\"M18.56 5.44l.94 2.06.94-2.06 2.06-.94-2.06-.94-.94-2.06-.94 2.06-2.06.94zm-11 1L8.5 8.5l.94-2.06 2.06-.94-2.06-.94L8.5 2.5l-.94 2.06-2.06.94zm10 10l.94 2.06.94-2.06 2.06-.94-2.06-.94-.94-2.06-.94 2.06-2.06.94z\"/><path d=\"M17.41 7.96l-1.37-1.37c-.4-.4-.92-.59-1.43-.59-.52 0-1.04.2-1.43.59L10.3 9.45l-7.72 7.72c-.78.78-.78 2.05 0 2.83L4 21.41c.39.39.9.59 1.41.59.51 0 1.02-.2 1.41-.59l7.78-7.78 2.81-2.81c.8-.78.8-2.07 0-2.86zM5.41 20L4 18.59l7.72-7.72 1.47 1.35L5.41 20z\"/>\n",
              "  </svg>\n",
              "      </button>\n",
              "      \n",
              "  <style>\n",
              "    .colab-df-container {\n",
              "      display:flex;\n",
              "      flex-wrap:wrap;\n",
              "      gap: 12px;\n",
              "    }\n",
              "\n",
              "    .colab-df-convert {\n",
              "      background-color: #E8F0FE;\n",
              "      border: none;\n",
              "      border-radius: 50%;\n",
              "      cursor: pointer;\n",
              "      display: none;\n",
              "      fill: #1967D2;\n",
              "      height: 32px;\n",
              "      padding: 0 0 0 0;\n",
              "      width: 32px;\n",
              "    }\n",
              "\n",
              "    .colab-df-convert:hover {\n",
              "      background-color: #E2EBFA;\n",
              "      box-shadow: 0px 1px 2px rgba(60, 64, 67, 0.3), 0px 1px 3px 1px rgba(60, 64, 67, 0.15);\n",
              "      fill: #174EA6;\n",
              "    }\n",
              "\n",
              "    [theme=dark] .colab-df-convert {\n",
              "      background-color: #3B4455;\n",
              "      fill: #D2E3FC;\n",
              "    }\n",
              "\n",
              "    [theme=dark] .colab-df-convert:hover {\n",
              "      background-color: #434B5C;\n",
              "      box-shadow: 0px 1px 3px 1px rgba(0, 0, 0, 0.15);\n",
              "      filter: drop-shadow(0px 1px 2px rgba(0, 0, 0, 0.3));\n",
              "      fill: #FFFFFF;\n",
              "    }\n",
              "  </style>\n",
              "\n",
              "      <script>\n",
              "        const buttonEl =\n",
              "          document.querySelector('#df-c6d6cb4f-c7ad-468b-bf80-a16f8672272e button.colab-df-convert');\n",
              "        buttonEl.style.display =\n",
              "          google.colab.kernel.accessAllowed ? 'block' : 'none';\n",
              "\n",
              "        async function convertToInteractive(key) {\n",
              "          const element = document.querySelector('#df-c6d6cb4f-c7ad-468b-bf80-a16f8672272e');\n",
              "          const dataTable =\n",
              "            await google.colab.kernel.invokeFunction('convertToInteractive',\n",
              "                                                     [key], {});\n",
              "          if (!dataTable) return;\n",
              "\n",
              "          const docLinkHtml = 'Like what you see? Visit the ' +\n",
              "            '<a target=\"_blank\" href=https://colab.research.google.com/notebooks/data_table.ipynb>data table notebook</a>'\n",
              "            + ' to learn more about interactive tables.';\n",
              "          element.innerHTML = '';\n",
              "          dataTable['output_type'] = 'display_data';\n",
              "          await google.colab.output.renderOutput(dataTable, element);\n",
              "          const docLink = document.createElement('div');\n",
              "          docLink.innerHTML = docLinkHtml;\n",
              "          element.appendChild(docLink);\n",
              "        }\n",
              "      </script>\n",
              "    </div>\n",
              "  </div>\n",
              "  "
            ]
          },
          "metadata": {},
          "execution_count": 4
        }
      ]
    },
    {
      "cell_type": "markdown",
      "source": [
        "Get info of our dataset"
      ],
      "metadata": {
        "id": "1lSqVibpgjcR"
      }
    },
    {
      "cell_type": "code",
      "source": [
        "dataset.info()"
      ],
      "metadata": {
        "id": "zo2f1KWFAIrw",
        "colab": {
          "base_uri": "https://localhost:8080/"
        },
        "outputId": "9ff2bc71-f5d9-4bee-c0fe-d2495e26a8aa"
      },
      "execution_count": 5,
      "outputs": [
        {
          "output_type": "stream",
          "name": "stdout",
          "text": [
            "<class 'pandas.core.frame.DataFrame'>\n",
            "RangeIndex: 569 entries, 0 to 568\n",
            "Data columns (total 33 columns):\n",
            " #   Column                   Non-Null Count  Dtype  \n",
            "---  ------                   --------------  -----  \n",
            " 0   id                       569 non-null    int64  \n",
            " 1   diagnosis                569 non-null    object \n",
            " 2   radius_mean              569 non-null    float64\n",
            " 3   texture_mean             569 non-null    float64\n",
            " 4   perimeter_mean           569 non-null    float64\n",
            " 5   area_mean                569 non-null    float64\n",
            " 6   smoothness_mean          569 non-null    float64\n",
            " 7   compactness_mean         569 non-null    float64\n",
            " 8   concavity_mean           569 non-null    float64\n",
            " 9   concave points_mean      569 non-null    float64\n",
            " 10  symmetry_mean            569 non-null    float64\n",
            " 11  fractal_dimension_mean   569 non-null    float64\n",
            " 12  radius_se                569 non-null    float64\n",
            " 13  texture_se               569 non-null    float64\n",
            " 14  perimeter_se             569 non-null    float64\n",
            " 15  area_se                  569 non-null    float64\n",
            " 16  smoothness_se            569 non-null    float64\n",
            " 17  compactness_se           569 non-null    float64\n",
            " 18  concavity_se             569 non-null    float64\n",
            " 19  concave points_se        569 non-null    float64\n",
            " 20  symmetry_se              569 non-null    float64\n",
            " 21  fractal_dimension_se     569 non-null    float64\n",
            " 22  radius_worst             569 non-null    float64\n",
            " 23  texture_worst            569 non-null    float64\n",
            " 24  perimeter_worst          569 non-null    float64\n",
            " 25  area_worst               569 non-null    float64\n",
            " 26  smoothness_worst         569 non-null    float64\n",
            " 27  compactness_worst        569 non-null    float64\n",
            " 28  concavity_worst          569 non-null    float64\n",
            " 29  concave points_worst     569 non-null    float64\n",
            " 30  symmetry_worst           569 non-null    float64\n",
            " 31  fractal_dimension_worst  569 non-null    float64\n",
            " 32  Unnamed: 32              0 non-null      float64\n",
            "dtypes: float64(31), int64(1), object(1)\n",
            "memory usage: 146.8+ KB\n"
          ]
        }
      ]
    },
    {
      "cell_type": "code",
      "metadata": {
        "id": "A_aZW8YvKNSz"
      },
      "source": [
        "# get numpy ndarray\n",
        "dataset = dataset.values"
      ],
      "execution_count": 6,
      "outputs": []
    },
    {
      "cell_type": "code",
      "metadata": {
        "id": "JtIe1DBCKegG",
        "colab": {
          "base_uri": "https://localhost:8080/"
        },
        "outputId": "a7cc5b3f-b25c-43a6-b76d-4282ddd21d9d"
      },
      "source": [
        "dataset.shape"
      ],
      "execution_count": 7,
      "outputs": [
        {
          "output_type": "execute_result",
          "data": {
            "text/plain": [
              "(569, 33)"
            ]
          },
          "metadata": {},
          "execution_count": 7
        }
      ]
    },
    {
      "cell_type": "markdown",
      "source": [
        "## Data Preprocessing"
      ],
      "metadata": {
        "id": "N6ncMUEZiovr"
      }
    },
    {
      "cell_type": "markdown",
      "source": [
        "Create a StandardScalar object to standardize the data"
      ],
      "metadata": {
        "id": "6LoDDWvVnEic"
      }
    },
    {
      "cell_type": "code",
      "metadata": {
        "id": "-T0Q43fAxtNW"
      },
      "source": [
        "# Standardize features by removing the mean and scaling to unit variance\n",
        "sc = StandardScaler()"
      ],
      "execution_count": 8,
      "outputs": []
    },
    {
      "cell_type": "markdown",
      "source": [
        "For the breast cancer dataset, we have to change what we consider the x and y columns. The first column is irrelavent, the second column is our Y column, and the rest of the data are our x columns. "
      ],
      "metadata": {
        "id": "DmhQf2vsAPB6"
      }
    },
    {
      "cell_type": "code",
      "metadata": {
        "id": "yt64olkkHwft"
      },
      "source": [
        "X_train, X_test, Y_train, Y_test = train_test_split(dataset[:,2:32], dataset[:,1], test_size=0.25, random_state=42)"
      ],
      "execution_count": 9,
      "outputs": []
    },
    {
      "cell_type": "markdown",
      "source": [
        "Get the data as float type"
      ],
      "metadata": {
        "id": "V9G4C3rtnPGK"
      }
    },
    {
      "cell_type": "code",
      "source": [
        "X_test = X_test.astype('float32')\n",
        "X_train = X_train.astype('float32')"
      ],
      "metadata": {
        "id": "XfpRF_XTD9_k"
      },
      "execution_count": 10,
      "outputs": []
    },
    {
      "cell_type": "markdown",
      "source": [
        "We need to get our labels in the form of 0 or 1 because we have an output layer that is a sigmoid activation"
      ],
      "metadata": {
        "id": "JvGXoQoMc_ca"
      }
    },
    {
      "cell_type": "code",
      "source": [
        "Y_train = np.where(Y_train=='B', 0, 1)\n",
        "Y_test = np.where(Y_test=='B', 0, 1)"
      ],
      "metadata": {
        "id": "S4Ey5aKHFPc8"
      },
      "execution_count": 11,
      "outputs": []
    },
    {
      "cell_type": "markdown",
      "source": [
        "Before we standardize the data, let's create a copy so that we can compare later on"
      ],
      "metadata": {
        "id": "yh5Lbo8gnSAq"
      }
    },
    {
      "cell_type": "code",
      "source": [
        "X_train_raw = X_train\n",
        "X_test_raw = X_test"
      ],
      "metadata": {
        "id": "ftjVTp5onXW8"
      },
      "execution_count": 12,
      "outputs": []
    },
    {
      "cell_type": "code",
      "metadata": {
        "id": "pTBESlF_5Zw1"
      },
      "source": [
        "X_train = sc.fit_transform(X_train)\n",
        "X_test = sc.fit_transform(X_test)"
      ],
      "execution_count": 13,
      "outputs": []
    },
    {
      "cell_type": "markdown",
      "source": [
        "Get the shape so that we can use it to input into our model"
      ],
      "metadata": {
        "id": "ZOTcnw4rnn3Q"
      }
    },
    {
      "cell_type": "code",
      "source": [
        "print(X_train.shape)"
      ],
      "metadata": {
        "id": "WLv4xOYkoYGt",
        "colab": {
          "base_uri": "https://localhost:8080/"
        },
        "outputId": "b5fd75f0-f3ef-482b-b54e-ca3dc11d4084"
      },
      "execution_count": 14,
      "outputs": [
        {
          "output_type": "stream",
          "name": "stdout",
          "text": [
            "(426, 30)\n"
          ]
        }
      ]
    },
    {
      "cell_type": "markdown",
      "source": [
        "## Model Creation (Benchmark with raw data)\n",
        "\n",
        "Loss: 0.15\n",
        "\n",
        "Accuracy: 94.41%"
      ],
      "metadata": {
        "id": "-whQkxOmnzAH"
      }
    },
    {
      "cell_type": "markdown",
      "source": [
        "Create a Sequential Fully Connected Neural Network with the raw data"
      ],
      "metadata": {
        "id": "Nf3m2GKC1deP"
      }
    },
    {
      "cell_type": "code",
      "metadata": {
        "id": "rMfomxTmH3ww",
        "colab": {
          "base_uri": "https://localhost:8080/"
        },
        "outputId": "5303edee-28ba-429e-f3ba-7b3896205a31"
      },
      "source": [
        "model = keras.Sequential() # create model\n",
        "\n",
        "# input dimensions are 30 from above.\n",
        "model.add(layers.Dense(32, input_dim=30, activation='relu')) # Input layer\n",
        "\n",
        "model.add(layers.Dense(64, activation='relu')) # hidden layer\n",
        "\n",
        "model.add(layers.Dense(1, activation='sigmoid')) # output layer\n",
        "\n",
        "model.compile(loss='binary_crossentropy', optimizer='adam', metrics=['acc'])\n",
        "\n",
        "model.summary()"
      ],
      "execution_count": 15,
      "outputs": [
        {
          "output_type": "stream",
          "name": "stdout",
          "text": [
            "Model: \"sequential\"\n",
            "_________________________________________________________________\n",
            " Layer (type)                Output Shape              Param #   \n",
            "=================================================================\n",
            " dense (Dense)               (None, 32)                992       \n",
            "                                                                 \n",
            " dense_1 (Dense)             (None, 64)                2112      \n",
            "                                                                 \n",
            " dense_2 (Dense)             (None, 1)                 65        \n",
            "                                                                 \n",
            "=================================================================\n",
            "Total params: 3,169\n",
            "Trainable params: 3,169\n",
            "Non-trainable params: 0\n",
            "_________________________________________________________________\n"
          ]
        }
      ]
    },
    {
      "cell_type": "code",
      "metadata": {
        "id": "2PdPpP7fK-TD",
        "colab": {
          "base_uri": "https://localhost:8080/"
        },
        "outputId": "c7bd8e1d-94d6-4488-f1c0-3b9551fefa21"
      },
      "source": [
        "my_first_nn_fitted = model.fit(X_train_raw, Y_train, epochs=100, validation_data=(X_test_raw, Y_test))"
      ],
      "execution_count": 16,
      "outputs": [
        {
          "output_type": "stream",
          "name": "stdout",
          "text": [
            "Epoch 1/100\n",
            "14/14 [==============================] - 3s 17ms/step - loss: 10.5678 - acc: 0.4319 - val_loss: 4.8930 - val_acc: 0.6434\n",
            "Epoch 2/100\n",
            "14/14 [==============================] - 0s 4ms/step - loss: 1.9938 - acc: 0.6174 - val_loss: 0.2966 - val_acc: 0.9161\n",
            "Epoch 3/100\n",
            "14/14 [==============================] - 0s 5ms/step - loss: 0.6934 - acc: 0.8286 - val_loss: 0.5479 - val_acc: 0.9231\n",
            "Epoch 4/100\n",
            "14/14 [==============================] - 0s 5ms/step - loss: 0.5214 - acc: 0.8638 - val_loss: 0.2409 - val_acc: 0.9301\n",
            "Epoch 5/100\n",
            "14/14 [==============================] - 0s 4ms/step - loss: 0.4187 - acc: 0.9061 - val_loss: 0.1681 - val_acc: 0.9371\n",
            "Epoch 6/100\n",
            "14/14 [==============================] - 0s 4ms/step - loss: 0.3673 - acc: 0.8967 - val_loss: 0.2076 - val_acc: 0.9371\n",
            "Epoch 7/100\n",
            "14/14 [==============================] - 0s 4ms/step - loss: 0.3425 - acc: 0.9061 - val_loss: 0.1592 - val_acc: 0.9371\n",
            "Epoch 8/100\n",
            "14/14 [==============================] - 0s 5ms/step - loss: 0.3095 - acc: 0.9108 - val_loss: 0.1924 - val_acc: 0.9371\n",
            "Epoch 9/100\n",
            "14/14 [==============================] - 0s 5ms/step - loss: 0.2818 - acc: 0.9155 - val_loss: 0.1521 - val_acc: 0.9301\n",
            "Epoch 10/100\n",
            "14/14 [==============================] - 0s 4ms/step - loss: 0.2939 - acc: 0.9131 - val_loss: 0.2156 - val_acc: 0.9371\n",
            "Epoch 11/100\n",
            "14/14 [==============================] - 0s 4ms/step - loss: 0.2566 - acc: 0.9155 - val_loss: 0.1477 - val_acc: 0.9301\n",
            "Epoch 12/100\n",
            "14/14 [==============================] - 0s 5ms/step - loss: 0.2472 - acc: 0.9178 - val_loss: 0.1444 - val_acc: 0.9371\n",
            "Epoch 13/100\n",
            "14/14 [==============================] - 0s 4ms/step - loss: 0.2705 - acc: 0.9085 - val_loss: 0.1418 - val_acc: 0.9371\n",
            "Epoch 14/100\n",
            "14/14 [==============================] - 0s 4ms/step - loss: 0.2408 - acc: 0.9202 - val_loss: 0.1590 - val_acc: 0.9371\n",
            "Epoch 15/100\n",
            "14/14 [==============================] - 0s 4ms/step - loss: 0.2317 - acc: 0.9155 - val_loss: 0.1554 - val_acc: 0.9371\n",
            "Epoch 16/100\n",
            "14/14 [==============================] - 0s 5ms/step - loss: 0.2691 - acc: 0.9085 - val_loss: 0.1334 - val_acc: 0.9301\n",
            "Epoch 17/100\n",
            "14/14 [==============================] - 0s 5ms/step - loss: 0.2418 - acc: 0.9155 - val_loss: 0.1466 - val_acc: 0.9371\n",
            "Epoch 18/100\n",
            "14/14 [==============================] - 0s 6ms/step - loss: 0.2354 - acc: 0.9155 - val_loss: 0.2549 - val_acc: 0.9161\n",
            "Epoch 19/100\n",
            "14/14 [==============================] - 0s 5ms/step - loss: 0.2430 - acc: 0.9085 - val_loss: 0.1264 - val_acc: 0.9371\n",
            "Epoch 20/100\n",
            "14/14 [==============================] - 0s 5ms/step - loss: 0.2397 - acc: 0.9131 - val_loss: 0.1581 - val_acc: 0.9441\n",
            "Epoch 21/100\n",
            "14/14 [==============================] - 0s 4ms/step - loss: 0.2066 - acc: 0.9225 - val_loss: 0.3967 - val_acc: 0.8531\n",
            "Epoch 22/100\n",
            "14/14 [==============================] - 0s 4ms/step - loss: 0.3465 - acc: 0.8944 - val_loss: 0.1304 - val_acc: 0.9371\n",
            "Epoch 23/100\n",
            "14/14 [==============================] - 0s 4ms/step - loss: 0.2287 - acc: 0.9249 - val_loss: 0.2566 - val_acc: 0.9091\n",
            "Epoch 24/100\n",
            "14/14 [==============================] - 0s 5ms/step - loss: 0.2455 - acc: 0.9202 - val_loss: 0.2560 - val_acc: 0.9021\n",
            "Epoch 25/100\n",
            "14/14 [==============================] - 0s 4ms/step - loss: 0.3239 - acc: 0.8756 - val_loss: 0.1382 - val_acc: 0.9510\n",
            "Epoch 26/100\n",
            "14/14 [==============================] - 0s 5ms/step - loss: 0.2787 - acc: 0.9014 - val_loss: 0.1738 - val_acc: 0.9231\n",
            "Epoch 27/100\n",
            "14/14 [==============================] - 0s 4ms/step - loss: 0.2296 - acc: 0.9155 - val_loss: 0.1716 - val_acc: 0.9371\n",
            "Epoch 28/100\n",
            "14/14 [==============================] - 0s 5ms/step - loss: 0.3809 - acc: 0.8850 - val_loss: 0.1921 - val_acc: 0.9231\n",
            "Epoch 29/100\n",
            "14/14 [==============================] - 0s 4ms/step - loss: 0.2856 - acc: 0.9038 - val_loss: 0.5958 - val_acc: 0.8881\n",
            "Epoch 30/100\n",
            "14/14 [==============================] - 0s 4ms/step - loss: 0.6796 - acc: 0.8404 - val_loss: 0.2584 - val_acc: 0.9231\n",
            "Epoch 31/100\n",
            "14/14 [==============================] - 0s 5ms/step - loss: 0.4625 - acc: 0.8920 - val_loss: 0.6809 - val_acc: 0.7832\n",
            "Epoch 32/100\n",
            "14/14 [==============================] - 0s 5ms/step - loss: 0.5374 - acc: 0.8779 - val_loss: 0.1143 - val_acc: 0.9371\n",
            "Epoch 33/100\n",
            "14/14 [==============================] - 0s 4ms/step - loss: 0.2625 - acc: 0.9319 - val_loss: 0.1693 - val_acc: 0.9441\n",
            "Epoch 34/100\n",
            "14/14 [==============================] - 0s 5ms/step - loss: 0.2600 - acc: 0.9225 - val_loss: 0.2633 - val_acc: 0.8951\n",
            "Epoch 35/100\n",
            "14/14 [==============================] - 0s 4ms/step - loss: 0.2848 - acc: 0.9178 - val_loss: 0.1295 - val_acc: 0.9510\n",
            "Epoch 36/100\n",
            "14/14 [==============================] - 0s 4ms/step - loss: 0.1997 - acc: 0.9178 - val_loss: 0.2160 - val_acc: 0.9301\n",
            "Epoch 37/100\n",
            "14/14 [==============================] - 0s 4ms/step - loss: 0.2751 - acc: 0.9108 - val_loss: 0.2850 - val_acc: 0.8881\n",
            "Epoch 38/100\n",
            "14/14 [==============================] - 0s 4ms/step - loss: 0.2187 - acc: 0.9225 - val_loss: 0.1872 - val_acc: 0.9231\n",
            "Epoch 39/100\n",
            "14/14 [==============================] - 0s 5ms/step - loss: 0.2070 - acc: 0.9202 - val_loss: 0.1259 - val_acc: 0.9510\n",
            "Epoch 40/100\n",
            "14/14 [==============================] - 0s 4ms/step - loss: 0.2036 - acc: 0.9272 - val_loss: 0.2432 - val_acc: 0.9231\n",
            "Epoch 41/100\n",
            "14/14 [==============================] - 0s 4ms/step - loss: 0.2053 - acc: 0.9296 - val_loss: 0.1467 - val_acc: 0.9371\n",
            "Epoch 42/100\n",
            "14/14 [==============================] - 0s 4ms/step - loss: 0.1774 - acc: 0.9366 - val_loss: 0.1536 - val_acc: 0.9371\n",
            "Epoch 43/100\n",
            "14/14 [==============================] - 0s 5ms/step - loss: 0.1762 - acc: 0.9319 - val_loss: 0.1149 - val_acc: 0.9580\n",
            "Epoch 44/100\n",
            "14/14 [==============================] - 0s 4ms/step - loss: 0.2016 - acc: 0.9272 - val_loss: 0.1186 - val_acc: 0.9580\n",
            "Epoch 45/100\n",
            "14/14 [==============================] - 0s 4ms/step - loss: 0.3090 - acc: 0.8991 - val_loss: 0.1118 - val_acc: 0.9441\n",
            "Epoch 46/100\n",
            "14/14 [==============================] - 0s 6ms/step - loss: 0.2662 - acc: 0.9061 - val_loss: 0.1150 - val_acc: 0.9371\n",
            "Epoch 47/100\n",
            "14/14 [==============================] - 0s 5ms/step - loss: 0.3115 - acc: 0.8709 - val_loss: 0.1400 - val_acc: 0.9301\n",
            "Epoch 48/100\n",
            "14/14 [==============================] - 0s 5ms/step - loss: 0.2361 - acc: 0.9202 - val_loss: 0.1194 - val_acc: 0.9441\n",
            "Epoch 49/100\n",
            "14/14 [==============================] - 0s 4ms/step - loss: 0.2000 - acc: 0.9319 - val_loss: 0.1403 - val_acc: 0.9371\n",
            "Epoch 50/100\n",
            "14/14 [==============================] - 0s 4ms/step - loss: 0.2518 - acc: 0.9038 - val_loss: 0.1816 - val_acc: 0.9231\n",
            "Epoch 51/100\n",
            "14/14 [==============================] - 0s 5ms/step - loss: 0.1904 - acc: 0.9319 - val_loss: 0.1649 - val_acc: 0.9231\n",
            "Epoch 52/100\n",
            "14/14 [==============================] - 0s 4ms/step - loss: 0.1895 - acc: 0.9249 - val_loss: 0.2576 - val_acc: 0.9231\n",
            "Epoch 53/100\n",
            "14/14 [==============================] - 0s 6ms/step - loss: 0.2858 - acc: 0.9038 - val_loss: 0.1581 - val_acc: 0.9371\n",
            "Epoch 54/100\n",
            "14/14 [==============================] - 0s 5ms/step - loss: 0.1939 - acc: 0.9296 - val_loss: 0.1044 - val_acc: 0.9441\n",
            "Epoch 55/100\n",
            "14/14 [==============================] - 0s 6ms/step - loss: 0.4537 - acc: 0.8592 - val_loss: 0.7390 - val_acc: 0.7413\n",
            "Epoch 56/100\n",
            "14/14 [==============================] - 0s 4ms/step - loss: 0.5042 - acc: 0.8521 - val_loss: 0.1157 - val_acc: 0.9510\n",
            "Epoch 57/100\n",
            "14/14 [==============================] - 0s 4ms/step - loss: 0.3384 - acc: 0.9249 - val_loss: 0.4157 - val_acc: 0.8741\n",
            "Epoch 58/100\n",
            "14/14 [==============================] - 0s 5ms/step - loss: 0.3611 - acc: 0.8944 - val_loss: 0.4049 - val_acc: 0.9231\n",
            "Epoch 59/100\n",
            "14/14 [==============================] - 0s 4ms/step - loss: 0.4630 - acc: 0.8779 - val_loss: 0.3092 - val_acc: 0.9231\n",
            "Epoch 60/100\n",
            "14/14 [==============================] - 0s 4ms/step - loss: 0.2685 - acc: 0.9131 - val_loss: 0.0966 - val_acc: 0.9510\n",
            "Epoch 61/100\n",
            "14/14 [==============================] - 0s 5ms/step - loss: 0.2551 - acc: 0.9225 - val_loss: 0.1477 - val_acc: 0.9441\n",
            "Epoch 62/100\n",
            "14/14 [==============================] - 0s 4ms/step - loss: 0.2342 - acc: 0.9225 - val_loss: 0.2452 - val_acc: 0.9231\n",
            "Epoch 63/100\n",
            "14/14 [==============================] - 0s 4ms/step - loss: 0.2622 - acc: 0.9202 - val_loss: 0.0931 - val_acc: 0.9510\n",
            "Epoch 64/100\n",
            "14/14 [==============================] - 0s 5ms/step - loss: 0.3709 - acc: 0.8991 - val_loss: 0.2694 - val_acc: 0.8951\n",
            "Epoch 65/100\n",
            "14/14 [==============================] - 0s 4ms/step - loss: 0.2930 - acc: 0.9131 - val_loss: 0.2024 - val_acc: 0.9231\n",
            "Epoch 66/100\n",
            "14/14 [==============================] - 0s 4ms/step - loss: 0.2557 - acc: 0.9131 - val_loss: 0.1812 - val_acc: 0.9231\n",
            "Epoch 67/100\n",
            "14/14 [==============================] - 0s 5ms/step - loss: 0.2171 - acc: 0.9225 - val_loss: 0.1020 - val_acc: 0.9720\n",
            "Epoch 68/100\n",
            "14/14 [==============================] - 0s 5ms/step - loss: 0.2076 - acc: 0.9272 - val_loss: 0.2211 - val_acc: 0.9231\n",
            "Epoch 69/100\n",
            "14/14 [==============================] - 0s 6ms/step - loss: 0.2093 - acc: 0.9272 - val_loss: 0.1140 - val_acc: 0.9510\n",
            "Epoch 70/100\n",
            "14/14 [==============================] - 0s 4ms/step - loss: 0.2410 - acc: 0.9202 - val_loss: 0.1188 - val_acc: 0.9510\n",
            "Epoch 71/100\n",
            "14/14 [==============================] - 0s 4ms/step - loss: 0.2413 - acc: 0.9155 - val_loss: 0.2081 - val_acc: 0.9231\n",
            "Epoch 72/100\n",
            "14/14 [==============================] - 0s 4ms/step - loss: 0.2482 - acc: 0.9296 - val_loss: 0.2712 - val_acc: 0.8951\n",
            "Epoch 73/100\n",
            "14/14 [==============================] - 0s 5ms/step - loss: 0.2539 - acc: 0.9178 - val_loss: 0.2728 - val_acc: 0.9231\n",
            "Epoch 74/100\n",
            "14/14 [==============================] - 0s 5ms/step - loss: 0.2332 - acc: 0.9178 - val_loss: 0.1938 - val_acc: 0.9021\n",
            "Epoch 75/100\n",
            "14/14 [==============================] - 0s 5ms/step - loss: 0.2205 - acc: 0.9131 - val_loss: 0.1843 - val_acc: 0.9231\n",
            "Epoch 76/100\n",
            "14/14 [==============================] - 0s 4ms/step - loss: 0.2409 - acc: 0.9225 - val_loss: 0.2409 - val_acc: 0.9231\n",
            "Epoch 77/100\n",
            "14/14 [==============================] - 0s 4ms/step - loss: 0.3448 - acc: 0.8967 - val_loss: 0.2356 - val_acc: 0.8951\n",
            "Epoch 78/100\n",
            "14/14 [==============================] - 0s 5ms/step - loss: 0.2145 - acc: 0.9202 - val_loss: 0.0961 - val_acc: 0.9650\n",
            "Epoch 79/100\n",
            "14/14 [==============================] - 0s 5ms/step - loss: 0.2049 - acc: 0.9202 - val_loss: 0.2859 - val_acc: 0.8951\n",
            "Epoch 80/100\n",
            "14/14 [==============================] - 0s 4ms/step - loss: 0.2328 - acc: 0.9038 - val_loss: 0.1239 - val_acc: 0.9510\n",
            "Epoch 81/100\n",
            "14/14 [==============================] - 0s 5ms/step - loss: 0.1818 - acc: 0.9366 - val_loss: 0.1844 - val_acc: 0.9301\n",
            "Epoch 82/100\n",
            "14/14 [==============================] - 0s 4ms/step - loss: 0.1881 - acc: 0.9296 - val_loss: 0.1131 - val_acc: 0.9510\n",
            "Epoch 83/100\n",
            "14/14 [==============================] - 0s 6ms/step - loss: 0.1785 - acc: 0.9319 - val_loss: 0.1285 - val_acc: 0.9510\n",
            "Epoch 84/100\n",
            "14/14 [==============================] - 0s 4ms/step - loss: 0.1621 - acc: 0.9390 - val_loss: 0.1333 - val_acc: 0.9371\n",
            "Epoch 85/100\n",
            "14/14 [==============================] - 0s 5ms/step - loss: 0.1874 - acc: 0.9390 - val_loss: 0.1204 - val_acc: 0.9371\n",
            "Epoch 86/100\n",
            "14/14 [==============================] - 0s 4ms/step - loss: 0.2306 - acc: 0.9108 - val_loss: 0.5106 - val_acc: 0.9091\n",
            "Epoch 87/100\n",
            "14/14 [==============================] - 0s 5ms/step - loss: 0.4264 - acc: 0.8779 - val_loss: 0.6576 - val_acc: 0.7622\n",
            "Epoch 88/100\n",
            "14/14 [==============================] - 0s 5ms/step - loss: 0.3104 - acc: 0.8944 - val_loss: 0.1299 - val_acc: 0.9510\n",
            "Epoch 89/100\n",
            "14/14 [==============================] - 0s 5ms/step - loss: 0.2326 - acc: 0.9178 - val_loss: 0.0963 - val_acc: 0.9650\n",
            "Epoch 90/100\n",
            "14/14 [==============================] - 0s 5ms/step - loss: 0.2244 - acc: 0.9272 - val_loss: 0.3603 - val_acc: 0.9161\n",
            "Epoch 91/100\n",
            "14/14 [==============================] - 0s 4ms/step - loss: 0.3049 - acc: 0.9038 - val_loss: 0.0945 - val_acc: 0.9650\n",
            "Epoch 92/100\n",
            "14/14 [==============================] - 0s 4ms/step - loss: 0.2198 - acc: 0.9296 - val_loss: 0.1822 - val_acc: 0.9301\n",
            "Epoch 93/100\n",
            "14/14 [==============================] - 0s 4ms/step - loss: 0.2403 - acc: 0.9272 - val_loss: 0.1679 - val_acc: 0.9301\n",
            "Epoch 94/100\n",
            "14/14 [==============================] - 0s 4ms/step - loss: 0.1913 - acc: 0.9296 - val_loss: 0.1198 - val_acc: 0.9510\n",
            "Epoch 95/100\n",
            "14/14 [==============================] - 0s 5ms/step - loss: 0.1943 - acc: 0.9319 - val_loss: 0.1076 - val_acc: 0.9441\n",
            "Epoch 96/100\n",
            "14/14 [==============================] - 0s 4ms/step - loss: 0.1854 - acc: 0.9319 - val_loss: 0.1043 - val_acc: 0.9510\n",
            "Epoch 97/100\n",
            "14/14 [==============================] - 0s 4ms/step - loss: 0.1457 - acc: 0.9460 - val_loss: 0.1058 - val_acc: 0.9510\n",
            "Epoch 98/100\n",
            "14/14 [==============================] - 0s 5ms/step - loss: 0.1544 - acc: 0.9437 - val_loss: 0.1037 - val_acc: 0.9441\n",
            "Epoch 99/100\n",
            "14/14 [==============================] - 0s 4ms/step - loss: 0.1392 - acc: 0.9413 - val_loss: 0.0942 - val_acc: 0.9720\n",
            "Epoch 100/100\n",
            "14/14 [==============================] - 0s 5ms/step - loss: 0.1798 - acc: 0.9413 - val_loss: 0.0928 - val_acc: 0.9720\n"
          ]
        }
      ]
    },
    {
      "cell_type": "markdown",
      "source": [
        "Get the scores for this model. The benchmark model has an accuracy of 94.4%"
      ],
      "metadata": {
        "id": "oUfuwTPdpKWt"
      }
    },
    {
      "cell_type": "code",
      "metadata": {
        "id": "EBYPua9zH-E6",
        "colab": {
          "base_uri": "https://localhost:8080/"
        },
        "outputId": "b82c0c1a-626b-4bda-ca64-002bb90df948"
      },
      "source": [
        "scores = model.evaluate(X_test_raw, Y_test)\n",
        "print('Loss: {:.2}\\nAccuracy: {:.2%}'.format(scores[0], scores[1]))"
      ],
      "execution_count": 17,
      "outputs": [
        {
          "output_type": "stream",
          "name": "stdout",
          "text": [
            "5/5 [==============================] - 0s 3ms/step - loss: 0.0928 - acc: 0.9720\n",
            "Loss: 0.093\n",
            "Accuracy: 97.20%\n"
          ]
        }
      ]
    },
    {
      "cell_type": "markdown",
      "source": [
        "Plot the accuracy using the history method for the Keras model"
      ],
      "metadata": {
        "id": "xxk5ifO6p1gA"
      }
    },
    {
      "cell_type": "code",
      "source": [
        "# summarize history for accuracy\n",
        "plt.plot(my_first_nn_fitted.history['acc'])\n",
        "plt.plot(my_first_nn_fitted.history['val_acc'])\n",
        "plt.title('Model Accuracy')\n",
        "plt.ylabel('Accuracy')\n",
        "plt.xlabel('Epoch')\n",
        "plt.legend(['Train', 'Test'], loc='upper left')\n",
        "plt.show()"
      ],
      "metadata": {
        "id": "0riCHeLNIECW",
        "colab": {
          "base_uri": "https://localhost:8080/",
          "height": 295
        },
        "outputId": "12f70933-7127-4b5c-dddb-7bd9451e2cb2"
      },
      "execution_count": 18,
      "outputs": [
        {
          "output_type": "display_data",
          "data": {
            "text/plain": [
              "<Figure size 432x288 with 1 Axes>"
            ],
            "image/png": "[encoded data removed]"
          },
          "metadata": {
            "needs_background": "light"
          }
        }
      ]
    },
    {
      "cell_type": "markdown",
      "source": [
        "Plot the accuracy using the history method for the Keras model"
      ],
      "metadata": {
        "id": "ahrt2_XQp-hK"
      }
    },
    {
      "cell_type": "code",
      "source": [
        "# summarize history for loss\n",
        "plt.plot(my_first_nn_fitted.history['loss'])\n",
        "plt.plot(my_first_nn_fitted.history['val_loss'])\n",
        "plt.title('Model Loss')\n",
        "plt.ylabel('Loss')\n",
        "plt.xlabel('Epoch')\n",
        "plt.legend(['Train', 'Test'], loc='upper left')\n",
        "plt.show()"
      ],
      "metadata": {
        "id": "ROlEAjgSIZX2",
        "colab": {
          "base_uri": "https://localhost:8080/",
          "height": 295
        },
        "outputId": "85315610-d823-4ba6-8cc8-717956063d90"
      },
      "execution_count": 19,
      "outputs": [
        {
          "output_type": "display_data",
          "data": {
            "text/plain": [
              "<Figure size 432x288 with 1 Axes>"
            ],
            "image/png": "[encoded data removed]"
          },
          "metadata": {
            "needs_background": "light"
          }
        }
      ]
    },
    {
      "cell_type": "markdown",
      "source": [
        "## Model Creation (Normalized Data)\n",
        "\n",
        "Loss: 0.15\n",
        "\n",
        "Accuracy: 97.90%"
      ],
      "metadata": {
        "id": "eP56hzhJrb7C"
      }
    },
    {
      "cell_type": "markdown",
      "source": [
        "In this model, we will use the normalized data and see what difference that makes"
      ],
      "metadata": {
        "id": "pDELJGuorgh1"
      }
    },
    {
      "cell_type": "code",
      "metadata": {
        "id": "-TVPFuKHrb7D",
        "colab": {
          "base_uri": "https://localhost:8080/"
        },
        "outputId": "ea96d708-c803-4566-9f9f-d4eb9b56afb9"
      },
      "source": [
        "model = keras.Sequential() # create model\n",
        "\n",
        "# input dimensions are 30 from above.\n",
        "model.add(layers.Dense(32, input_dim=30, activation='relu')) # Input layer\n",
        "\n",
        "model.add(layers.Dense(64, activation='relu')) # hidden layer\n",
        "\n",
        "model.add(layers.Dense(1, activation='sigmoid')) # output layer\n",
        "\n",
        "model.compile(loss='binary_crossentropy', optimizer='adam', metrics=['acc'])\n",
        "\n",
        "model.summary()"
      ],
      "execution_count": 20,
      "outputs": [
        {
          "output_type": "stream",
          "name": "stdout",
          "text": [
            "Model: \"sequential_1\"\n",
            "_________________________________________________________________\n",
            " Layer (type)                Output Shape              Param #   \n",
            "=================================================================\n",
            " dense_3 (Dense)             (None, 32)                992       \n",
            "                                                                 \n",
            " dense_4 (Dense)             (None, 64)                2112      \n",
            "                                                                 \n",
            " dense_5 (Dense)             (None, 1)                 65        \n",
            "                                                                 \n",
            "=================================================================\n",
            "Total params: 3,169\n",
            "Trainable params: 3,169\n",
            "Non-trainable params: 0\n",
            "_________________________________________________________________\n"
          ]
        }
      ]
    },
    {
      "cell_type": "code",
      "metadata": {
        "id": "HYFjXGhPrb7D",
        "colab": {
          "base_uri": "https://localhost:8080/"
        },
        "outputId": "38f3835d-0cd1-4576-bf6b-2e5975dbad39"
      },
      "source": [
        "my_first_nn_fitted_normal = model.fit(X_train, Y_train, epochs=100, validation_data=(X_test, Y_test))"
      ],
      "execution_count": 21,
      "outputs": [
        {
          "output_type": "stream",
          "name": "stdout",
          "text": [
            "Epoch 1/100\n",
            "14/14 [==============================] - 1s 13ms/step - loss: 0.5421 - acc: 0.7934 - val_loss: 0.3766 - val_acc: 0.9231\n",
            "Epoch 2/100\n",
            "14/14 [==============================] - 0s 4ms/step - loss: 0.3369 - acc: 0.9178 - val_loss: 0.2288 - val_acc: 0.9441\n",
            "Epoch 3/100\n",
            "14/14 [==============================] - 0s 5ms/step - loss: 0.2271 - acc: 0.9413 - val_loss: 0.1514 - val_acc: 0.9580\n",
            "Epoch 4/100\n",
            "14/14 [==============================] - 0s 5ms/step - loss: 0.1682 - acc: 0.9577 - val_loss: 0.1108 - val_acc: 0.9650\n",
            "Epoch 5/100\n",
            "14/14 [==============================] - 0s 5ms/step - loss: 0.1307 - acc: 0.9695 - val_loss: 0.0896 - val_acc: 0.9650\n",
            "Epoch 6/100\n",
            "14/14 [==============================] - 0s 4ms/step - loss: 0.1078 - acc: 0.9765 - val_loss: 0.0772 - val_acc: 0.9720\n",
            "Epoch 7/100\n",
            "14/14 [==============================] - 0s 5ms/step - loss: 0.0914 - acc: 0.9812 - val_loss: 0.0707 - val_acc: 0.9720\n",
            "Epoch 8/100\n",
            "14/14 [==============================] - 0s 5ms/step - loss: 0.0796 - acc: 0.9836 - val_loss: 0.0660 - val_acc: 0.9790\n",
            "Epoch 9/100\n",
            "14/14 [==============================] - 0s 4ms/step - loss: 0.0713 - acc: 0.9859 - val_loss: 0.0633 - val_acc: 0.9790\n",
            "Epoch 10/100\n",
            "14/14 [==============================] - 0s 5ms/step - loss: 0.0647 - acc: 0.9859 - val_loss: 0.0615 - val_acc: 0.9790\n",
            "Epoch 11/100\n",
            "14/14 [==============================] - 0s 4ms/step - loss: 0.0598 - acc: 0.9859 - val_loss: 0.0603 - val_acc: 0.9860\n",
            "Epoch 12/100\n",
            "14/14 [==============================] - 0s 4ms/step - loss: 0.0557 - acc: 0.9859 - val_loss: 0.0599 - val_acc: 0.9790\n",
            "Epoch 13/100\n",
            "14/14 [==============================] - 0s 5ms/step - loss: 0.0520 - acc: 0.9883 - val_loss: 0.0586 - val_acc: 0.9860\n",
            "Epoch 14/100\n",
            "14/14 [==============================] - 0s 4ms/step - loss: 0.0489 - acc: 0.9883 - val_loss: 0.0590 - val_acc: 0.9860\n",
            "Epoch 15/100\n",
            "14/14 [==============================] - 0s 5ms/step - loss: 0.0462 - acc: 0.9883 - val_loss: 0.0587 - val_acc: 0.9860\n",
            "Epoch 16/100\n",
            "14/14 [==============================] - 0s 4ms/step - loss: 0.0441 - acc: 0.9906 - val_loss: 0.0592 - val_acc: 0.9860\n",
            "Epoch 17/100\n",
            "14/14 [==============================] - 0s 5ms/step - loss: 0.0407 - acc: 0.9906 - val_loss: 0.0587 - val_acc: 0.9860\n",
            "Epoch 18/100\n",
            "14/14 [==============================] - 0s 4ms/step - loss: 0.0386 - acc: 0.9883 - val_loss: 0.0589 - val_acc: 0.9860\n",
            "Epoch 19/100\n",
            "14/14 [==============================] - 0s 5ms/step - loss: 0.0361 - acc: 0.9906 - val_loss: 0.0589 - val_acc: 0.9860\n",
            "Epoch 20/100\n",
            "14/14 [==============================] - 0s 4ms/step - loss: 0.0347 - acc: 0.9906 - val_loss: 0.0593 - val_acc: 0.9860\n",
            "Epoch 21/100\n",
            "14/14 [==============================] - 0s 4ms/step - loss: 0.0323 - acc: 0.9930 - val_loss: 0.0608 - val_acc: 0.9860\n",
            "Epoch 22/100\n",
            "14/14 [==============================] - 0s 4ms/step - loss: 0.0306 - acc: 0.9930 - val_loss: 0.0600 - val_acc: 0.9860\n",
            "Epoch 23/100\n",
            "14/14 [==============================] - 0s 4ms/step - loss: 0.0289 - acc: 0.9930 - val_loss: 0.0604 - val_acc: 0.9860\n",
            "Epoch 24/100\n",
            "14/14 [==============================] - 0s 4ms/step - loss: 0.0272 - acc: 0.9930 - val_loss: 0.0613 - val_acc: 0.9860\n",
            "Epoch 25/100\n",
            "14/14 [==============================] - 0s 5ms/step - loss: 0.0254 - acc: 0.9930 - val_loss: 0.0621 - val_acc: 0.9860\n",
            "Epoch 26/100\n",
            "14/14 [==============================] - 0s 5ms/step - loss: 0.0241 - acc: 0.9953 - val_loss: 0.0631 - val_acc: 0.9860\n",
            "Epoch 27/100\n",
            "14/14 [==============================] - 0s 4ms/step - loss: 0.0230 - acc: 0.9953 - val_loss: 0.0643 - val_acc: 0.9860\n",
            "Epoch 28/100\n",
            "14/14 [==============================] - 0s 4ms/step - loss: 0.0215 - acc: 0.9953 - val_loss: 0.0646 - val_acc: 0.9860\n",
            "Epoch 29/100\n",
            "14/14 [==============================] - 0s 4ms/step - loss: 0.0200 - acc: 0.9953 - val_loss: 0.0659 - val_acc: 0.9860\n",
            "Epoch 30/100\n",
            "14/14 [==============================] - 0s 4ms/step - loss: 0.0187 - acc: 0.9953 - val_loss: 0.0667 - val_acc: 0.9860\n",
            "Epoch 31/100\n",
            "14/14 [==============================] - 0s 4ms/step - loss: 0.0179 - acc: 0.9953 - val_loss: 0.0672 - val_acc: 0.9860\n",
            "Epoch 32/100\n",
            "14/14 [==============================] - 0s 5ms/step - loss: 0.0165 - acc: 0.9953 - val_loss: 0.0685 - val_acc: 0.9860\n",
            "Epoch 33/100\n",
            "14/14 [==============================] - 0s 4ms/step - loss: 0.0153 - acc: 0.9953 - val_loss: 0.0697 - val_acc: 0.9860\n",
            "Epoch 34/100\n",
            "14/14 [==============================] - 0s 5ms/step - loss: 0.0143 - acc: 0.9953 - val_loss: 0.0697 - val_acc: 0.9860\n",
            "Epoch 35/100\n",
            "14/14 [==============================] - 0s 5ms/step - loss: 0.0139 - acc: 0.9953 - val_loss: 0.0710 - val_acc: 0.9860\n",
            "Epoch 36/100\n",
            "14/14 [==============================] - 0s 4ms/step - loss: 0.0128 - acc: 0.9953 - val_loss: 0.0730 - val_acc: 0.9860\n",
            "Epoch 37/100\n",
            "14/14 [==============================] - 0s 4ms/step - loss: 0.0126 - acc: 0.9953 - val_loss: 0.0729 - val_acc: 0.9860\n",
            "Epoch 38/100\n",
            "14/14 [==============================] - 0s 4ms/step - loss: 0.0113 - acc: 0.9977 - val_loss: 0.0733 - val_acc: 0.9860\n",
            "Epoch 39/100\n",
            "14/14 [==============================] - 0s 5ms/step - loss: 0.0106 - acc: 0.9977 - val_loss: 0.0742 - val_acc: 0.9860\n",
            "Epoch 40/100\n",
            "14/14 [==============================] - 0s 4ms/step - loss: 0.0106 - acc: 0.9977 - val_loss: 0.0757 - val_acc: 0.9860\n",
            "Epoch 41/100\n",
            "14/14 [==============================] - 0s 5ms/step - loss: 0.0097 - acc: 0.9977 - val_loss: 0.0765 - val_acc: 0.9860\n",
            "Epoch 42/100\n",
            "14/14 [==============================] - 0s 4ms/step - loss: 0.0092 - acc: 1.0000 - val_loss: 0.0777 - val_acc: 0.9860\n",
            "Epoch 43/100\n",
            "14/14 [==============================] - 0s 4ms/step - loss: 0.0087 - acc: 0.9977 - val_loss: 0.0786 - val_acc: 0.9860\n",
            "Epoch 44/100\n",
            "14/14 [==============================] - 0s 4ms/step - loss: 0.0085 - acc: 0.9977 - val_loss: 0.0798 - val_acc: 0.9860\n",
            "Epoch 45/100\n",
            "14/14 [==============================] - 0s 4ms/step - loss: 0.0076 - acc: 1.0000 - val_loss: 0.0810 - val_acc: 0.9860\n",
            "Epoch 46/100\n",
            "14/14 [==============================] - 0s 4ms/step - loss: 0.0071 - acc: 1.0000 - val_loss: 0.0834 - val_acc: 0.9860\n",
            "Epoch 47/100\n",
            "14/14 [==============================] - 0s 4ms/step - loss: 0.0067 - acc: 1.0000 - val_loss: 0.0832 - val_acc: 0.9860\n",
            "Epoch 48/100\n",
            "14/14 [==============================] - 0s 5ms/step - loss: 0.0066 - acc: 1.0000 - val_loss: 0.0839 - val_acc: 0.9860\n",
            "Epoch 49/100\n",
            "14/14 [==============================] - 0s 4ms/step - loss: 0.0061 - acc: 1.0000 - val_loss: 0.0850 - val_acc: 0.9860\n",
            "Epoch 50/100\n",
            "14/14 [==============================] - 0s 4ms/step - loss: 0.0057 - acc: 1.0000 - val_loss: 0.0867 - val_acc: 0.9860\n",
            "Epoch 51/100\n",
            "14/14 [==============================] - 0s 4ms/step - loss: 0.0055 - acc: 1.0000 - val_loss: 0.0879 - val_acc: 0.9860\n",
            "Epoch 52/100\n",
            "14/14 [==============================] - 0s 5ms/step - loss: 0.0053 - acc: 1.0000 - val_loss: 0.0890 - val_acc: 0.9860\n",
            "Epoch 53/100\n",
            "14/14 [==============================] - 0s 5ms/step - loss: 0.0048 - acc: 1.0000 - val_loss: 0.0900 - val_acc: 0.9860\n",
            "Epoch 54/100\n",
            "14/14 [==============================] - 0s 4ms/step - loss: 0.0046 - acc: 1.0000 - val_loss: 0.0909 - val_acc: 0.9860\n",
            "Epoch 55/100\n",
            "14/14 [==============================] - 0s 4ms/step - loss: 0.0044 - acc: 1.0000 - val_loss: 0.0919 - val_acc: 0.9860\n",
            "Epoch 56/100\n",
            "14/14 [==============================] - 0s 5ms/step - loss: 0.0042 - acc: 1.0000 - val_loss: 0.0931 - val_acc: 0.9860\n",
            "Epoch 57/100\n",
            "14/14 [==============================] - 0s 5ms/step - loss: 0.0040 - acc: 1.0000 - val_loss: 0.0940 - val_acc: 0.9860\n",
            "Epoch 58/100\n",
            "14/14 [==============================] - 0s 5ms/step - loss: 0.0038 - acc: 1.0000 - val_loss: 0.0950 - val_acc: 0.9860\n",
            "Epoch 59/100\n",
            "14/14 [==============================] - 0s 4ms/step - loss: 0.0038 - acc: 1.0000 - val_loss: 0.0971 - val_acc: 0.9860\n",
            "Epoch 60/100\n",
            "14/14 [==============================] - 0s 4ms/step - loss: 0.0036 - acc: 1.0000 - val_loss: 0.0975 - val_acc: 0.9860\n",
            "Epoch 61/100\n",
            "14/14 [==============================] - 0s 5ms/step - loss: 0.0033 - acc: 1.0000 - val_loss: 0.0981 - val_acc: 0.9860\n",
            "Epoch 62/100\n",
            "14/14 [==============================] - 0s 6ms/step - loss: 0.0031 - acc: 1.0000 - val_loss: 0.0990 - val_acc: 0.9860\n",
            "Epoch 63/100\n",
            "14/14 [==============================] - 0s 4ms/step - loss: 0.0031 - acc: 1.0000 - val_loss: 0.1001 - val_acc: 0.9860\n",
            "Epoch 64/100\n",
            "14/14 [==============================] - 0s 5ms/step - loss: 0.0029 - acc: 1.0000 - val_loss: 0.1013 - val_acc: 0.9860\n",
            "Epoch 65/100\n",
            "14/14 [==============================] - 0s 5ms/step - loss: 0.0028 - acc: 1.0000 - val_loss: 0.1020 - val_acc: 0.9860\n",
            "Epoch 66/100\n",
            "14/14 [==============================] - 0s 5ms/step - loss: 0.0027 - acc: 1.0000 - val_loss: 0.1026 - val_acc: 0.9860\n",
            "Epoch 67/100\n",
            "14/14 [==============================] - 0s 5ms/step - loss: 0.0026 - acc: 1.0000 - val_loss: 0.1037 - val_acc: 0.9860\n",
            "Epoch 68/100\n",
            "14/14 [==============================] - 0s 4ms/step - loss: 0.0025 - acc: 1.0000 - val_loss: 0.1051 - val_acc: 0.9860\n",
            "Epoch 69/100\n",
            "14/14 [==============================] - 0s 4ms/step - loss: 0.0024 - acc: 1.0000 - val_loss: 0.1057 - val_acc: 0.9860\n",
            "Epoch 70/100\n",
            "14/14 [==============================] - 0s 4ms/step - loss: 0.0025 - acc: 1.0000 - val_loss: 0.1077 - val_acc: 0.9860\n",
            "Epoch 71/100\n",
            "14/14 [==============================] - 0s 5ms/step - loss: 0.0022 - acc: 1.0000 - val_loss: 0.1080 - val_acc: 0.9860\n",
            "Epoch 72/100\n",
            "14/14 [==============================] - 0s 4ms/step - loss: 0.0021 - acc: 1.0000 - val_loss: 0.1088 - val_acc: 0.9860\n",
            "Epoch 73/100\n",
            "14/14 [==============================] - 0s 4ms/step - loss: 0.0020 - acc: 1.0000 - val_loss: 0.1094 - val_acc: 0.9860\n",
            "Epoch 74/100\n",
            "14/14 [==============================] - 0s 5ms/step - loss: 0.0020 - acc: 1.0000 - val_loss: 0.1107 - val_acc: 0.9860\n",
            "Epoch 75/100\n",
            "14/14 [==============================] - 0s 4ms/step - loss: 0.0020 - acc: 1.0000 - val_loss: 0.1114 - val_acc: 0.9860\n",
            "Epoch 76/100\n",
            "14/14 [==============================] - 0s 5ms/step - loss: 0.0018 - acc: 1.0000 - val_loss: 0.1119 - val_acc: 0.9860\n",
            "Epoch 77/100\n",
            "14/14 [==============================] - 0s 5ms/step - loss: 0.0017 - acc: 1.0000 - val_loss: 0.1126 - val_acc: 0.9860\n",
            "Epoch 78/100\n",
            "14/14 [==============================] - 0s 4ms/step - loss: 0.0017 - acc: 1.0000 - val_loss: 0.1139 - val_acc: 0.9860\n",
            "Epoch 79/100\n",
            "14/14 [==============================] - 0s 4ms/step - loss: 0.0016 - acc: 1.0000 - val_loss: 0.1145 - val_acc: 0.9860\n",
            "Epoch 80/100\n",
            "14/14 [==============================] - 0s 4ms/step - loss: 0.0016 - acc: 1.0000 - val_loss: 0.1155 - val_acc: 0.9860\n",
            "Epoch 81/100\n",
            "14/14 [==============================] - 0s 4ms/step - loss: 0.0015 - acc: 1.0000 - val_loss: 0.1161 - val_acc: 0.9860\n",
            "Epoch 82/100\n",
            "14/14 [==============================] - 0s 5ms/step - loss: 0.0015 - acc: 1.0000 - val_loss: 0.1171 - val_acc: 0.9860\n",
            "Epoch 83/100\n",
            "14/14 [==============================] - 0s 5ms/step - loss: 0.0014 - acc: 1.0000 - val_loss: 0.1180 - val_acc: 0.9860\n",
            "Epoch 84/100\n",
            "14/14 [==============================] - 0s 4ms/step - loss: 0.0014 - acc: 1.0000 - val_loss: 0.1190 - val_acc: 0.9860\n",
            "Epoch 85/100\n",
            "14/14 [==============================] - 0s 4ms/step - loss: 0.0013 - acc: 1.0000 - val_loss: 0.1196 - val_acc: 0.9860\n",
            "Epoch 86/100\n",
            "14/14 [==============================] - 0s 4ms/step - loss: 0.0013 - acc: 1.0000 - val_loss: 0.1204 - val_acc: 0.9860\n",
            "Epoch 87/100\n",
            "14/14 [==============================] - 0s 4ms/step - loss: 0.0012 - acc: 1.0000 - val_loss: 0.1212 - val_acc: 0.9860\n",
            "Epoch 88/100\n",
            "14/14 [==============================] - 0s 4ms/step - loss: 0.0012 - acc: 1.0000 - val_loss: 0.1220 - val_acc: 0.9860\n",
            "Epoch 89/100\n",
            "14/14 [==============================] - 0s 4ms/step - loss: 0.0012 - acc: 1.0000 - val_loss: 0.1225 - val_acc: 0.9860\n",
            "Epoch 90/100\n",
            "14/14 [==============================] - 0s 4ms/step - loss: 0.0011 - acc: 1.0000 - val_loss: 0.1231 - val_acc: 0.9860\n",
            "Epoch 91/100\n",
            "14/14 [==============================] - 0s 5ms/step - loss: 0.0011 - acc: 1.0000 - val_loss: 0.1241 - val_acc: 0.9860\n",
            "Epoch 92/100\n",
            "14/14 [==============================] - 0s 4ms/step - loss: 0.0011 - acc: 1.0000 - val_loss: 0.1246 - val_acc: 0.9860\n",
            "Epoch 93/100\n",
            "14/14 [==============================] - 0s 4ms/step - loss: 0.0010 - acc: 1.0000 - val_loss: 0.1253 - val_acc: 0.9860\n",
            "Epoch 94/100\n",
            "14/14 [==============================] - 0s 5ms/step - loss: 9.9905e-04 - acc: 1.0000 - val_loss: 0.1261 - val_acc: 0.9860\n",
            "Epoch 95/100\n",
            "14/14 [==============================] - 0s 5ms/step - loss: 9.7188e-04 - acc: 1.0000 - val_loss: 0.1269 - val_acc: 0.9860\n",
            "Epoch 96/100\n",
            "14/14 [==============================] - 0s 6ms/step - loss: 9.4525e-04 - acc: 1.0000 - val_loss: 0.1272 - val_acc: 0.9860\n",
            "Epoch 97/100\n",
            "14/14 [==============================] - 0s 4ms/step - loss: 9.2639e-04 - acc: 1.0000 - val_loss: 0.1275 - val_acc: 0.9860\n",
            "Epoch 98/100\n",
            "14/14 [==============================] - 0s 4ms/step - loss: 9.0073e-04 - acc: 1.0000 - val_loss: 0.1284 - val_acc: 0.9860\n",
            "Epoch 99/100\n",
            "14/14 [==============================] - 0s 4ms/step - loss: 0.0011 - acc: 1.0000 - val_loss: 0.1295 - val_acc: 0.9860\n",
            "Epoch 100/100\n",
            "14/14 [==============================] - 0s 5ms/step - loss: 8.8782e-04 - acc: 1.0000 - val_loss: 0.1310 - val_acc: 0.9860\n"
          ]
        }
      ]
    },
    {
      "cell_type": "markdown",
      "source": [
        "Get the scores for this model. The benchmark model has an accuracy of 97.9%"
      ],
      "metadata": {
        "id": "fA1ZKcidrb7E"
      }
    },
    {
      "cell_type": "code",
      "metadata": {
        "id": "4hUUnURyrb7E",
        "colab": {
          "base_uri": "https://localhost:8080/"
        },
        "outputId": "ef135377-e98a-459d-f2a5-4f2555a70919"
      },
      "source": [
        "scores = model.evaluate(X_test, Y_test)\n",
        "print('Loss: {:.2}\\nAccuracy: {:.2%}'.format(scores[0], scores[1]))"
      ],
      "execution_count": 22,
      "outputs": [
        {
          "output_type": "stream",
          "name": "stdout",
          "text": [
            "5/5 [==============================] - 0s 3ms/step - loss: 0.1310 - acc: 0.9860\n",
            "Loss: 0.13\n",
            "Accuracy: 98.60%\n"
          ]
        }
      ]
    },
    {
      "cell_type": "markdown",
      "source": [
        "Plot the accuracy using the history method for the Keras model"
      ],
      "metadata": {
        "id": "Pnb-VxNxrb7E"
      }
    },
    {
      "cell_type": "code",
      "source": [
        "# summarize history for accuracy\n",
        "plt.plot(my_first_nn_fitted_normal.history['acc'])\n",
        "plt.plot(my_first_nn_fitted_normal.history['val_acc'])\n",
        "plt.title('Model Accuracy')\n",
        "plt.ylabel('Accuracy')\n",
        "plt.xlabel('Epoch')\n",
        "plt.legend(['Train', 'Test'], loc='upper left')\n",
        "plt.show()"
      ],
      "metadata": {
        "id": "Bdhrh7onrb7E",
        "colab": {
          "base_uri": "https://localhost:8080/",
          "height": 295
        },
        "outputId": "f3a93e4e-ba75-435b-d4c9-35eccc6adf57"
      },
      "execution_count": 23,
      "outputs": [
        {
          "output_type": "display_data",
          "data": {
            "text/plain": [
              "<Figure size 432x288 with 1 Axes>"
            ],
            "image/png": "[encoded data removed]"
          },
          "metadata": {
            "needs_background": "light"
          }
        }
      ]
    },
    {
      "cell_type": "markdown",
      "source": [
        "Plot the accuracy using the history method for the Keras model"
      ],
      "metadata": {
        "id": "HFyEfazArb7E"
      }
    },
    {
      "cell_type": "code",
      "source": [
        "# summarize history for loss\n",
        "plt.plot(my_first_nn_fitted_normal.history['loss'])\n",
        "plt.plot(my_first_nn_fitted_normal.history['val_loss'])\n",
        "plt.title('Model Loss')\n",
        "plt.ylabel('Loss')\n",
        "plt.xlabel('Epoch')\n",
        "plt.legend(['Train', 'Test'], loc='upper left')\n",
        "plt.show()"
      ],
      "metadata": {
        "id": "kzwTlEYYrb7E",
        "colab": {
          "base_uri": "https://localhost:8080/",
          "height": 295
        },
        "outputId": "2b0f396a-fa9a-4778-87ba-447f13ff1624"
      },
      "execution_count": 24,
      "outputs": [
        {
          "output_type": "display_data",
          "data": {
            "text/plain": [
              "<Figure size 432x288 with 1 Axes>"
            ],
            "image/png": "[encoded data removed]"
          },
          "metadata": {
            "needs_background": "light"
          }
        }
      ]
    },
    {
      "cell_type": "markdown",
      "source": [
        "## Model Creation (Normalized Data and Extra Dense Layers)\n",
        "\n",
        "Loss: 0.18\n",
        "\n",
        "Accuracy: 98.60%"
      ],
      "metadata": {
        "id": "hS3DrUG1qFzW"
      }
    },
    {
      "cell_type": "markdown",
      "source": [
        "This model will use the normalized data and extra dense layers"
      ],
      "metadata": {
        "id": "valoMsWG1yvF"
      }
    },
    {
      "cell_type": "code",
      "metadata": {
        "id": "anawNJ1aqFzX",
        "colab": {
          "base_uri": "https://localhost:8080/"
        },
        "outputId": "edb31e55-0b05-4c07-bee8-7132d5d659fc"
      },
      "source": [
        "model = keras.Sequential() # create model\n",
        "\n",
        "# input dimensions are 30 from above.\n",
        "model.add(layers.Dense(32, input_dim=30, activation='relu')) # Input layer\n",
        "\n",
        "model.add(layers.Dense(64, activation='relu')) # hidden layer\n",
        "\n",
        "model.add(layers.Dense(128, activation='relu')) # hidden layer\n",
        "\n",
        "model.add(layers.Dense(64, activation='relu')) # hidden layer\n",
        "\n",
        "model.add(layers.Dense(1, activation='sigmoid')) # output layer\n",
        "\n",
        "model.compile(loss='binary_crossentropy', optimizer='adam', metrics=['acc'])\n",
        "\n",
        "model.summary()"
      ],
      "execution_count": 25,
      "outputs": [
        {
          "output_type": "stream",
          "name": "stdout",
          "text": [
            "Model: \"sequential_2\"\n",
            "_________________________________________________________________\n",
            " Layer (type)                Output Shape              Param #   \n",
            "=================================================================\n",
            " dense_6 (Dense)             (None, 32)                992       \n",
            "                                                                 \n",
            " dense_7 (Dense)             (None, 64)                2112      \n",
            "                                                                 \n",
            " dense_8 (Dense)             (None, 128)               8320      \n",
            "                                                                 \n",
            " dense_9 (Dense)             (None, 64)                8256      \n",
            "                                                                 \n",
            " dense_10 (Dense)            (None, 1)                 65        \n",
            "                                                                 \n",
            "=================================================================\n",
            "Total params: 19,745\n",
            "Trainable params: 19,745\n",
            "Non-trainable params: 0\n",
            "_________________________________________________________________\n"
          ]
        }
      ]
    },
    {
      "cell_type": "code",
      "metadata": {
        "id": "2bmxIFTnqFzX",
        "colab": {
          "base_uri": "https://localhost:8080/"
        },
        "outputId": "c8cd57a8-77f0-4d6e-fb4b-a1928cd4893d"
      },
      "source": [
        "my_first_nn_fitted_dense = model.fit(X_train, Y_train, epochs=100, validation_data=(X_test, Y_test))"
      ],
      "execution_count": 26,
      "outputs": [
        {
          "output_type": "stream",
          "name": "stdout",
          "text": [
            "Epoch 1/100\n",
            "14/14 [==============================] - 1s 15ms/step - loss: 0.4699 - acc: 0.8756 - val_loss: 0.2348 - val_acc: 0.9580\n",
            "Epoch 2/100\n",
            "14/14 [==============================] - 0s 5ms/step - loss: 0.2003 - acc: 0.9366 - val_loss: 0.0980 - val_acc: 0.9650\n",
            "Epoch 3/100\n",
            "14/14 [==============================] - 0s 5ms/step - loss: 0.1124 - acc: 0.9624 - val_loss: 0.0692 - val_acc: 0.9720\n",
            "Epoch 4/100\n",
            "14/14 [==============================] - 0s 4ms/step - loss: 0.0902 - acc: 0.9695 - val_loss: 0.0671 - val_acc: 0.9790\n",
            "Epoch 5/100\n",
            "14/14 [==============================] - 0s 5ms/step - loss: 0.0686 - acc: 0.9789 - val_loss: 0.0618 - val_acc: 0.9790\n",
            "Epoch 6/100\n",
            "14/14 [==============================] - 0s 5ms/step - loss: 0.0559 - acc: 0.9836 - val_loss: 0.0604 - val_acc: 0.9790\n",
            "Epoch 7/100\n",
            "14/14 [==============================] - 0s 5ms/step - loss: 0.0489 - acc: 0.9859 - val_loss: 0.0636 - val_acc: 0.9720\n",
            "Epoch 8/100\n",
            "14/14 [==============================] - 0s 5ms/step - loss: 0.0442 - acc: 0.9859 - val_loss: 0.0679 - val_acc: 0.9790\n",
            "Epoch 9/100\n",
            "14/14 [==============================] - 0s 4ms/step - loss: 0.0364 - acc: 0.9883 - val_loss: 0.0654 - val_acc: 0.9790\n",
            "Epoch 10/100\n",
            "14/14 [==============================] - 0s 5ms/step - loss: 0.0342 - acc: 0.9883 - val_loss: 0.0707 - val_acc: 0.9790\n",
            "Epoch 11/100\n",
            "14/14 [==============================] - 0s 5ms/step - loss: 0.0279 - acc: 0.9906 - val_loss: 0.0702 - val_acc: 0.9790\n",
            "Epoch 12/100\n",
            "14/14 [==============================] - 0s 6ms/step - loss: 0.0215 - acc: 0.9953 - val_loss: 0.0723 - val_acc: 0.9790\n",
            "Epoch 13/100\n",
            "14/14 [==============================] - 0s 5ms/step - loss: 0.0181 - acc: 0.9953 - val_loss: 0.0850 - val_acc: 0.9790\n",
            "Epoch 14/100\n",
            "14/14 [==============================] - 0s 5ms/step - loss: 0.0172 - acc: 0.9977 - val_loss: 0.0804 - val_acc: 0.9790\n",
            "Epoch 15/100\n",
            "14/14 [==============================] - 0s 5ms/step - loss: 0.0120 - acc: 0.9977 - val_loss: 0.0829 - val_acc: 0.9790\n",
            "Epoch 16/100\n",
            "14/14 [==============================] - 0s 6ms/step - loss: 0.0105 - acc: 0.9953 - val_loss: 0.0881 - val_acc: 0.9790\n",
            "Epoch 17/100\n",
            "14/14 [==============================] - 0s 4ms/step - loss: 0.0085 - acc: 0.9977 - val_loss: 0.0879 - val_acc: 0.9790\n",
            "Epoch 18/100\n",
            "14/14 [==============================] - 0s 4ms/step - loss: 0.0079 - acc: 0.9977 - val_loss: 0.0985 - val_acc: 0.9790\n",
            "Epoch 19/100\n",
            "14/14 [==============================] - 0s 5ms/step - loss: 0.0050 - acc: 1.0000 - val_loss: 0.0973 - val_acc: 0.9790\n",
            "Epoch 20/100\n",
            "14/14 [==============================] - 0s 5ms/step - loss: 0.0033 - acc: 1.0000 - val_loss: 0.1030 - val_acc: 0.9790\n",
            "Epoch 21/100\n",
            "14/14 [==============================] - 0s 5ms/step - loss: 0.0029 - acc: 1.0000 - val_loss: 0.1038 - val_acc: 0.9790\n",
            "Epoch 22/100\n",
            "14/14 [==============================] - 0s 5ms/step - loss: 0.0022 - acc: 1.0000 - val_loss: 0.1072 - val_acc: 0.9790\n",
            "Epoch 23/100\n",
            "14/14 [==============================] - 0s 4ms/step - loss: 0.0019 - acc: 1.0000 - val_loss: 0.1088 - val_acc: 0.9790\n",
            "Epoch 24/100\n",
            "14/14 [==============================] - 0s 5ms/step - loss: 0.0016 - acc: 1.0000 - val_loss: 0.1109 - val_acc: 0.9790\n",
            "Epoch 25/100\n",
            "14/14 [==============================] - 0s 4ms/step - loss: 0.0014 - acc: 1.0000 - val_loss: 0.1121 - val_acc: 0.9790\n",
            "Epoch 26/100\n",
            "14/14 [==============================] - 0s 6ms/step - loss: 0.0011 - acc: 1.0000 - val_loss: 0.1158 - val_acc: 0.9790\n",
            "Epoch 27/100\n",
            "14/14 [==============================] - 0s 4ms/step - loss: 9.5023e-04 - acc: 1.0000 - val_loss: 0.1153 - val_acc: 0.9790\n",
            "Epoch 28/100\n",
            "14/14 [==============================] - 0s 5ms/step - loss: 8.9272e-04 - acc: 1.0000 - val_loss: 0.1192 - val_acc: 0.9790\n",
            "Epoch 29/100\n",
            "14/14 [==============================] - 0s 5ms/step - loss: 7.5325e-04 - acc: 1.0000 - val_loss: 0.1199 - val_acc: 0.9790\n",
            "Epoch 30/100\n",
            "14/14 [==============================] - 0s 5ms/step - loss: 6.3703e-04 - acc: 1.0000 - val_loss: 0.1229 - val_acc: 0.9790\n",
            "Epoch 31/100\n",
            "14/14 [==============================] - 0s 4ms/step - loss: 5.6239e-04 - acc: 1.0000 - val_loss: 0.1229 - val_acc: 0.9790\n",
            "Epoch 32/100\n",
            "14/14 [==============================] - 0s 5ms/step - loss: 5.4082e-04 - acc: 1.0000 - val_loss: 0.1244 - val_acc: 0.9790\n",
            "Epoch 33/100\n",
            "14/14 [==============================] - 0s 4ms/step - loss: 4.7517e-04 - acc: 1.0000 - val_loss: 0.1266 - val_acc: 0.9790\n",
            "Epoch 34/100\n",
            "14/14 [==============================] - 0s 5ms/step - loss: 4.0756e-04 - acc: 1.0000 - val_loss: 0.1268 - val_acc: 0.9790\n",
            "Epoch 35/100\n",
            "14/14 [==============================] - 0s 5ms/step - loss: 3.7742e-04 - acc: 1.0000 - val_loss: 0.1290 - val_acc: 0.9790\n",
            "Epoch 36/100\n",
            "14/14 [==============================] - 0s 5ms/step - loss: 3.4849e-04 - acc: 1.0000 - val_loss: 0.1295 - val_acc: 0.9790\n",
            "Epoch 37/100\n",
            "14/14 [==============================] - 0s 5ms/step - loss: 3.2369e-04 - acc: 1.0000 - val_loss: 0.1304 - val_acc: 0.9790\n",
            "Epoch 38/100\n",
            "14/14 [==============================] - 0s 5ms/step - loss: 2.9514e-04 - acc: 1.0000 - val_loss: 0.1319 - val_acc: 0.9790\n",
            "Epoch 39/100\n",
            "14/14 [==============================] - 0s 5ms/step - loss: 2.6621e-04 - acc: 1.0000 - val_loss: 0.1340 - val_acc: 0.9790\n",
            "Epoch 40/100\n",
            "14/14 [==============================] - 0s 5ms/step - loss: 2.5173e-04 - acc: 1.0000 - val_loss: 0.1336 - val_acc: 0.9860\n",
            "Epoch 41/100\n",
            "14/14 [==============================] - 0s 5ms/step - loss: 2.3649e-04 - acc: 1.0000 - val_loss: 0.1351 - val_acc: 0.9790\n",
            "Epoch 42/100\n",
            "14/14 [==============================] - 0s 5ms/step - loss: 2.1868e-04 - acc: 1.0000 - val_loss: 0.1361 - val_acc: 0.9790\n",
            "Epoch 43/100\n",
            "14/14 [==============================] - 0s 5ms/step - loss: 1.9818e-04 - acc: 1.0000 - val_loss: 0.1363 - val_acc: 0.9860\n",
            "Epoch 44/100\n",
            "14/14 [==============================] - 0s 4ms/step - loss: 1.9686e-04 - acc: 1.0000 - val_loss: 0.1362 - val_acc: 0.9860\n",
            "Epoch 45/100\n",
            "14/14 [==============================] - 0s 5ms/step - loss: 1.8283e-04 - acc: 1.0000 - val_loss: 0.1379 - val_acc: 0.9860\n",
            "Epoch 46/100\n",
            "14/14 [==============================] - 0s 4ms/step - loss: 1.6583e-04 - acc: 1.0000 - val_loss: 0.1386 - val_acc: 0.9860\n",
            "Epoch 47/100\n",
            "14/14 [==============================] - 0s 4ms/step - loss: 1.5518e-04 - acc: 1.0000 - val_loss: 0.1397 - val_acc: 0.9860\n",
            "Epoch 48/100\n",
            "14/14 [==============================] - 0s 5ms/step - loss: 1.4700e-04 - acc: 1.0000 - val_loss: 0.1408 - val_acc: 0.9860\n",
            "Epoch 49/100\n",
            "14/14 [==============================] - 0s 5ms/step - loss: 1.4501e-04 - acc: 1.0000 - val_loss: 0.1409 - val_acc: 0.9860\n",
            "Epoch 50/100\n",
            "14/14 [==============================] - 0s 4ms/step - loss: 1.2828e-04 - acc: 1.0000 - val_loss: 0.1427 - val_acc: 0.9860\n",
            "Epoch 51/100\n",
            "14/14 [==============================] - 0s 5ms/step - loss: 1.2372e-04 - acc: 1.0000 - val_loss: 0.1435 - val_acc: 0.9860\n",
            "Epoch 52/100\n",
            "14/14 [==============================] - 0s 5ms/step - loss: 1.1581e-04 - acc: 1.0000 - val_loss: 0.1442 - val_acc: 0.9860\n",
            "Epoch 53/100\n",
            "14/14 [==============================] - 0s 6ms/step - loss: 1.0973e-04 - acc: 1.0000 - val_loss: 0.1447 - val_acc: 0.9860\n",
            "Epoch 54/100\n",
            "14/14 [==============================] - 0s 4ms/step - loss: 1.0806e-04 - acc: 1.0000 - val_loss: 0.1449 - val_acc: 0.9860\n",
            "Epoch 55/100\n",
            "14/14 [==============================] - 0s 5ms/step - loss: 9.8290e-05 - acc: 1.0000 - val_loss: 0.1467 - val_acc: 0.9860\n",
            "Epoch 56/100\n",
            "14/14 [==============================] - 0s 5ms/step - loss: 9.4955e-05 - acc: 1.0000 - val_loss: 0.1473 - val_acc: 0.9860\n",
            "Epoch 57/100\n",
            "14/14 [==============================] - 0s 4ms/step - loss: 9.3140e-05 - acc: 1.0000 - val_loss: 0.1468 - val_acc: 0.9860\n",
            "Epoch 58/100\n",
            "14/14 [==============================] - 0s 4ms/step - loss: 8.8570e-05 - acc: 1.0000 - val_loss: 0.1490 - val_acc: 0.9860\n",
            "Epoch 59/100\n",
            "14/14 [==============================] - 0s 4ms/step - loss: 8.0548e-05 - acc: 1.0000 - val_loss: 0.1491 - val_acc: 0.9860\n",
            "Epoch 60/100\n",
            "14/14 [==============================] - 0s 5ms/step - loss: 7.7289e-05 - acc: 1.0000 - val_loss: 0.1492 - val_acc: 0.9860\n",
            "Epoch 61/100\n",
            "14/14 [==============================] - 0s 5ms/step - loss: 7.2667e-05 - acc: 1.0000 - val_loss: 0.1497 - val_acc: 0.9860\n",
            "Epoch 62/100\n",
            "14/14 [==============================] - 0s 5ms/step - loss: 6.9574e-05 - acc: 1.0000 - val_loss: 0.1505 - val_acc: 0.9860\n",
            "Epoch 63/100\n",
            "14/14 [==============================] - 0s 5ms/step - loss: 7.1644e-05 - acc: 1.0000 - val_loss: 0.1521 - val_acc: 0.9860\n",
            "Epoch 64/100\n",
            "14/14 [==============================] - 0s 5ms/step - loss: 6.4929e-05 - acc: 1.0000 - val_loss: 0.1519 - val_acc: 0.9860\n",
            "Epoch 65/100\n",
            "14/14 [==============================] - 0s 5ms/step - loss: 6.0706e-05 - acc: 1.0000 - val_loss: 0.1525 - val_acc: 0.9860\n",
            "Epoch 66/100\n",
            "14/14 [==============================] - 0s 5ms/step - loss: 5.7877e-05 - acc: 1.0000 - val_loss: 0.1529 - val_acc: 0.9860\n",
            "Epoch 67/100\n",
            "14/14 [==============================] - 0s 5ms/step - loss: 5.5901e-05 - acc: 1.0000 - val_loss: 0.1535 - val_acc: 0.9860\n",
            "Epoch 68/100\n",
            "14/14 [==============================] - 0s 4ms/step - loss: 5.2901e-05 - acc: 1.0000 - val_loss: 0.1545 - val_acc: 0.9860\n",
            "Epoch 69/100\n",
            "14/14 [==============================] - 0s 5ms/step - loss: 5.1226e-05 - acc: 1.0000 - val_loss: 0.1551 - val_acc: 0.9860\n",
            "Epoch 70/100\n",
            "14/14 [==============================] - 0s 5ms/step - loss: 4.9361e-05 - acc: 1.0000 - val_loss: 0.1552 - val_acc: 0.9860\n",
            "Epoch 71/100\n",
            "14/14 [==============================] - 0s 5ms/step - loss: 4.6563e-05 - acc: 1.0000 - val_loss: 0.1559 - val_acc: 0.9860\n",
            "Epoch 72/100\n",
            "14/14 [==============================] - 0s 4ms/step - loss: 4.4864e-05 - acc: 1.0000 - val_loss: 0.1567 - val_acc: 0.9860\n",
            "Epoch 73/100\n",
            "14/14 [==============================] - 0s 6ms/step - loss: 4.3964e-05 - acc: 1.0000 - val_loss: 0.1576 - val_acc: 0.9860\n",
            "Epoch 74/100\n",
            "14/14 [==============================] - 0s 5ms/step - loss: 4.2196e-05 - acc: 1.0000 - val_loss: 0.1578 - val_acc: 0.9860\n",
            "Epoch 75/100\n",
            "14/14 [==============================] - 0s 5ms/step - loss: 3.9909e-05 - acc: 1.0000 - val_loss: 0.1590 - val_acc: 0.9860\n",
            "Epoch 76/100\n",
            "14/14 [==============================] - 0s 6ms/step - loss: 3.8722e-05 - acc: 1.0000 - val_loss: 0.1592 - val_acc: 0.9860\n",
            "Epoch 77/100\n",
            "14/14 [==============================] - 0s 5ms/step - loss: 3.6880e-05 - acc: 1.0000 - val_loss: 0.1589 - val_acc: 0.9860\n",
            "Epoch 78/100\n",
            "14/14 [==============================] - 0s 5ms/step - loss: 3.6716e-05 - acc: 1.0000 - val_loss: 0.1592 - val_acc: 0.9860\n",
            "Epoch 79/100\n",
            "14/14 [==============================] - 0s 6ms/step - loss: 3.4640e-05 - acc: 1.0000 - val_loss: 0.1602 - val_acc: 0.9860\n",
            "Epoch 80/100\n",
            "14/14 [==============================] - 0s 5ms/step - loss: 3.3567e-05 - acc: 1.0000 - val_loss: 0.1609 - val_acc: 0.9860\n",
            "Epoch 81/100\n",
            "14/14 [==============================] - 0s 5ms/step - loss: 3.2553e-05 - acc: 1.0000 - val_loss: 0.1612 - val_acc: 0.9860\n",
            "Epoch 82/100\n",
            "14/14 [==============================] - 0s 5ms/step - loss: 3.1371e-05 - acc: 1.0000 - val_loss: 0.1616 - val_acc: 0.9860\n",
            "Epoch 83/100\n",
            "14/14 [==============================] - 0s 5ms/step - loss: 3.0544e-05 - acc: 1.0000 - val_loss: 0.1622 - val_acc: 0.9860\n",
            "Epoch 84/100\n",
            "14/14 [==============================] - 0s 4ms/step - loss: 2.9433e-05 - acc: 1.0000 - val_loss: 0.1626 - val_acc: 0.9860\n",
            "Epoch 85/100\n",
            "14/14 [==============================] - 0s 5ms/step - loss: 2.8761e-05 - acc: 1.0000 - val_loss: 0.1629 - val_acc: 0.9860\n",
            "Epoch 86/100\n",
            "14/14 [==============================] - 0s 4ms/step - loss: 2.8436e-05 - acc: 1.0000 - val_loss: 0.1629 - val_acc: 0.9860\n",
            "Epoch 87/100\n",
            "14/14 [==============================] - 0s 5ms/step - loss: 2.7340e-05 - acc: 1.0000 - val_loss: 0.1638 - val_acc: 0.9860\n",
            "Epoch 88/100\n",
            "14/14 [==============================] - 0s 5ms/step - loss: 2.6021e-05 - acc: 1.0000 - val_loss: 0.1643 - val_acc: 0.9860\n",
            "Epoch 89/100\n",
            "14/14 [==============================] - 0s 4ms/step - loss: 2.5762e-05 - acc: 1.0000 - val_loss: 0.1652 - val_acc: 0.9860\n",
            "Epoch 90/100\n",
            "14/14 [==============================] - 0s 5ms/step - loss: 2.4441e-05 - acc: 1.0000 - val_loss: 0.1646 - val_acc: 0.9860\n",
            "Epoch 91/100\n",
            "14/14 [==============================] - 0s 5ms/step - loss: 2.4050e-05 - acc: 1.0000 - val_loss: 0.1653 - val_acc: 0.9860\n",
            "Epoch 92/100\n",
            "14/14 [==============================] - 0s 5ms/step - loss: 2.3236e-05 - acc: 1.0000 - val_loss: 0.1660 - val_acc: 0.9860\n",
            "Epoch 93/100\n",
            "14/14 [==============================] - 0s 5ms/step - loss: 2.2322e-05 - acc: 1.0000 - val_loss: 0.1663 - val_acc: 0.9860\n",
            "Epoch 94/100\n",
            "14/14 [==============================] - 0s 5ms/step - loss: 2.1782e-05 - acc: 1.0000 - val_loss: 0.1668 - val_acc: 0.9860\n",
            "Epoch 95/100\n",
            "14/14 [==============================] - 0s 4ms/step - loss: 2.1165e-05 - acc: 1.0000 - val_loss: 0.1672 - val_acc: 0.9860\n",
            "Epoch 96/100\n",
            "14/14 [==============================] - 0s 5ms/step - loss: 2.0555e-05 - acc: 1.0000 - val_loss: 0.1677 - val_acc: 0.9860\n",
            "Epoch 97/100\n",
            "14/14 [==============================] - 0s 5ms/step - loss: 2.0157e-05 - acc: 1.0000 - val_loss: 0.1681 - val_acc: 0.9860\n",
            "Epoch 98/100\n",
            "14/14 [==============================] - 0s 5ms/step - loss: 1.9630e-05 - acc: 1.0000 - val_loss: 0.1681 - val_acc: 0.9860\n",
            "Epoch 99/100\n",
            "14/14 [==============================] - 0s 4ms/step - loss: 1.9599e-05 - acc: 1.0000 - val_loss: 0.1691 - val_acc: 0.9860\n",
            "Epoch 100/100\n",
            "14/14 [==============================] - 0s 5ms/step - loss: 1.8587e-05 - acc: 1.0000 - val_loss: 0.1691 - val_acc: 0.9860\n"
          ]
        }
      ]
    },
    {
      "cell_type": "markdown",
      "source": [
        "Get the scores for this model. The dense model has an accuracy of 98.6%"
      ],
      "metadata": {
        "id": "m3b9BKLAqFzY"
      }
    },
    {
      "cell_type": "code",
      "metadata": {
        "id": "IiUfFcXaqFzY",
        "colab": {
          "base_uri": "https://localhost:8080/"
        },
        "outputId": "010be23e-fb85-4d91-9fd6-2e3aceebce98"
      },
      "source": [
        "scores = model.evaluate(X_test, Y_test)\n",
        "print('Loss: {:.2}\\nAccuracy: {:.2%}'.format(scores[0], scores[1]))"
      ],
      "execution_count": 27,
      "outputs": [
        {
          "output_type": "stream",
          "name": "stdout",
          "text": [
            "5/5 [==============================] - 0s 3ms/step - loss: 0.1691 - acc: 0.9860\n",
            "Loss: 0.17\n",
            "Accuracy: 98.60%\n"
          ]
        }
      ]
    },
    {
      "cell_type": "markdown",
      "source": [
        "Plot the accuracy using the history method for the Keras model"
      ],
      "metadata": {
        "id": "WEXS5clSqFzY"
      }
    },
    {
      "cell_type": "code",
      "source": [
        "# summarize history for accuracy\n",
        "plt.plot(my_first_nn_fitted_dense.history['acc'])\n",
        "plt.plot(my_first_nn_fitted_dense.history['val_acc'])\n",
        "plt.title('Model Accuracy')\n",
        "plt.ylabel('Accuracy')\n",
        "plt.xlabel('Epoch')\n",
        "plt.legend(['Train', 'Test'], loc='upper left')\n",
        "plt.show()"
      ],
      "metadata": {
        "id": "tXjqKuLTqFzZ",
        "colab": {
          "base_uri": "https://localhost:8080/",
          "height": 295
        },
        "outputId": "4e9ce962-6d3f-4bbe-f060-ff89c4f7262c"
      },
      "execution_count": 28,
      "outputs": [
        {
          "output_type": "display_data",
          "data": {
            "text/plain": [
              "<Figure size 432x288 with 1 Axes>"
            ],
            "image/png": "[encoded data removed]"
          },
          "metadata": {
            "needs_background": "light"
          }
        }
      ]
    },
    {
      "cell_type": "markdown",
      "source": [
        "Plot the accuracy using the history method for the Keras model"
      ],
      "metadata": {
        "id": "ZSUR80YQqFzZ"
      }
    },
    {
      "cell_type": "code",
      "source": [
        "# summarize history for loss\n",
        "plt.plot(my_first_nn_fitted_dense.history['loss'])\n",
        "plt.plot(my_first_nn_fitted_dense.history['val_loss'])\n",
        "plt.title('Model Loss')\n",
        "plt.ylabel('Loss')\n",
        "plt.xlabel('Epoch')\n",
        "plt.legend(['Train', 'Test'], loc='upper left')\n",
        "plt.show()"
      ],
      "metadata": {
        "id": "OwS-kz4uqFzb",
        "colab": {
          "base_uri": "https://localhost:8080/",
          "height": 295
        },
        "outputId": "028c4860-b82f-4978-949a-d31bd4679465"
      },
      "execution_count": 29,
      "outputs": [
        {
          "output_type": "display_data",
          "data": {
            "text/plain": [
              "<Figure size 432x288 with 1 Axes>"
            ],
            "image/png": "[encoded data removed]"
          },
          "metadata": {
            "needs_background": "light"
          }
        }
      ]
    }
  ]
}