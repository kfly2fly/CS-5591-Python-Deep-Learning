{
  "nbformat": 4,
  "nbformat_minor": 0,
  "metadata": {
    "colab": {
      "name": "DL_Lesson_1.ipynb",
      "provenance": [],
      "collapsed_sections": []
    },
    "kernelspec": {
      "name": "python3",
      "display_name": "Python 3"
    },
    "accelerator": "GPU"
  },
  "cells": [
    {
      "cell_type": "markdown",
      "source": [
        "#ICP 8 Q1\n",
        "##Diabetes dataset\n"
      ],
      "metadata": {
        "id": "b6TDhec2H1HZ"
      }
    },
    {
      "cell_type": "markdown",
      "source": [
        "##Dataset Analysis"
      ],
      "metadata": {
        "id": "ciCSXhd6W4CG"
      }
    },
    {
      "cell_type": "code",
      "execution_count": null,
      "metadata": {
        "id": "xScLHdrPHhpn"
      },
      "outputs": [],
      "source": [
        "#importing libraries\n",
        "import numpy as np\n",
        "import tensorflow as tf\n",
        "from tensorflow import keras\n",
        "\n",
        "from keras import layers\n",
        "\n",
        "from sklearn.preprocessing import StandardScaler\n",
        "\n",
        "from sklearn.model_selection import train_test_split\n",
        "\n",
        "import pandas as pd\n",
        "import numpy as np\n",
        "\n",
        "import matplotlib.pyplot as plt"
      ]
    },
    {
      "cell_type": "code",
      "source": [
        "#Check tensorflow version\n",
        "print(tf.__version__)"
      ],
      "metadata": {
        "colab": {
          "base_uri": "https://localhost:8080/"
        },
        "id": "qJd8qBRghGYQ",
        "outputId": "f2abfb0f-b35a-4663-c7b9-2b7ec0e3e1f8"
      },
      "execution_count": null,
      "outputs": [
        {
          "output_type": "stream",
          "name": "stdout",
          "text": [
            "2.8.0\n"
          ]
        }
      ]
    },
    {
      "cell_type": "code",
      "source": [
        "#get the dataset\n",
        "dataset = pd.read_csv(\"/content/diabetes.csv\")"
      ],
      "metadata": {
        "id": "HTCZOfYohQx7"
      },
      "execution_count": null,
      "outputs": []
    },
    {
      "cell_type": "code",
      "source": [
        "#Look at the head\n",
        "dataset.head()"
      ],
      "metadata": {
        "colab": {
          "base_uri": "https://localhost:8080/",
          "height": 206
        },
        "id": "PKHCy8jLhTpX",
        "outputId": "dd2ec970-2c0a-46c1-f33a-750d04d77352"
      },
      "execution_count": null,
      "outputs": [
        {
          "output_type": "execute_result",
          "data": {
            "text/plain": [
              "   6  148  72  35    0  33.6  0.627  50  1\n",
              "0  1   85  66  29    0  26.6  0.351  31  0\n",
              "1  8  183  64   0    0  23.3  0.672  32  1\n",
              "2  1   89  66  23   94  28.1  0.167  21  0\n",
              "3  0  137  40  35  168  43.1  2.288  33  1\n",
              "4  5  116  74   0    0  25.6  0.201  30  0"
            ],
            "text/html": [
              "\n",
              "  <div id=\"df-51d0cc34-b13f-4d92-af9e-ad4b08ce186d\">\n",
              "    <div class=\"colab-df-container\">\n",
              "      <div>\n",
              "<style scoped>\n",
              "    .dataframe tbody tr th:only-of-type {\n",
              "        vertical-align: middle;\n",
              "    }\n",
              "\n",
              "    .dataframe tbody tr th {\n",
              "        vertical-align: top;\n",
              "    }\n",
              "\n",
              "    .dataframe thead th {\n",
              "        text-align: right;\n",
              "    }\n",
              "</style>\n",
              "<table border=\"1\" class=\"dataframe\">\n",
              "  <thead>\n",
              "    <tr style=\"text-align: right;\">\n",
              "      <th></th>\n",
              "      <th>6</th>\n",
              "      <th>148</th>\n",
              "      <th>72</th>\n",
              "      <th>35</th>\n",
              "      <th>0</th>\n",
              "      <th>33.6</th>\n",
              "      <th>0.627</th>\n",
              "      <th>50</th>\n",
              "      <th>1</th>\n",
              "    </tr>\n",
              "  </thead>\n",
              "  <tbody>\n",
              "    <tr>\n",
              "      <th>0</th>\n",
              "      <td>1</td>\n",
              "      <td>85</td>\n",
              "      <td>66</td>\n",
              "      <td>29</td>\n",
              "      <td>0</td>\n",
              "      <td>26.6</td>\n",
              "      <td>0.351</td>\n",
              "      <td>31</td>\n",
              "      <td>0</td>\n",
              "    </tr>\n",
              "    <tr>\n",
              "      <th>1</th>\n",
              "      <td>8</td>\n",
              "      <td>183</td>\n",
              "      <td>64</td>\n",
              "      <td>0</td>\n",
              "      <td>0</td>\n",
              "      <td>23.3</td>\n",
              "      <td>0.672</td>\n",
              "      <td>32</td>\n",
              "      <td>1</td>\n",
              "    </tr>\n",
              "    <tr>\n",
              "      <th>2</th>\n",
              "      <td>1</td>\n",
              "      <td>89</td>\n",
              "      <td>66</td>\n",
              "      <td>23</td>\n",
              "      <td>94</td>\n",
              "      <td>28.1</td>\n",
              "      <td>0.167</td>\n",
              "      <td>21</td>\n",
              "      <td>0</td>\n",
              "    </tr>\n",
              "    <tr>\n",
              "      <th>3</th>\n",
              "      <td>0</td>\n",
              "      <td>137</td>\n",
              "      <td>40</td>\n",
              "      <td>35</td>\n",
              "      <td>168</td>\n",
              "      <td>43.1</td>\n",
              "      <td>2.288</td>\n",
              "      <td>33</td>\n",
              "      <td>1</td>\n",
              "    </tr>\n",
              "    <tr>\n",
              "      <th>4</th>\n",
              "      <td>5</td>\n",
              "      <td>116</td>\n",
              "      <td>74</td>\n",
              "      <td>0</td>\n",
              "      <td>0</td>\n",
              "      <td>25.6</td>\n",
              "      <td>0.201</td>\n",
              "      <td>30</td>\n",
              "      <td>0</td>\n",
              "    </tr>\n",
              "  </tbody>\n",
              "</table>\n",
              "</div>\n",
              "      <button class=\"colab-df-convert\" onclick=\"convertToInteractive('df-51d0cc34-b13f-4d92-af9e-ad4b08ce186d')\"\n",
              "              title=\"Convert this dataframe to an interactive table.\"\n",
              "              style=\"display:none;\">\n",
              "        \n",
              "  <svg xmlns=\"http://www.w3.org/2000/svg\" height=\"24px\"viewBox=\"0 0 24 24\"\n",
              "       width=\"24px\">\n",
              "    <path d=\"M0 0h24v24H0V0z\" fill=\"none\"/>\n",
              "    <path d=\"M18.56 5.44l.94 2.06.94-2.06 2.06-.94-2.06-.94-.94-2.06-.94 2.06-2.06.94zm-11 1L8.5 8.5l.94-2.06 2.06-.94-2.06-.94L8.5 2.5l-.94 2.06-2.06.94zm10 10l.94 2.06.94-2.06 2.06-.94-2.06-.94-.94-2.06-.94 2.06-2.06.94z\"/><path d=\"M17.41 7.96l-1.37-1.37c-.4-.4-.92-.59-1.43-.59-.52 0-1.04.2-1.43.59L10.3 9.45l-7.72 7.72c-.78.78-.78 2.05 0 2.83L4 21.41c.39.39.9.59 1.41.59.51 0 1.02-.2 1.41-.59l7.78-7.78 2.81-2.81c.8-.78.8-2.07 0-2.86zM5.41 20L4 18.59l7.72-7.72 1.47 1.35L5.41 20z\"/>\n",
              "  </svg>\n",
              "      </button>\n",
              "      \n",
              "  <style>\n",
              "    .colab-df-container {\n",
              "      display:flex;\n",
              "      flex-wrap:wrap;\n",
              "      gap: 12px;\n",
              "    }\n",
              "\n",
              "    .colab-df-convert {\n",
              "      background-color: #E8F0FE;\n",
              "      border: none;\n",
              "      border-radius: 50%;\n",
              "      cursor: pointer;\n",
              "      display: none;\n",
              "      fill: #1967D2;\n",
              "      height: 32px;\n",
              "      padding: 0 0 0 0;\n",
              "      width: 32px;\n",
              "    }\n",
              "\n",
              "    .colab-df-convert:hover {\n",
              "      background-color: #E2EBFA;\n",
              "      box-shadow: 0px 1px 2px rgba(60, 64, 67, 0.3), 0px 1px 3px 1px rgba(60, 64, 67, 0.15);\n",
              "      fill: #174EA6;\n",
              "    }\n",
              "\n",
              "    [theme=dark] .colab-df-convert {\n",
              "      background-color: #3B4455;\n",
              "      fill: #D2E3FC;\n",
              "    }\n",
              "\n",
              "    [theme=dark] .colab-df-convert:hover {\n",
              "      background-color: #434B5C;\n",
              "      box-shadow: 0px 1px 3px 1px rgba(0, 0, 0, 0.15);\n",
              "      filter: drop-shadow(0px 1px 2px rgba(0, 0, 0, 0.3));\n",
              "      fill: #FFFFFF;\n",
              "    }\n",
              "  </style>\n",
              "\n",
              "      <script>\n",
              "        const buttonEl =\n",
              "          document.querySelector('#df-51d0cc34-b13f-4d92-af9e-ad4b08ce186d button.colab-df-convert');\n",
              "        buttonEl.style.display =\n",
              "          google.colab.kernel.accessAllowed ? 'block' : 'none';\n",
              "\n",
              "        async function convertToInteractive(key) {\n",
              "          const element = document.querySelector('#df-51d0cc34-b13f-4d92-af9e-ad4b08ce186d');\n",
              "          const dataTable =\n",
              "            await google.colab.kernel.invokeFunction('convertToInteractive',\n",
              "                                                     [key], {});\n",
              "          if (!dataTable) return;\n",
              "\n",
              "          const docLinkHtml = 'Like what you see? Visit the ' +\n",
              "            '<a target=\"_blank\" href=https://colab.research.google.com/notebooks/data_table.ipynb>data table notebook</a>'\n",
              "            + ' to learn more about interactive tables.';\n",
              "          element.innerHTML = '';\n",
              "          dataTable['output_type'] = 'display_data';\n",
              "          await google.colab.output.renderOutput(dataTable, element);\n",
              "          const docLink = document.createElement('div');\n",
              "          docLink.innerHTML = docLinkHtml;\n",
              "          element.appendChild(docLink);\n",
              "        }\n",
              "      </script>\n",
              "    </div>\n",
              "  </div>\n",
              "  "
            ]
          },
          "metadata": {},
          "execution_count": 194
        }
      ]
    },
    {
      "cell_type": "code",
      "source": [
        "#Describe the data\n",
        "dataset.describe()"
      ],
      "metadata": {
        "colab": {
          "base_uri": "https://localhost:8080/",
          "height": 300
        },
        "id": "9vH9_HGD59k0",
        "outputId": "07b1542b-5cb0-4e71-ed71-5c58340589ba"
      },
      "execution_count": null,
      "outputs": [
        {
          "output_type": "execute_result",
          "data": {
            "text/plain": [
              "                6         148          72          35           0        33.6  \\\n",
              "count  767.000000  767.000000  767.000000  767.000000  767.000000  767.000000   \n",
              "mean     3.842243  120.859192   69.101695   20.517601   79.903520   31.990482   \n",
              "std      3.370877   31.978468   19.368155   15.954059  115.283105    7.889091   \n",
              "min      0.000000    0.000000    0.000000    0.000000    0.000000    0.000000   \n",
              "25%      1.000000   99.000000   62.000000    0.000000    0.000000   27.300000   \n",
              "50%      3.000000  117.000000   72.000000   23.000000   32.000000   32.000000   \n",
              "75%      6.000000  140.000000   80.000000   32.000000  127.500000   36.600000   \n",
              "max     17.000000  199.000000  122.000000   99.000000  846.000000   67.100000   \n",
              "\n",
              "            0.627          50           1  \n",
              "count  767.000000  767.000000  767.000000  \n",
              "mean     0.471674   33.219035    0.348110  \n",
              "std      0.331497   11.752296    0.476682  \n",
              "min      0.078000   21.000000    0.000000  \n",
              "25%      0.243500   24.000000    0.000000  \n",
              "50%      0.371000   29.000000    0.000000  \n",
              "75%      0.625000   41.000000    1.000000  \n",
              "max      2.420000   81.000000    1.000000  "
            ],
            "text/html": [
              "\n",
              "  <div id=\"df-e323d4e4-769c-41a3-ac4a-8a9fd471e7c4\">\n",
              "    <div class=\"colab-df-container\">\n",
              "      <div>\n",
              "<style scoped>\n",
              "    .dataframe tbody tr th:only-of-type {\n",
              "        vertical-align: middle;\n",
              "    }\n",
              "\n",
              "    .dataframe tbody tr th {\n",
              "        vertical-align: top;\n",
              "    }\n",
              "\n",
              "    .dataframe thead th {\n",
              "        text-align: right;\n",
              "    }\n",
              "</style>\n",
              "<table border=\"1\" class=\"dataframe\">\n",
              "  <thead>\n",
              "    <tr style=\"text-align: right;\">\n",
              "      <th></th>\n",
              "      <th>6</th>\n",
              "      <th>148</th>\n",
              "      <th>72</th>\n",
              "      <th>35</th>\n",
              "      <th>0</th>\n",
              "      <th>33.6</th>\n",
              "      <th>0.627</th>\n",
              "      <th>50</th>\n",
              "      <th>1</th>\n",
              "    </tr>\n",
              "  </thead>\n",
              "  <tbody>\n",
              "    <tr>\n",
              "      <th>count</th>\n",
              "      <td>767.000000</td>\n",
              "      <td>767.000000</td>\n",
              "      <td>767.000000</td>\n",
              "      <td>767.000000</td>\n",
              "      <td>767.000000</td>\n",
              "      <td>767.000000</td>\n",
              "      <td>767.000000</td>\n",
              "      <td>767.000000</td>\n",
              "      <td>767.000000</td>\n",
              "    </tr>\n",
              "    <tr>\n",
              "      <th>mean</th>\n",
              "      <td>3.842243</td>\n",
              "      <td>120.859192</td>\n",
              "      <td>69.101695</td>\n",
              "      <td>20.517601</td>\n",
              "      <td>79.903520</td>\n",
              "      <td>31.990482</td>\n",
              "      <td>0.471674</td>\n",
              "      <td>33.219035</td>\n",
              "      <td>0.348110</td>\n",
              "    </tr>\n",
              "    <tr>\n",
              "      <th>std</th>\n",
              "      <td>3.370877</td>\n",
              "      <td>31.978468</td>\n",
              "      <td>19.368155</td>\n",
              "      <td>15.954059</td>\n",
              "      <td>115.283105</td>\n",
              "      <td>7.889091</td>\n",
              "      <td>0.331497</td>\n",
              "      <td>11.752296</td>\n",
              "      <td>0.476682</td>\n",
              "    </tr>\n",
              "    <tr>\n",
              "      <th>min</th>\n",
              "      <td>0.000000</td>\n",
              "      <td>0.000000</td>\n",
              "      <td>0.000000</td>\n",
              "      <td>0.000000</td>\n",
              "      <td>0.000000</td>\n",
              "      <td>0.000000</td>\n",
              "      <td>0.078000</td>\n",
              "      <td>21.000000</td>\n",
              "      <td>0.000000</td>\n",
              "    </tr>\n",
              "    <tr>\n",
              "      <th>25%</th>\n",
              "      <td>1.000000</td>\n",
              "      <td>99.000000</td>\n",
              "      <td>62.000000</td>\n",
              "      <td>0.000000</td>\n",
              "      <td>0.000000</td>\n",
              "      <td>27.300000</td>\n",
              "      <td>0.243500</td>\n",
              "      <td>24.000000</td>\n",
              "      <td>0.000000</td>\n",
              "    </tr>\n",
              "    <tr>\n",
              "      <th>50%</th>\n",
              "      <td>3.000000</td>\n",
              "      <td>117.000000</td>\n",
              "      <td>72.000000</td>\n",
              "      <td>23.000000</td>\n",
              "      <td>32.000000</td>\n",
              "      <td>32.000000</td>\n",
              "      <td>0.371000</td>\n",
              "      <td>29.000000</td>\n",
              "      <td>0.000000</td>\n",
              "    </tr>\n",
              "    <tr>\n",
              "      <th>75%</th>\n",
              "      <td>6.000000</td>\n",
              "      <td>140.000000</td>\n",
              "      <td>80.000000</td>\n",
              "      <td>32.000000</td>\n",
              "      <td>127.500000</td>\n",
              "      <td>36.600000</td>\n",
              "      <td>0.625000</td>\n",
              "      <td>41.000000</td>\n",
              "      <td>1.000000</td>\n",
              "    </tr>\n",
              "    <tr>\n",
              "      <th>max</th>\n",
              "      <td>17.000000</td>\n",
              "      <td>199.000000</td>\n",
              "      <td>122.000000</td>\n",
              "      <td>99.000000</td>\n",
              "      <td>846.000000</td>\n",
              "      <td>67.100000</td>\n",
              "      <td>2.420000</td>\n",
              "      <td>81.000000</td>\n",
              "      <td>1.000000</td>\n",
              "    </tr>\n",
              "  </tbody>\n",
              "</table>\n",
              "</div>\n",
              "      <button class=\"colab-df-convert\" onclick=\"convertToInteractive('df-e323d4e4-769c-41a3-ac4a-8a9fd471e7c4')\"\n",
              "              title=\"Convert this dataframe to an interactive table.\"\n",
              "              style=\"display:none;\">\n",
              "        \n",
              "  <svg xmlns=\"http://www.w3.org/2000/svg\" height=\"24px\"viewBox=\"0 0 24 24\"\n",
              "       width=\"24px\">\n",
              "    <path d=\"M0 0h24v24H0V0z\" fill=\"none\"/>\n",
              "    <path d=\"M18.56 5.44l.94 2.06.94-2.06 2.06-.94-2.06-.94-.94-2.06-.94 2.06-2.06.94zm-11 1L8.5 8.5l.94-2.06 2.06-.94-2.06-.94L8.5 2.5l-.94 2.06-2.06.94zm10 10l.94 2.06.94-2.06 2.06-.94-2.06-.94-.94-2.06-.94 2.06-2.06.94z\"/><path d=\"M17.41 7.96l-1.37-1.37c-.4-.4-.92-.59-1.43-.59-.52 0-1.04.2-1.43.59L10.3 9.45l-7.72 7.72c-.78.78-.78 2.05 0 2.83L4 21.41c.39.39.9.59 1.41.59.51 0 1.02-.2 1.41-.59l7.78-7.78 2.81-2.81c.8-.78.8-2.07 0-2.86zM5.41 20L4 18.59l7.72-7.72 1.47 1.35L5.41 20z\"/>\n",
              "  </svg>\n",
              "      </button>\n",
              "      \n",
              "  <style>\n",
              "    .colab-df-container {\n",
              "      display:flex;\n",
              "      flex-wrap:wrap;\n",
              "      gap: 12px;\n",
              "    }\n",
              "\n",
              "    .colab-df-convert {\n",
              "      background-color: #E8F0FE;\n",
              "      border: none;\n",
              "      border-radius: 50%;\n",
              "      cursor: pointer;\n",
              "      display: none;\n",
              "      fill: #1967D2;\n",
              "      height: 32px;\n",
              "      padding: 0 0 0 0;\n",
              "      width: 32px;\n",
              "    }\n",
              "\n",
              "    .colab-df-convert:hover {\n",
              "      background-color: #E2EBFA;\n",
              "      box-shadow: 0px 1px 2px rgba(60, 64, 67, 0.3), 0px 1px 3px 1px rgba(60, 64, 67, 0.15);\n",
              "      fill: #174EA6;\n",
              "    }\n",
              "\n",
              "    [theme=dark] .colab-df-convert {\n",
              "      background-color: #3B4455;\n",
              "      fill: #D2E3FC;\n",
              "    }\n",
              "\n",
              "    [theme=dark] .colab-df-convert:hover {\n",
              "      background-color: #434B5C;\n",
              "      box-shadow: 0px 1px 3px 1px rgba(0, 0, 0, 0.15);\n",
              "      filter: drop-shadow(0px 1px 2px rgba(0, 0, 0, 0.3));\n",
              "      fill: #FFFFFF;\n",
              "    }\n",
              "  </style>\n",
              "\n",
              "      <script>\n",
              "        const buttonEl =\n",
              "          document.querySelector('#df-e323d4e4-769c-41a3-ac4a-8a9fd471e7c4 button.colab-df-convert');\n",
              "        buttonEl.style.display =\n",
              "          google.colab.kernel.accessAllowed ? 'block' : 'none';\n",
              "\n",
              "        async function convertToInteractive(key) {\n",
              "          const element = document.querySelector('#df-e323d4e4-769c-41a3-ac4a-8a9fd471e7c4');\n",
              "          const dataTable =\n",
              "            await google.colab.kernel.invokeFunction('convertToInteractive',\n",
              "                                                     [key], {});\n",
              "          if (!dataTable) return;\n",
              "\n",
              "          const docLinkHtml = 'Like what you see? Visit the ' +\n",
              "            '<a target=\"_blank\" href=https://colab.research.google.com/notebooks/data_table.ipynb>data table notebook</a>'\n",
              "            + ' to learn more about interactive tables.';\n",
              "          element.innerHTML = '';\n",
              "          dataTable['output_type'] = 'display_data';\n",
              "          await google.colab.output.renderOutput(dataTable, element);\n",
              "          const docLink = document.createElement('div');\n",
              "          docLink.innerHTML = docLinkHtml;\n",
              "          element.appendChild(docLink);\n",
              "        }\n",
              "      </script>\n",
              "    </div>\n",
              "  </div>\n",
              "  "
            ]
          },
          "metadata": {},
          "execution_count": 195
        }
      ]
    },
    {
      "cell_type": "code",
      "source": [
        "#Look at the info\n",
        "dataset.info()"
      ],
      "metadata": {
        "colab": {
          "base_uri": "https://localhost:8080/"
        },
        "id": "KY5qxTpD6Dgt",
        "outputId": "6fe493a4-f673-41ed-f357-b8bced895c9b"
      },
      "execution_count": null,
      "outputs": [
        {
          "output_type": "stream",
          "name": "stdout",
          "text": [
            "<class 'pandas.core.frame.DataFrame'>\n",
            "RangeIndex: 767 entries, 0 to 766\n",
            "Data columns (total 9 columns):\n",
            " #   Column  Non-Null Count  Dtype  \n",
            "---  ------  --------------  -----  \n",
            " 0   6       767 non-null    int64  \n",
            " 1   148     767 non-null    int64  \n",
            " 2   72      767 non-null    int64  \n",
            " 3   35      767 non-null    int64  \n",
            " 4   0       767 non-null    int64  \n",
            " 5   33.6    767 non-null    float64\n",
            " 6   0.627   767 non-null    float64\n",
            " 7   50      767 non-null    int64  \n",
            " 8   1       767 non-null    int64  \n",
            "dtypes: float64(2), int64(7)\n",
            "memory usage: 54.1 KB\n"
          ]
        }
      ]
    },
    {
      "cell_type": "code",
      "source": [
        "# get numpy ndarray\n",
        "dataset = dataset.values"
      ],
      "metadata": {
        "id": "u4gpjAgXhXka"
      },
      "execution_count": null,
      "outputs": []
    },
    {
      "cell_type": "code",
      "source": [
        "#Get the shape\n",
        "dataset.shape"
      ],
      "metadata": {
        "colab": {
          "base_uri": "https://localhost:8080/"
        },
        "id": "f-UGPLMZxyWr",
        "outputId": "33e0d2ad-d362-45a5-9237-4fcc67b36253"
      },
      "execution_count": null,
      "outputs": [
        {
          "output_type": "execute_result",
          "data": {
            "text/plain": [
              "(767, 9)"
            ]
          },
          "metadata": {},
          "execution_count": 198
        }
      ]
    },
    {
      "cell_type": "markdown",
      "source": [
        "##Data Preprocessing\n"
      ],
      "metadata": {
        "id": "aLwupHpsXQ-y"
      }
    },
    {
      "cell_type": "code",
      "source": [
        "# Standardize features by removing the mean and scaling to unit variance\n",
        "sc = StandardScaler()"
      ],
      "metadata": {
        "id": "FbuKX_nxx1S0"
      },
      "execution_count": null,
      "outputs": []
    },
    {
      "cell_type": "code",
      "source": [
        "#Use test train split to get our X train/test and Y train/test\n",
        "X_train, X_test, Y_train, Y_test = train_test_split(dataset[:,0:8], dataset[:,8], test_size=0.25, random_state=42)"
      ],
      "metadata": {
        "id": "sbQ3ukV_x3Ts"
      },
      "execution_count": null,
      "outputs": []
    },
    {
      "cell_type": "code",
      "source": [
        "#Get copies of the raw training data before Scaling\n",
        "X_train_raw = X_train\n",
        "X_test_raw = X_test"
      ],
      "metadata": {
        "id": "HvcYTqA4jqnT"
      },
      "execution_count": null,
      "outputs": []
    },
    {
      "cell_type": "code",
      "source": [
        "#fit transform our X train/test\n",
        "X_train = sc.fit_transform(X_train)\n",
        "X_test = sc.fit_transform(X_test)"
      ],
      "metadata": {
        "id": "iT4q7MA26XgW"
      },
      "execution_count": null,
      "outputs": []
    },
    {
      "cell_type": "code",
      "source": [
        "#Get the shape to put in our model\n",
        "print(X_train.shape)"
      ],
      "metadata": {
        "colab": {
          "base_uri": "https://localhost:8080/"
        },
        "id": "iKWuE7Rwx8FN",
        "outputId": "5c6214fa-243d-4e0b-ab6e-65e501a0c3c4"
      },
      "execution_count": null,
      "outputs": [
        {
          "output_type": "stream",
          "name": "stdout",
          "text": [
            "(575, 8)\n"
          ]
        }
      ]
    },
    {
      "cell_type": "markdown",
      "source": [
        "##Raw Model\n",
        "\n",
        "Loss: 0.69\n",
        "Accuracy: 65%"
      ],
      "metadata": {
        "id": "1Zv8jpN-gX5-"
      }
    },
    {
      "cell_type": "code",
      "source": [
        "model = keras.Sequential() # create model\n",
        "\n",
        "# input dimensions are 8 from above.\n",
        "model.add(layers.Dense(32, input_dim=8, activation='relu')) # Input layer\n",
        "\n",
        "model.add(layers.Dense(64, activation='relu')) # hidden layer\n",
        "\n",
        "model.add(layers.Dense(1, activation='sigmoid')) # output layer\n",
        "\n",
        "model.compile(loss='binary_crossentropy', optimizer='adam', metrics=['acc']) #Configure the learning process\n",
        "\n",
        "#Get the model summary\n",
        "model.summary()"
      ],
      "metadata": {
        "colab": {
          "base_uri": "https://localhost:8080/"
        },
        "id": "LV7svjsfx-Sn",
        "outputId": "084e6607-b510-480c-c461-a97b81e80f40"
      },
      "execution_count": null,
      "outputs": [
        {
          "output_type": "stream",
          "name": "stdout",
          "text": [
            "Model: \"sequential_20\"\n",
            "_________________________________________________________________\n",
            " Layer (type)                Output Shape              Param #   \n",
            "=================================================================\n",
            " dense_72 (Dense)            (None, 32)                288       \n",
            "                                                                 \n",
            " dense_73 (Dense)            (None, 64)                2112      \n",
            "                                                                 \n",
            " dense_74 (Dense)            (None, 1)                 65        \n",
            "                                                                 \n",
            "=================================================================\n",
            "Total params: 2,465\n",
            "Trainable params: 2,465\n",
            "Non-trainable params: 0\n",
            "_________________________________________________________________\n"
          ]
        }
      ]
    },
    {
      "cell_type": "code",
      "source": [
        "#Create the Sequential Model\n",
        "my_first_nn_fitted = model.fit(X_train_raw, Y_train, epochs=100, validation_data=(X_test_raw, Y_test))"
      ],
      "metadata": {
        "colab": {
          "base_uri": "https://localhost:8080/"
        },
        "id": "QNk-nEqwyCDw",
        "outputId": "4a8a7935-2b1f-487a-d526-07d1bdab4578"
      },
      "execution_count": null,
      "outputs": [
        {
          "output_type": "stream",
          "name": "stdout",
          "text": [
            "Epoch 1/100\n",
            "18/18 [==============================] - 1s 11ms/step - loss: 3.2366 - acc: 0.5652 - val_loss: 1.3201 - val_acc: 0.6771\n",
            "Epoch 2/100\n",
            "18/18 [==============================] - 0s 5ms/step - loss: 1.2522 - acc: 0.5635 - val_loss: 1.0542 - val_acc: 0.5000\n",
            "Epoch 3/100\n",
            "18/18 [==============================] - 0s 4ms/step - loss: 0.8418 - acc: 0.6070 - val_loss: 0.7901 - val_acc: 0.5781\n",
            "Epoch 4/100\n",
            "18/18 [==============================] - 0s 4ms/step - loss: 0.7187 - acc: 0.6052 - val_loss: 0.7054 - val_acc: 0.6198\n",
            "Epoch 5/100\n",
            "18/18 [==============================] - 0s 5ms/step - loss: 0.6824 - acc: 0.6678 - val_loss: 0.6776 - val_acc: 0.6719\n",
            "Epoch 6/100\n",
            "18/18 [==============================] - 0s 4ms/step - loss: 0.6317 - acc: 0.6417 - val_loss: 0.6111 - val_acc: 0.6667\n",
            "Epoch 7/100\n",
            "18/18 [==============================] - 0s 4ms/step - loss: 0.6107 - acc: 0.6730 - val_loss: 0.6193 - val_acc: 0.6927\n",
            "Epoch 8/100\n",
            "18/18 [==============================] - 0s 4ms/step - loss: 0.6374 - acc: 0.6765 - val_loss: 0.5590 - val_acc: 0.7083\n",
            "Epoch 9/100\n",
            "18/18 [==============================] - 0s 4ms/step - loss: 0.6395 - acc: 0.6765 - val_loss: 0.6403 - val_acc: 0.6719\n",
            "Epoch 10/100\n",
            "18/18 [==============================] - 0s 4ms/step - loss: 0.6172 - acc: 0.7148 - val_loss: 0.6785 - val_acc: 0.6510\n",
            "Epoch 11/100\n",
            "18/18 [==============================] - 0s 6ms/step - loss: 0.5959 - acc: 0.6922 - val_loss: 0.5971 - val_acc: 0.6719\n",
            "Epoch 12/100\n",
            "18/18 [==============================] - 0s 5ms/step - loss: 0.5804 - acc: 0.7287 - val_loss: 0.5751 - val_acc: 0.7135\n",
            "Epoch 13/100\n",
            "18/18 [==============================] - 0s 4ms/step - loss: 0.6642 - acc: 0.6591 - val_loss: 0.8048 - val_acc: 0.6927\n",
            "Epoch 14/100\n",
            "18/18 [==============================] - 0s 4ms/step - loss: 0.7341 - acc: 0.6678 - val_loss: 0.9033 - val_acc: 0.6302\n",
            "Epoch 15/100\n",
            "18/18 [==============================] - 0s 4ms/step - loss: 0.6594 - acc: 0.6835 - val_loss: 0.6006 - val_acc: 0.7188\n",
            "Epoch 16/100\n",
            "18/18 [==============================] - 0s 4ms/step - loss: 0.5603 - acc: 0.7200 - val_loss: 0.5674 - val_acc: 0.7083\n",
            "Epoch 17/100\n",
            "18/18 [==============================] - 0s 4ms/step - loss: 0.5738 - acc: 0.7148 - val_loss: 0.5661 - val_acc: 0.7135\n",
            "Epoch 18/100\n",
            "18/18 [==============================] - 0s 4ms/step - loss: 0.5605 - acc: 0.7200 - val_loss: 0.6324 - val_acc: 0.6615\n",
            "Epoch 19/100\n",
            "18/18 [==============================] - 0s 5ms/step - loss: 0.5998 - acc: 0.7148 - val_loss: 0.6507 - val_acc: 0.6771\n",
            "Epoch 20/100\n",
            "18/18 [==============================] - 0s 4ms/step - loss: 0.6476 - acc: 0.6765 - val_loss: 0.6340 - val_acc: 0.6667\n",
            "Epoch 21/100\n",
            "18/18 [==============================] - 0s 5ms/step - loss: 0.6488 - acc: 0.6887 - val_loss: 0.6471 - val_acc: 0.6875\n",
            "Epoch 22/100\n",
            "18/18 [==============================] - 0s 5ms/step - loss: 0.6119 - acc: 0.7200 - val_loss: 0.6646 - val_acc: 0.7083\n",
            "Epoch 23/100\n",
            "18/18 [==============================] - 0s 4ms/step - loss: 0.6551 - acc: 0.6835 - val_loss: 0.7902 - val_acc: 0.6146\n",
            "Epoch 24/100\n",
            "18/18 [==============================] - 0s 4ms/step - loss: 0.5840 - acc: 0.7078 - val_loss: 0.6952 - val_acc: 0.6510\n",
            "Epoch 25/100\n",
            "18/18 [==============================] - 0s 4ms/step - loss: 0.5648 - acc: 0.7339 - val_loss: 0.6046 - val_acc: 0.7135\n",
            "Epoch 26/100\n",
            "18/18 [==============================] - 0s 4ms/step - loss: 0.6032 - acc: 0.7148 - val_loss: 0.5528 - val_acc: 0.7344\n",
            "Epoch 27/100\n",
            "18/18 [==============================] - 0s 4ms/step - loss: 0.5473 - acc: 0.7357 - val_loss: 0.6510 - val_acc: 0.6719\n",
            "Epoch 28/100\n",
            "18/18 [==============================] - 0s 4ms/step - loss: 0.5331 - acc: 0.7513 - val_loss: 0.5724 - val_acc: 0.7135\n",
            "Epoch 29/100\n",
            "18/18 [==============================] - 0s 4ms/step - loss: 0.5532 - acc: 0.7357 - val_loss: 0.5633 - val_acc: 0.7031\n",
            "Epoch 30/100\n",
            "18/18 [==============================] - 0s 4ms/step - loss: 0.5473 - acc: 0.7443 - val_loss: 0.6464 - val_acc: 0.7240\n",
            "Epoch 31/100\n",
            "18/18 [==============================] - 0s 5ms/step - loss: 0.5854 - acc: 0.7235 - val_loss: 0.6953 - val_acc: 0.6198\n",
            "Epoch 32/100\n",
            "18/18 [==============================] - 0s 4ms/step - loss: 0.5469 - acc: 0.7409 - val_loss: 0.5709 - val_acc: 0.7188\n",
            "Epoch 33/100\n",
            "18/18 [==============================] - 0s 4ms/step - loss: 0.5791 - acc: 0.7061 - val_loss: 0.5592 - val_acc: 0.7240\n",
            "Epoch 34/100\n",
            "18/18 [==============================] - 0s 4ms/step - loss: 0.5635 - acc: 0.7322 - val_loss: 0.5687 - val_acc: 0.7188\n",
            "Epoch 35/100\n",
            "18/18 [==============================] - 0s 6ms/step - loss: 0.5621 - acc: 0.7304 - val_loss: 0.5951 - val_acc: 0.7188\n",
            "Epoch 36/100\n",
            "18/18 [==============================] - 0s 7ms/step - loss: 0.5815 - acc: 0.7096 - val_loss: 0.5701 - val_acc: 0.7292\n",
            "Epoch 37/100\n",
            "18/18 [==============================] - 0s 5ms/step - loss: 0.5137 - acc: 0.7757 - val_loss: 0.5649 - val_acc: 0.7292\n",
            "Epoch 38/100\n",
            "18/18 [==============================] - 0s 4ms/step - loss: 0.5678 - acc: 0.7374 - val_loss: 0.5726 - val_acc: 0.7240\n",
            "Epoch 39/100\n",
            "18/18 [==============================] - 0s 4ms/step - loss: 0.6362 - acc: 0.6904 - val_loss: 0.7252 - val_acc: 0.6615\n",
            "Epoch 40/100\n",
            "18/18 [==============================] - 0s 5ms/step - loss: 0.5838 - acc: 0.7183 - val_loss: 0.5589 - val_acc: 0.7292\n",
            "Epoch 41/100\n",
            "18/18 [==============================] - 0s 4ms/step - loss: 0.5748 - acc: 0.7235 - val_loss: 0.6257 - val_acc: 0.6979\n",
            "Epoch 42/100\n",
            "18/18 [==============================] - 0s 5ms/step - loss: 0.6259 - acc: 0.7026 - val_loss: 0.6695 - val_acc: 0.7135\n",
            "Epoch 43/100\n",
            "18/18 [==============================] - 0s 5ms/step - loss: 0.5418 - acc: 0.7461 - val_loss: 0.5480 - val_acc: 0.7135\n",
            "Epoch 44/100\n",
            "18/18 [==============================] - 0s 5ms/step - loss: 0.5579 - acc: 0.7357 - val_loss: 0.5586 - val_acc: 0.7292\n",
            "Epoch 45/100\n",
            "18/18 [==============================] - 0s 4ms/step - loss: 0.5323 - acc: 0.7339 - val_loss: 0.5830 - val_acc: 0.6823\n",
            "Epoch 46/100\n",
            "18/18 [==============================] - 0s 5ms/step - loss: 0.5669 - acc: 0.7217 - val_loss: 0.5520 - val_acc: 0.7240\n",
            "Epoch 47/100\n",
            "18/18 [==============================] - 0s 4ms/step - loss: 0.5177 - acc: 0.7530 - val_loss: 0.6380 - val_acc: 0.6823\n",
            "Epoch 48/100\n",
            "18/18 [==============================] - 0s 4ms/step - loss: 0.5040 - acc: 0.7478 - val_loss: 0.6189 - val_acc: 0.7135\n",
            "Epoch 49/100\n",
            "18/18 [==============================] - 0s 4ms/step - loss: 0.5325 - acc: 0.7548 - val_loss: 0.5489 - val_acc: 0.7240\n",
            "Epoch 50/100\n",
            "18/18 [==============================] - 0s 4ms/step - loss: 0.5010 - acc: 0.7757 - val_loss: 0.5963 - val_acc: 0.7031\n",
            "Epoch 51/100\n",
            "18/18 [==============================] - 0s 4ms/step - loss: 0.5137 - acc: 0.7652 - val_loss: 0.7710 - val_acc: 0.6458\n",
            "Epoch 52/100\n",
            "18/18 [==============================] - 0s 5ms/step - loss: 0.5740 - acc: 0.7200 - val_loss: 0.6003 - val_acc: 0.7240\n",
            "Epoch 53/100\n",
            "18/18 [==============================] - 0s 4ms/step - loss: 0.5366 - acc: 0.7513 - val_loss: 0.6279 - val_acc: 0.6875\n",
            "Epoch 54/100\n",
            "18/18 [==============================] - 0s 4ms/step - loss: 0.5155 - acc: 0.7513 - val_loss: 0.6710 - val_acc: 0.7344\n",
            "Epoch 55/100\n",
            "18/18 [==============================] - 0s 5ms/step - loss: 0.5321 - acc: 0.7322 - val_loss: 0.5550 - val_acc: 0.7344\n",
            "Epoch 56/100\n",
            "18/18 [==============================] - 0s 4ms/step - loss: 0.5373 - acc: 0.7374 - val_loss: 0.8208 - val_acc: 0.6458\n",
            "Epoch 57/100\n",
            "18/18 [==============================] - 0s 4ms/step - loss: 0.5542 - acc: 0.7200 - val_loss: 0.5806 - val_acc: 0.7188\n",
            "Epoch 58/100\n",
            "18/18 [==============================] - 0s 4ms/step - loss: 0.5002 - acc: 0.7739 - val_loss: 0.6426 - val_acc: 0.6927\n",
            "Epoch 59/100\n",
            "18/18 [==============================] - 0s 4ms/step - loss: 0.5257 - acc: 0.7496 - val_loss: 0.6205 - val_acc: 0.7188\n",
            "Epoch 60/100\n",
            "18/18 [==============================] - 0s 4ms/step - loss: 0.5772 - acc: 0.7287 - val_loss: 0.6981 - val_acc: 0.6823\n",
            "Epoch 61/100\n",
            "18/18 [==============================] - 0s 4ms/step - loss: 0.6362 - acc: 0.6957 - val_loss: 0.5384 - val_acc: 0.7344\n",
            "Epoch 62/100\n",
            "18/18 [==============================] - 0s 9ms/step - loss: 0.7101 - acc: 0.6730 - val_loss: 1.3982 - val_acc: 0.5260\n",
            "Epoch 63/100\n",
            "18/18 [==============================] - 0s 6ms/step - loss: 0.8339 - acc: 0.6765 - val_loss: 0.5696 - val_acc: 0.7240\n",
            "Epoch 64/100\n",
            "18/18 [==============================] - 0s 7ms/step - loss: 0.5423 - acc: 0.7600 - val_loss: 0.5660 - val_acc: 0.7292\n",
            "Epoch 65/100\n",
            "18/18 [==============================] - 0s 6ms/step - loss: 0.4960 - acc: 0.7809 - val_loss: 0.5623 - val_acc: 0.7188\n",
            "Epoch 66/100\n",
            "18/18 [==============================] - 0s 7ms/step - loss: 0.5035 - acc: 0.7670 - val_loss: 0.5597 - val_acc: 0.7188\n",
            "Epoch 67/100\n",
            "18/18 [==============================] - 0s 6ms/step - loss: 0.5184 - acc: 0.7704 - val_loss: 0.5667 - val_acc: 0.7083\n",
            "Epoch 68/100\n",
            "18/18 [==============================] - 0s 8ms/step - loss: 0.5191 - acc: 0.7565 - val_loss: 0.5956 - val_acc: 0.7135\n",
            "Epoch 69/100\n",
            "18/18 [==============================] - 0s 9ms/step - loss: 0.5661 - acc: 0.7148 - val_loss: 0.6756 - val_acc: 0.6615\n",
            "Epoch 70/100\n",
            "18/18 [==============================] - 0s 7ms/step - loss: 0.6067 - acc: 0.7078 - val_loss: 0.5780 - val_acc: 0.7292\n",
            "Epoch 71/100\n",
            "18/18 [==============================] - 0s 7ms/step - loss: 0.5194 - acc: 0.7583 - val_loss: 0.5907 - val_acc: 0.7292\n",
            "Epoch 72/100\n",
            "18/18 [==============================] - 0s 8ms/step - loss: 0.5244 - acc: 0.7583 - val_loss: 0.5982 - val_acc: 0.7240\n",
            "Epoch 73/100\n",
            "18/18 [==============================] - 0s 13ms/step - loss: 0.5924 - acc: 0.7200 - val_loss: 0.5798 - val_acc: 0.7083\n",
            "Epoch 74/100\n",
            "18/18 [==============================] - 0s 8ms/step - loss: 0.5403 - acc: 0.7548 - val_loss: 0.5810 - val_acc: 0.7135\n",
            "Epoch 75/100\n",
            "18/18 [==============================] - 0s 10ms/step - loss: 0.5249 - acc: 0.7496 - val_loss: 0.5563 - val_acc: 0.7240\n",
            "Epoch 76/100\n",
            "18/18 [==============================] - 0s 9ms/step - loss: 0.5265 - acc: 0.7443 - val_loss: 0.5844 - val_acc: 0.7292\n",
            "Epoch 77/100\n",
            "18/18 [==============================] - 0s 8ms/step - loss: 0.5208 - acc: 0.7443 - val_loss: 0.6645 - val_acc: 0.6927\n",
            "Epoch 78/100\n",
            "18/18 [==============================] - 0s 11ms/step - loss: 0.5327 - acc: 0.7565 - val_loss: 0.6224 - val_acc: 0.7083\n",
            "Epoch 79/100\n",
            "18/18 [==============================] - 0s 9ms/step - loss: 0.5311 - acc: 0.7426 - val_loss: 0.5666 - val_acc: 0.7188\n",
            "Epoch 80/100\n",
            "18/18 [==============================] - 0s 9ms/step - loss: 0.5457 - acc: 0.7443 - val_loss: 0.5769 - val_acc: 0.7344\n",
            "Epoch 81/100\n",
            "18/18 [==============================] - 0s 7ms/step - loss: 0.5706 - acc: 0.7391 - val_loss: 0.6642 - val_acc: 0.6875\n",
            "Epoch 82/100\n",
            "18/18 [==============================] - 0s 7ms/step - loss: 0.4910 - acc: 0.7635 - val_loss: 0.6253 - val_acc: 0.7135\n",
            "Epoch 83/100\n",
            "18/18 [==============================] - 0s 6ms/step - loss: 0.4979 - acc: 0.7843 - val_loss: 0.5591 - val_acc: 0.7188\n",
            "Epoch 84/100\n",
            "18/18 [==============================] - 0s 8ms/step - loss: 0.5003 - acc: 0.7548 - val_loss: 0.6391 - val_acc: 0.7031\n",
            "Epoch 85/100\n",
            "18/18 [==============================] - 0s 7ms/step - loss: 0.5170 - acc: 0.7635 - val_loss: 0.5781 - val_acc: 0.7188\n",
            "Epoch 86/100\n",
            "18/18 [==============================] - 0s 9ms/step - loss: 0.5948 - acc: 0.7043 - val_loss: 0.5468 - val_acc: 0.7240\n",
            "Epoch 87/100\n",
            "18/18 [==============================] - 0s 8ms/step - loss: 0.5678 - acc: 0.7183 - val_loss: 0.5851 - val_acc: 0.7240\n",
            "Epoch 88/100\n",
            "18/18 [==============================] - 0s 8ms/step - loss: 0.5152 - acc: 0.7461 - val_loss: 0.5530 - val_acc: 0.7396\n",
            "Epoch 89/100\n",
            "18/18 [==============================] - 0s 9ms/step - loss: 0.5552 - acc: 0.7374 - val_loss: 0.6605 - val_acc: 0.6927\n",
            "Epoch 90/100\n",
            "18/18 [==============================] - 0s 8ms/step - loss: 0.4953 - acc: 0.7878 - val_loss: 0.5647 - val_acc: 0.7083\n",
            "Epoch 91/100\n",
            "18/18 [==============================] - 0s 8ms/step - loss: 0.4955 - acc: 0.7739 - val_loss: 0.6199 - val_acc: 0.7135\n",
            "Epoch 92/100\n",
            "18/18 [==============================] - 0s 6ms/step - loss: 0.4975 - acc: 0.7809 - val_loss: 0.5971 - val_acc: 0.7344\n",
            "Epoch 93/100\n",
            "18/18 [==============================] - 0s 6ms/step - loss: 0.4897 - acc: 0.7617 - val_loss: 0.5562 - val_acc: 0.7448\n",
            "Epoch 94/100\n",
            "18/18 [==============================] - 0s 9ms/step - loss: 0.4777 - acc: 0.7757 - val_loss: 0.6017 - val_acc: 0.7188\n",
            "Epoch 95/100\n",
            "18/18 [==============================] - 0s 8ms/step - loss: 0.4935 - acc: 0.7652 - val_loss: 0.6487 - val_acc: 0.6927\n",
            "Epoch 96/100\n",
            "18/18 [==============================] - 0s 10ms/step - loss: 0.5032 - acc: 0.7652 - val_loss: 0.5497 - val_acc: 0.7500\n",
            "Epoch 97/100\n",
            "18/18 [==============================] - 0s 6ms/step - loss: 0.5141 - acc: 0.7496 - val_loss: 0.6394 - val_acc: 0.7083\n",
            "Epoch 98/100\n",
            "18/18 [==============================] - 0s 7ms/step - loss: 0.5729 - acc: 0.7078 - val_loss: 0.7440 - val_acc: 0.6458\n",
            "Epoch 99/100\n",
            "18/18 [==============================] - 0s 9ms/step - loss: 0.5027 - acc: 0.7548 - val_loss: 0.5614 - val_acc: 0.7344\n",
            "Epoch 100/100\n",
            "18/18 [==============================] - 0s 8ms/step - loss: 0.4654 - acc: 0.7774 - val_loss: 0.5680 - val_acc: 0.7448\n"
          ]
        }
      ]
    },
    {
      "cell_type": "code",
      "source": [
        "#get the loss and accuracy\n",
        "scores = model.evaluate(X_test_raw, Y_test)\n",
        "print('Loss: {:.2}\\nAccuracy: {:.2%}'.format(scores[0], scores[1]))"
      ],
      "metadata": {
        "colab": {
          "base_uri": "https://localhost:8080/"
        },
        "id": "kQFlRTVyyMT1",
        "outputId": "4900ba4f-417e-488b-e8de-1f77bb2a5b53"
      },
      "execution_count": null,
      "outputs": [
        {
          "output_type": "stream",
          "name": "stdout",
          "text": [
            "6/6 [==============================] - 0s 3ms/step - loss: 0.5680 - acc: 0.7448\n",
            "Loss: 0.57\n",
            "Accuracy: 74.48%\n"
          ]
        }
      ]
    },
    {
      "cell_type": "code",
      "source": [
        "# summarize history for accuracy\n",
        "plt.plot(my_first_nn_fitted.history['acc'])\n",
        "plt.plot(my_first_nn_fitted.history['val_acc'])\n",
        "plt.title('Model Accuracy')\n",
        "plt.ylabel('Accuracy')\n",
        "plt.xlabel('Epoch')\n",
        "plt.legend(['Train', 'Test'], loc='upper left')\n",
        "plt.show()"
      ],
      "metadata": {
        "colab": {
          "base_uri": "https://localhost:8080/",
          "height": 295
        },
        "id": "069WXeG466bK",
        "outputId": "71911146-7fbe-41b4-ebd2-13219194ccaf"
      },
      "execution_count": null,
      "outputs": [
        {
          "output_type": "display_data",
          "data": {
            "text/plain": [
              "<Figure size 432x288 with 1 Axes>"
            ],
            "image/png": "[encoded data removed]"
          },
          "metadata": {
            "needs_background": "light"
          }
        }
      ]
    },
    {
      "cell_type": "code",
      "source": [
        "# summarize history for loss\n",
        "plt.plot(my_first_nn_fitted.history['loss'])\n",
        "plt.plot(my_first_nn_fitted.history['val_loss'])\n",
        "plt.title('Model Loss')\n",
        "plt.ylabel('Loss')\n",
        "plt.xlabel('Epoch')\n",
        "plt.legend(['Train', 'Test'], loc='upper left')\n",
        "plt.show()"
      ],
      "metadata": {
        "colab": {
          "base_uri": "https://localhost:8080/",
          "height": 295
        },
        "id": "KjSxWkyI7Nnt",
        "outputId": "5d4157f8-b3ed-4499-d49f-dc3b55583b35"
      },
      "execution_count": null,
      "outputs": [
        {
          "output_type": "display_data",
          "data": {
            "text/plain": [
              "<Figure size 432x288 with 1 Axes>"
            ],
            "image/png": "[encoded data removed]"
          },
          "metadata": {
            "needs_background": "light"
          }
        }
      ]
    },
    {
      "cell_type": "markdown",
      "source": [
        "##Normalized Model\n",
        "\n",
        "Loss: 0.55\n",
        "Accuracy: 73%"
      ],
      "metadata": {
        "id": "ZofDraqvgio9"
      }
    },
    {
      "cell_type": "code",
      "source": [
        "model = keras.Sequential() # create model\n",
        "\n",
        "# input dimensions are 8 from above.\n",
        "model.add(layers.Dense(32, input_dim=8, activation='relu')) # Input layer\n",
        "\n",
        "model.add(layers.Dense(64, activation='relu')) # hidden layer\n",
        "\n",
        "model.add(layers.Dense(1, activation='sigmoid')) # output layer\n",
        "\n",
        "model.compile(loss='binary_crossentropy', optimizer='adam', metrics=['acc'])\n",
        "\n",
        "model.summary()"
      ],
      "metadata": {
        "colab": {
          "base_uri": "https://localhost:8080/"
        },
        "id": "L8TT-jHa7QtM",
        "outputId": "ee89125d-c668-49d0-ecf6-1ffcae58aedf"
      },
      "execution_count": null,
      "outputs": [
        {
          "output_type": "stream",
          "name": "stdout",
          "text": [
            "Model: \"sequential_21\"\n",
            "_________________________________________________________________\n",
            " Layer (type)                Output Shape              Param #   \n",
            "=================================================================\n",
            " dense_75 (Dense)            (None, 32)                288       \n",
            "                                                                 \n",
            " dense_76 (Dense)            (None, 64)                2112      \n",
            "                                                                 \n",
            " dense_77 (Dense)            (None, 1)                 65        \n",
            "                                                                 \n",
            "=================================================================\n",
            "Total params: 2,465\n",
            "Trainable params: 2,465\n",
            "Non-trainable params: 0\n",
            "_________________________________________________________________\n"
          ]
        }
      ]
    },
    {
      "cell_type": "code",
      "source": [
        "my_first_nn_fitted_normal = model.fit(X_train, Y_train, epochs=100, validation_data=(X_test, Y_test))"
      ],
      "metadata": {
        "colab": {
          "base_uri": "https://localhost:8080/"
        },
        "id": "C5cWfvZK7YT-",
        "outputId": "71c7f236-fab0-4811-da8c-5c4a40d77aab"
      },
      "execution_count": null,
      "outputs": [
        {
          "output_type": "stream",
          "name": "stdout",
          "text": [
            "Epoch 1/100\n",
            "18/18 [==============================] - 1s 23ms/step - loss: 0.6660 - acc: 0.6522 - val_loss: 0.6125 - val_acc: 0.6927\n",
            "Epoch 2/100\n",
            "18/18 [==============================] - 0s 9ms/step - loss: 0.5897 - acc: 0.7096 - val_loss: 0.5555 - val_acc: 0.7344\n",
            "Epoch 3/100\n",
            "18/18 [==============================] - 0s 6ms/step - loss: 0.5399 - acc: 0.7513 - val_loss: 0.5177 - val_acc: 0.7396\n",
            "Epoch 4/100\n",
            "18/18 [==============================] - 0s 9ms/step - loss: 0.5110 - acc: 0.7600 - val_loss: 0.4937 - val_acc: 0.7656\n",
            "Epoch 5/100\n",
            "18/18 [==============================] - 0s 12ms/step - loss: 0.4910 - acc: 0.7670 - val_loss: 0.4840 - val_acc: 0.7812\n",
            "Epoch 6/100\n",
            "18/18 [==============================] - 0s 11ms/step - loss: 0.4790 - acc: 0.7757 - val_loss: 0.4750 - val_acc: 0.7917\n",
            "Epoch 7/100\n",
            "18/18 [==============================] - 0s 10ms/step - loss: 0.4708 - acc: 0.7826 - val_loss: 0.4696 - val_acc: 0.7760\n",
            "Epoch 8/100\n",
            "18/18 [==============================] - 0s 9ms/step - loss: 0.4647 - acc: 0.7843 - val_loss: 0.4683 - val_acc: 0.7865\n",
            "Epoch 9/100\n",
            "18/18 [==============================] - 0s 8ms/step - loss: 0.4586 - acc: 0.7843 - val_loss: 0.4663 - val_acc: 0.7865\n",
            "Epoch 10/100\n",
            "18/18 [==============================] - 0s 9ms/step - loss: 0.4551 - acc: 0.7861 - val_loss: 0.4659 - val_acc: 0.7865\n",
            "Epoch 11/100\n",
            "18/18 [==============================] - 0s 12ms/step - loss: 0.4486 - acc: 0.7861 - val_loss: 0.4681 - val_acc: 0.7708\n",
            "Epoch 12/100\n",
            "18/18 [==============================] - 0s 12ms/step - loss: 0.4469 - acc: 0.7861 - val_loss: 0.4701 - val_acc: 0.7812\n",
            "Epoch 13/100\n",
            "18/18 [==============================] - 0s 12ms/step - loss: 0.4432 - acc: 0.7843 - val_loss: 0.4677 - val_acc: 0.7865\n",
            "Epoch 14/100\n",
            "18/18 [==============================] - 0s 12ms/step - loss: 0.4397 - acc: 0.7861 - val_loss: 0.4706 - val_acc: 0.7760\n",
            "Epoch 15/100\n",
            "18/18 [==============================] - 0s 10ms/step - loss: 0.4350 - acc: 0.7878 - val_loss: 0.4682 - val_acc: 0.7708\n",
            "Epoch 16/100\n",
            "18/18 [==============================] - 0s 10ms/step - loss: 0.4325 - acc: 0.7878 - val_loss: 0.4701 - val_acc: 0.7865\n",
            "Epoch 17/100\n",
            "18/18 [==============================] - 0s 13ms/step - loss: 0.4297 - acc: 0.7861 - val_loss: 0.4703 - val_acc: 0.7812\n",
            "Epoch 18/100\n",
            "18/18 [==============================] - 0s 8ms/step - loss: 0.4282 - acc: 0.7843 - val_loss: 0.4746 - val_acc: 0.7656\n",
            "Epoch 19/100\n",
            "18/18 [==============================] - 0s 9ms/step - loss: 0.4280 - acc: 0.7930 - val_loss: 0.4698 - val_acc: 0.7865\n",
            "Epoch 20/100\n",
            "18/18 [==============================] - 0s 12ms/step - loss: 0.4228 - acc: 0.7913 - val_loss: 0.4726 - val_acc: 0.7760\n",
            "Epoch 21/100\n",
            "18/18 [==============================] - 0s 11ms/step - loss: 0.4197 - acc: 0.7930 - val_loss: 0.4721 - val_acc: 0.7865\n",
            "Epoch 22/100\n",
            "18/18 [==============================] - 0s 14ms/step - loss: 0.4183 - acc: 0.7965 - val_loss: 0.4738 - val_acc: 0.7812\n",
            "Epoch 23/100\n",
            "18/18 [==============================] - 0s 11ms/step - loss: 0.4150 - acc: 0.8017 - val_loss: 0.4751 - val_acc: 0.7812\n",
            "Epoch 24/100\n",
            "18/18 [==============================] - 0s 9ms/step - loss: 0.4112 - acc: 0.8052 - val_loss: 0.4745 - val_acc: 0.7812\n",
            "Epoch 25/100\n",
            "18/18 [==============================] - 0s 11ms/step - loss: 0.4084 - acc: 0.8052 - val_loss: 0.4729 - val_acc: 0.7969\n",
            "Epoch 26/100\n",
            "18/18 [==============================] - 0s 12ms/step - loss: 0.4067 - acc: 0.8035 - val_loss: 0.4742 - val_acc: 0.7760\n",
            "Epoch 27/100\n",
            "18/18 [==============================] - 0s 15ms/step - loss: 0.4072 - acc: 0.8087 - val_loss: 0.4763 - val_acc: 0.7812\n",
            "Epoch 28/100\n",
            "18/18 [==============================] - 0s 12ms/step - loss: 0.4030 - acc: 0.8087 - val_loss: 0.4776 - val_acc: 0.7708\n",
            "Epoch 29/100\n",
            "18/18 [==============================] - 0s 11ms/step - loss: 0.4021 - acc: 0.8157 - val_loss: 0.4751 - val_acc: 0.7812\n",
            "Epoch 30/100\n",
            "18/18 [==============================] - 0s 11ms/step - loss: 0.3990 - acc: 0.8087 - val_loss: 0.4776 - val_acc: 0.7760\n",
            "Epoch 31/100\n",
            "18/18 [==============================] - 0s 15ms/step - loss: 0.3967 - acc: 0.8122 - val_loss: 0.4751 - val_acc: 0.7708\n",
            "Epoch 32/100\n",
            "18/18 [==============================] - 0s 15ms/step - loss: 0.3953 - acc: 0.8191 - val_loss: 0.4788 - val_acc: 0.7552\n",
            "Epoch 33/100\n",
            "18/18 [==============================] - 0s 11ms/step - loss: 0.3924 - acc: 0.8157 - val_loss: 0.4777 - val_acc: 0.7760\n",
            "Epoch 34/100\n",
            "18/18 [==============================] - 0s 12ms/step - loss: 0.3930 - acc: 0.8174 - val_loss: 0.4773 - val_acc: 0.7760\n",
            "Epoch 35/100\n",
            "18/18 [==============================] - 0s 11ms/step - loss: 0.3898 - acc: 0.8174 - val_loss: 0.4780 - val_acc: 0.7708\n",
            "Epoch 36/100\n",
            "18/18 [==============================] - 0s 11ms/step - loss: 0.3883 - acc: 0.8104 - val_loss: 0.4812 - val_acc: 0.7812\n",
            "Epoch 37/100\n",
            "18/18 [==============================] - 0s 11ms/step - loss: 0.3884 - acc: 0.8209 - val_loss: 0.4824 - val_acc: 0.7760\n",
            "Epoch 38/100\n",
            "18/18 [==============================] - 0s 9ms/step - loss: 0.3840 - acc: 0.8278 - val_loss: 0.4827 - val_acc: 0.7708\n",
            "Epoch 39/100\n",
            "18/18 [==============================] - 0s 8ms/step - loss: 0.3820 - acc: 0.8174 - val_loss: 0.4832 - val_acc: 0.7708\n",
            "Epoch 40/100\n",
            "18/18 [==============================] - 0s 9ms/step - loss: 0.3797 - acc: 0.8296 - val_loss: 0.4849 - val_acc: 0.7500\n",
            "Epoch 41/100\n",
            "18/18 [==============================] - 0s 12ms/step - loss: 0.3809 - acc: 0.8278 - val_loss: 0.4826 - val_acc: 0.7865\n",
            "Epoch 42/100\n",
            "18/18 [==============================] - 0s 12ms/step - loss: 0.3774 - acc: 0.8226 - val_loss: 0.4887 - val_acc: 0.7604\n",
            "Epoch 43/100\n",
            "18/18 [==============================] - 0s 15ms/step - loss: 0.3736 - acc: 0.8313 - val_loss: 0.4858 - val_acc: 0.7604\n",
            "Epoch 44/100\n",
            "18/18 [==============================] - 0s 15ms/step - loss: 0.3743 - acc: 0.8209 - val_loss: 0.4879 - val_acc: 0.7656\n",
            "Epoch 45/100\n",
            "18/18 [==============================] - 0s 14ms/step - loss: 0.3712 - acc: 0.8313 - val_loss: 0.4898 - val_acc: 0.7656\n",
            "Epoch 46/100\n",
            "18/18 [==============================] - 0s 12ms/step - loss: 0.3699 - acc: 0.8348 - val_loss: 0.4911 - val_acc: 0.7656\n",
            "Epoch 47/100\n",
            "18/18 [==============================] - 0s 12ms/step - loss: 0.3679 - acc: 0.8330 - val_loss: 0.4900 - val_acc: 0.7656\n",
            "Epoch 48/100\n",
            "18/18 [==============================] - 0s 12ms/step - loss: 0.3665 - acc: 0.8365 - val_loss: 0.4931 - val_acc: 0.7656\n",
            "Epoch 49/100\n",
            "18/18 [==============================] - 0s 9ms/step - loss: 0.3658 - acc: 0.8452 - val_loss: 0.4927 - val_acc: 0.7552\n",
            "Epoch 50/100\n",
            "18/18 [==============================] - 0s 10ms/step - loss: 0.3629 - acc: 0.8348 - val_loss: 0.4961 - val_acc: 0.7656\n",
            "Epoch 51/100\n",
            "18/18 [==============================] - 0s 12ms/step - loss: 0.3633 - acc: 0.8348 - val_loss: 0.5001 - val_acc: 0.7552\n",
            "Epoch 52/100\n",
            "18/18 [==============================] - 0s 10ms/step - loss: 0.3598 - acc: 0.8417 - val_loss: 0.4985 - val_acc: 0.7552\n",
            "Epoch 53/100\n",
            "18/18 [==============================] - 0s 13ms/step - loss: 0.3589 - acc: 0.8383 - val_loss: 0.4981 - val_acc: 0.7604\n",
            "Epoch 54/100\n",
            "18/18 [==============================] - 0s 11ms/step - loss: 0.3565 - acc: 0.8417 - val_loss: 0.5018 - val_acc: 0.7500\n",
            "Epoch 55/100\n",
            "18/18 [==============================] - 0s 15ms/step - loss: 0.3546 - acc: 0.8435 - val_loss: 0.5034 - val_acc: 0.7552\n",
            "Epoch 56/100\n",
            "18/18 [==============================] - 0s 14ms/step - loss: 0.3542 - acc: 0.8435 - val_loss: 0.4991 - val_acc: 0.7500\n",
            "Epoch 57/100\n",
            "18/18 [==============================] - 0s 16ms/step - loss: 0.3518 - acc: 0.8435 - val_loss: 0.5057 - val_acc: 0.7500\n",
            "Epoch 58/100\n",
            "18/18 [==============================] - 0s 14ms/step - loss: 0.3507 - acc: 0.8470 - val_loss: 0.5044 - val_acc: 0.7656\n",
            "Epoch 59/100\n",
            "18/18 [==============================] - 0s 16ms/step - loss: 0.3494 - acc: 0.8452 - val_loss: 0.5078 - val_acc: 0.7552\n",
            "Epoch 60/100\n",
            "18/18 [==============================] - 0s 12ms/step - loss: 0.3462 - acc: 0.8522 - val_loss: 0.5081 - val_acc: 0.7552\n",
            "Epoch 61/100\n",
            "18/18 [==============================] - 0s 13ms/step - loss: 0.3444 - acc: 0.8591 - val_loss: 0.5072 - val_acc: 0.7604\n",
            "Epoch 62/100\n",
            "18/18 [==============================] - 0s 13ms/step - loss: 0.3431 - acc: 0.8400 - val_loss: 0.5096 - val_acc: 0.7604\n",
            "Epoch 63/100\n",
            "18/18 [==============================] - 0s 11ms/step - loss: 0.3430 - acc: 0.8470 - val_loss: 0.5166 - val_acc: 0.7500\n",
            "Epoch 64/100\n",
            "18/18 [==============================] - 0s 14ms/step - loss: 0.3402 - acc: 0.8487 - val_loss: 0.5130 - val_acc: 0.7604\n",
            "Epoch 65/100\n",
            "18/18 [==============================] - 0s 8ms/step - loss: 0.3373 - acc: 0.8574 - val_loss: 0.5124 - val_acc: 0.7708\n",
            "Epoch 66/100\n",
            "18/18 [==============================] - 0s 9ms/step - loss: 0.3382 - acc: 0.8470 - val_loss: 0.5189 - val_acc: 0.7604\n",
            "Epoch 67/100\n",
            "18/18 [==============================] - 0s 10ms/step - loss: 0.3368 - acc: 0.8539 - val_loss: 0.5169 - val_acc: 0.7604\n",
            "Epoch 68/100\n",
            "18/18 [==============================] - 0s 11ms/step - loss: 0.3325 - acc: 0.8574 - val_loss: 0.5197 - val_acc: 0.7708\n",
            "Epoch 69/100\n",
            "18/18 [==============================] - 0s 8ms/step - loss: 0.3310 - acc: 0.8574 - val_loss: 0.5213 - val_acc: 0.7656\n",
            "Epoch 70/100\n",
            "18/18 [==============================] - 0s 11ms/step - loss: 0.3290 - acc: 0.8522 - val_loss: 0.5253 - val_acc: 0.7604\n",
            "Epoch 71/100\n",
            "18/18 [==============================] - 0s 10ms/step - loss: 0.3289 - acc: 0.8574 - val_loss: 0.5191 - val_acc: 0.7708\n",
            "Epoch 72/100\n",
            "18/18 [==============================] - 0s 10ms/step - loss: 0.3264 - acc: 0.8591 - val_loss: 0.5249 - val_acc: 0.7656\n",
            "Epoch 73/100\n",
            "18/18 [==============================] - 0s 9ms/step - loss: 0.3246 - acc: 0.8609 - val_loss: 0.5257 - val_acc: 0.7708\n",
            "Epoch 74/100\n",
            "18/18 [==============================] - 0s 12ms/step - loss: 0.3238 - acc: 0.8609 - val_loss: 0.5304 - val_acc: 0.7656\n",
            "Epoch 75/100\n",
            "18/18 [==============================] - 0s 11ms/step - loss: 0.3226 - acc: 0.8626 - val_loss: 0.5350 - val_acc: 0.7708\n",
            "Epoch 76/100\n",
            "18/18 [==============================] - 0s 12ms/step - loss: 0.3197 - acc: 0.8557 - val_loss: 0.5334 - val_acc: 0.7552\n",
            "Epoch 77/100\n",
            "18/18 [==============================] - 0s 9ms/step - loss: 0.3178 - acc: 0.8626 - val_loss: 0.5356 - val_acc: 0.7708\n",
            "Epoch 78/100\n",
            "18/18 [==============================] - 0s 11ms/step - loss: 0.3208 - acc: 0.8609 - val_loss: 0.5379 - val_acc: 0.7656\n",
            "Epoch 79/100\n",
            "18/18 [==============================] - 0s 8ms/step - loss: 0.3161 - acc: 0.8678 - val_loss: 0.5359 - val_acc: 0.7656\n",
            "Epoch 80/100\n",
            "18/18 [==============================] - 0s 13ms/step - loss: 0.3136 - acc: 0.8678 - val_loss: 0.5395 - val_acc: 0.7656\n",
            "Epoch 81/100\n",
            "18/18 [==============================] - 0s 10ms/step - loss: 0.3156 - acc: 0.8626 - val_loss: 0.5472 - val_acc: 0.7448\n",
            "Epoch 82/100\n",
            "18/18 [==============================] - 0s 11ms/step - loss: 0.3117 - acc: 0.8626 - val_loss: 0.5422 - val_acc: 0.7656\n",
            "Epoch 83/100\n",
            "18/18 [==============================] - 0s 10ms/step - loss: 0.3111 - acc: 0.8678 - val_loss: 0.5446 - val_acc: 0.7656\n",
            "Epoch 84/100\n",
            "18/18 [==============================] - 0s 11ms/step - loss: 0.3089 - acc: 0.8713 - val_loss: 0.5392 - val_acc: 0.7656\n",
            "Epoch 85/100\n",
            "18/18 [==============================] - 0s 12ms/step - loss: 0.3052 - acc: 0.8765 - val_loss: 0.5504 - val_acc: 0.7656\n",
            "Epoch 86/100\n",
            "18/18 [==============================] - 0s 11ms/step - loss: 0.3082 - acc: 0.8661 - val_loss: 0.5577 - val_acc: 0.7604\n",
            "Epoch 87/100\n",
            "18/18 [==============================] - 0s 10ms/step - loss: 0.3036 - acc: 0.8696 - val_loss: 0.5552 - val_acc: 0.7656\n",
            "Epoch 88/100\n",
            "18/18 [==============================] - 0s 8ms/step - loss: 0.2993 - acc: 0.8730 - val_loss: 0.5542 - val_acc: 0.7656\n",
            "Epoch 89/100\n",
            "18/18 [==============================] - 0s 9ms/step - loss: 0.2997 - acc: 0.8643 - val_loss: 0.5559 - val_acc: 0.7604\n",
            "Epoch 90/100\n",
            "18/18 [==============================] - 0s 8ms/step - loss: 0.2961 - acc: 0.8800 - val_loss: 0.5583 - val_acc: 0.7604\n",
            "Epoch 91/100\n",
            "18/18 [==============================] - 0s 13ms/step - loss: 0.2956 - acc: 0.8696 - val_loss: 0.5619 - val_acc: 0.7552\n",
            "Epoch 92/100\n",
            "18/18 [==============================] - 0s 11ms/step - loss: 0.2972 - acc: 0.8730 - val_loss: 0.5550 - val_acc: 0.7760\n",
            "Epoch 93/100\n",
            "18/18 [==============================] - 0s 7ms/step - loss: 0.2942 - acc: 0.8835 - val_loss: 0.5592 - val_acc: 0.7656\n",
            "Epoch 94/100\n",
            "18/18 [==============================] - 0s 13ms/step - loss: 0.2923 - acc: 0.8852 - val_loss: 0.5690 - val_acc: 0.7708\n",
            "Epoch 95/100\n",
            "18/18 [==============================] - 0s 10ms/step - loss: 0.2917 - acc: 0.8765 - val_loss: 0.5617 - val_acc: 0.7552\n",
            "Epoch 96/100\n",
            "18/18 [==============================] - 0s 13ms/step - loss: 0.2879 - acc: 0.8800 - val_loss: 0.5719 - val_acc: 0.7604\n",
            "Epoch 97/100\n",
            "18/18 [==============================] - 0s 15ms/step - loss: 0.2858 - acc: 0.8835 - val_loss: 0.5707 - val_acc: 0.7552\n",
            "Epoch 98/100\n",
            "18/18 [==============================] - 0s 15ms/step - loss: 0.2849 - acc: 0.8783 - val_loss: 0.5777 - val_acc: 0.7448\n",
            "Epoch 99/100\n",
            "18/18 [==============================] - 0s 11ms/step - loss: 0.2830 - acc: 0.8922 - val_loss: 0.5717 - val_acc: 0.7656\n",
            "Epoch 100/100\n",
            "18/18 [==============================] - 0s 14ms/step - loss: 0.2791 - acc: 0.8852 - val_loss: 0.5716 - val_acc: 0.7604\n"
          ]
        }
      ]
    },
    {
      "cell_type": "code",
      "source": [
        "#get the loss and accuracies\n",
        "scores = model.evaluate(X_test, Y_test)\n",
        "print('Loss: {:.2}\\nAccuracy: {:.2%}'.format(scores[0], scores[1]))"
      ],
      "metadata": {
        "colab": {
          "base_uri": "https://localhost:8080/"
        },
        "id": "NsdoyRh_7fMv",
        "outputId": "d5d689c8-9d64-4305-c40b-a6ea857b3025"
      },
      "execution_count": null,
      "outputs": [
        {
          "output_type": "stream",
          "name": "stdout",
          "text": [
            "6/6 [==============================] - 0s 5ms/step - loss: 0.5716 - acc: 0.7604\n",
            "Loss: 0.57\n",
            "Accuracy: 76.04%\n"
          ]
        }
      ]
    },
    {
      "cell_type": "code",
      "source": [
        "# summarize history for accuracy\n",
        "plt.plot(my_first_nn_fitted_normal.history['acc'])\n",
        "plt.plot(my_first_nn_fitted_normal.history['val_acc'])\n",
        "plt.title('Model Accuracy')\n",
        "plt.ylabel('Accuracy')\n",
        "plt.xlabel('Epoch')\n",
        "plt.legend(['Train', 'Test'], loc='upper left')\n",
        "plt.show()"
      ],
      "metadata": {
        "colab": {
          "base_uri": "https://localhost:8080/",
          "height": 295
        },
        "id": "Ja2ApKrI7hZq",
        "outputId": "5b47749a-e6fc-49a3-bc4c-1539a064add5"
      },
      "execution_count": null,
      "outputs": [
        {
          "output_type": "display_data",
          "data": {
            "text/plain": [
              "<Figure size 432x288 with 1 Axes>"
            ],
            "image/png": "[encoded data removed]"
          },
          "metadata": {
            "needs_background": "light"
          }
        }
      ]
    },
    {
      "cell_type": "code",
      "source": [
        "# summarize history for loss\n",
        "plt.plot(my_first_nn_fitted_normal.history['loss'])\n",
        "plt.plot(my_first_nn_fitted_normal.history['val_loss'])\n",
        "plt.title('Model Loss')\n",
        "plt.ylabel('Loss')\n",
        "plt.xlabel('Epoch')\n",
        "plt.legend(['Train', 'Test'], loc='upper left')\n",
        "plt.show()"
      ],
      "metadata": {
        "colab": {
          "base_uri": "https://localhost:8080/",
          "height": 295
        },
        "id": "7vShjtD17jC-",
        "outputId": "029844ab-3349-49f1-9b58-0cdb8fe88adc"
      },
      "execution_count": null,
      "outputs": [
        {
          "output_type": "display_data",
          "data": {
            "text/plain": [
              "<Figure size 432x288 with 1 Axes>"
            ],
            "image/png": "[encoded data removed]"
          },
          "metadata": {
            "needs_background": "light"
          }
        }
      ]
    },
    {
      "cell_type": "markdown",
      "source": [
        "##Normalized Data and Extra Dense Laters Model\n",
        "\n",
        "Loss: 1.5 Accuracy: 72%"
      ],
      "metadata": {
        "id": "e1IhXMW7hd8l"
      }
    },
    {
      "cell_type": "code",
      "source": [
        "model = keras.Sequential() # create model\n",
        "\n",
        "# input dimensions are 8 from above.\n",
        "model.add(layers.Dense(32, input_dim=8, activation='relu')) # Input layer\n",
        "\n",
        "model.add(layers.Dense(64, activation='relu')) # hidden layer\n",
        "\n",
        "model.add(layers.Dense(128, activation='relu')) # hidden layer\n",
        "\n",
        "model.add(layers.Dense(64, activation='relu')) # hidden layer\n",
        "\n",
        "model.add(layers.Dense(1, activation='sigmoid')) # output layer\n",
        "\n",
        "model.compile(loss='binary_crossentropy', optimizer='adam', metrics=['acc'])\n",
        "\n",
        "model.summary()"
      ],
      "metadata": {
        "colab": {
          "base_uri": "https://localhost:8080/"
        },
        "id": "eYSpwhHo7nBu",
        "outputId": "606166dd-a4a4-4a3b-ce37-27e535177f2a"
      },
      "execution_count": null,
      "outputs": [
        {
          "output_type": "stream",
          "name": "stdout",
          "text": [
            "Model: \"sequential_22\"\n",
            "_________________________________________________________________\n",
            " Layer (type)                Output Shape              Param #   \n",
            "=================================================================\n",
            " dense_78 (Dense)            (None, 32)                288       \n",
            "                                                                 \n",
            " dense_79 (Dense)            (None, 64)                2112      \n",
            "                                                                 \n",
            " dense_80 (Dense)            (None, 128)               8320      \n",
            "                                                                 \n",
            " dense_81 (Dense)            (None, 64)                8256      \n",
            "                                                                 \n",
            " dense_82 (Dense)            (None, 1)                 65        \n",
            "                                                                 \n",
            "=================================================================\n",
            "Total params: 19,041\n",
            "Trainable params: 19,041\n",
            "Non-trainable params: 0\n",
            "_________________________________________________________________\n"
          ]
        }
      ]
    },
    {
      "cell_type": "code",
      "source": [
        "#fit the model\n",
        "my_first_nn_fitted_dense = model.fit(X_train, Y_train, epochs=100, validation_data=(X_test, Y_test))"
      ],
      "metadata": {
        "colab": {
          "base_uri": "https://localhost:8080/"
        },
        "id": "taloscqx7vFE",
        "outputId": "ccf71bc1-e35c-4b01-b14d-1d71d5a5a478"
      },
      "execution_count": null,
      "outputs": [
        {
          "output_type": "stream",
          "name": "stdout",
          "text": [
            "Epoch 1/100\n",
            "18/18 [==============================] - 2s 34ms/step - loss: 0.6339 - acc: 0.6765 - val_loss: 0.5709 - val_acc: 0.7240\n",
            "Epoch 2/100\n",
            "18/18 [==============================] - 0s 8ms/step - loss: 0.5151 - acc: 0.7461 - val_loss: 0.4867 - val_acc: 0.7656\n",
            "Epoch 3/100\n",
            "18/18 [==============================] - 0s 9ms/step - loss: 0.4710 - acc: 0.7739 - val_loss: 0.4568 - val_acc: 0.7656\n",
            "Epoch 4/100\n",
            "18/18 [==============================] - 0s 10ms/step - loss: 0.4569 - acc: 0.7722 - val_loss: 0.4545 - val_acc: 0.7812\n",
            "Epoch 5/100\n",
            "18/18 [==============================] - 0s 13ms/step - loss: 0.4382 - acc: 0.7878 - val_loss: 0.4551 - val_acc: 0.7865\n",
            "Epoch 6/100\n",
            "18/18 [==============================] - 0s 10ms/step - loss: 0.4279 - acc: 0.8087 - val_loss: 0.4536 - val_acc: 0.7917\n",
            "Epoch 7/100\n",
            "18/18 [==============================] - 0s 9ms/step - loss: 0.4196 - acc: 0.8035 - val_loss: 0.4604 - val_acc: 0.7812\n",
            "Epoch 8/100\n",
            "18/18 [==============================] - 0s 10ms/step - loss: 0.4117 - acc: 0.8157 - val_loss: 0.4557 - val_acc: 0.7917\n",
            "Epoch 9/100\n",
            "18/18 [==============================] - 0s 10ms/step - loss: 0.4070 - acc: 0.8087 - val_loss: 0.4594 - val_acc: 0.7917\n",
            "Epoch 10/100\n",
            "18/18 [==============================] - 0s 12ms/step - loss: 0.3911 - acc: 0.8122 - val_loss: 0.4586 - val_acc: 0.7812\n",
            "Epoch 11/100\n",
            "18/18 [==============================] - 0s 13ms/step - loss: 0.3887 - acc: 0.8122 - val_loss: 0.4769 - val_acc: 0.7760\n",
            "Epoch 12/100\n",
            "18/18 [==============================] - 0s 10ms/step - loss: 0.3789 - acc: 0.8122 - val_loss: 0.4725 - val_acc: 0.7656\n",
            "Epoch 13/100\n",
            "18/18 [==============================] - 0s 9ms/step - loss: 0.3640 - acc: 0.8330 - val_loss: 0.4890 - val_acc: 0.7760\n",
            "Epoch 14/100\n",
            "18/18 [==============================] - 0s 9ms/step - loss: 0.3509 - acc: 0.8504 - val_loss: 0.4815 - val_acc: 0.7760\n",
            "Epoch 15/100\n",
            "18/18 [==============================] - 0s 9ms/step - loss: 0.3490 - acc: 0.8330 - val_loss: 0.4860 - val_acc: 0.7708\n",
            "Epoch 16/100\n",
            "18/18 [==============================] - 0s 14ms/step - loss: 0.3425 - acc: 0.8539 - val_loss: 0.5186 - val_acc: 0.7760\n",
            "Epoch 17/100\n",
            "18/18 [==============================] - 0s 15ms/step - loss: 0.3202 - acc: 0.8678 - val_loss: 0.5034 - val_acc: 0.7604\n",
            "Epoch 18/100\n",
            "18/18 [==============================] - 0s 8ms/step - loss: 0.3135 - acc: 0.8557 - val_loss: 0.5100 - val_acc: 0.7604\n",
            "Epoch 19/100\n",
            "18/18 [==============================] - 0s 9ms/step - loss: 0.2972 - acc: 0.8696 - val_loss: 0.5491 - val_acc: 0.7708\n",
            "Epoch 20/100\n",
            "18/18 [==============================] - 0s 9ms/step - loss: 0.2852 - acc: 0.8730 - val_loss: 0.5341 - val_acc: 0.7656\n",
            "Epoch 21/100\n",
            "18/18 [==============================] - 0s 6ms/step - loss: 0.2866 - acc: 0.8678 - val_loss: 0.5942 - val_acc: 0.7500\n",
            "Epoch 22/100\n",
            "18/18 [==============================] - 0s 7ms/step - loss: 0.2736 - acc: 0.8817 - val_loss: 0.5594 - val_acc: 0.7552\n",
            "Epoch 23/100\n",
            "18/18 [==============================] - 0s 9ms/step - loss: 0.2413 - acc: 0.8991 - val_loss: 0.5698 - val_acc: 0.7708\n",
            "Epoch 24/100\n",
            "18/18 [==============================] - 0s 6ms/step - loss: 0.2346 - acc: 0.8974 - val_loss: 0.5918 - val_acc: 0.7292\n",
            "Epoch 25/100\n",
            "18/18 [==============================] - 0s 4ms/step - loss: 0.2121 - acc: 0.9287 - val_loss: 0.6107 - val_acc: 0.7812\n",
            "Epoch 26/100\n",
            "18/18 [==============================] - 0s 4ms/step - loss: 0.2161 - acc: 0.9043 - val_loss: 0.6108 - val_acc: 0.7396\n",
            "Epoch 27/100\n",
            "18/18 [==============================] - 0s 5ms/step - loss: 0.2013 - acc: 0.9217 - val_loss: 0.6430 - val_acc: 0.7396\n",
            "Epoch 28/100\n",
            "18/18 [==============================] - 0s 4ms/step - loss: 0.1934 - acc: 0.9200 - val_loss: 0.6541 - val_acc: 0.7396\n",
            "Epoch 29/100\n",
            "18/18 [==============================] - 0s 4ms/step - loss: 0.1719 - acc: 0.9426 - val_loss: 0.6803 - val_acc: 0.7656\n",
            "Epoch 30/100\n",
            "18/18 [==============================] - 0s 5ms/step - loss: 0.1698 - acc: 0.9357 - val_loss: 0.6938 - val_acc: 0.7240\n",
            "Epoch 31/100\n",
            "18/18 [==============================] - 0s 5ms/step - loss: 0.1570 - acc: 0.9513 - val_loss: 0.7120 - val_acc: 0.7812\n",
            "Epoch 32/100\n",
            "18/18 [==============================] - 0s 4ms/step - loss: 0.1385 - acc: 0.9513 - val_loss: 0.7937 - val_acc: 0.7448\n",
            "Epoch 33/100\n",
            "18/18 [==============================] - 0s 5ms/step - loss: 0.1320 - acc: 0.9513 - val_loss: 0.7127 - val_acc: 0.7500\n",
            "Epoch 34/100\n",
            "18/18 [==============================] - 0s 4ms/step - loss: 0.1280 - acc: 0.9600 - val_loss: 0.7814 - val_acc: 0.7604\n",
            "Epoch 35/100\n",
            "18/18 [==============================] - 0s 4ms/step - loss: 0.1276 - acc: 0.9548 - val_loss: 0.8915 - val_acc: 0.7396\n",
            "Epoch 36/100\n",
            "18/18 [==============================] - 0s 5ms/step - loss: 0.1104 - acc: 0.9635 - val_loss: 0.7956 - val_acc: 0.7865\n",
            "Epoch 37/100\n",
            "18/18 [==============================] - 0s 5ms/step - loss: 0.1299 - acc: 0.9461 - val_loss: 0.8402 - val_acc: 0.7552\n",
            "Epoch 38/100\n",
            "18/18 [==============================] - 0s 4ms/step - loss: 0.1153 - acc: 0.9617 - val_loss: 0.9020 - val_acc: 0.7240\n",
            "Epoch 39/100\n",
            "18/18 [==============================] - 0s 4ms/step - loss: 0.0941 - acc: 0.9670 - val_loss: 0.8748 - val_acc: 0.7448\n",
            "Epoch 40/100\n",
            "18/18 [==============================] - 0s 4ms/step - loss: 0.0901 - acc: 0.9722 - val_loss: 0.9458 - val_acc: 0.7448\n",
            "Epoch 41/100\n",
            "18/18 [==============================] - 0s 5ms/step - loss: 0.0818 - acc: 0.9791 - val_loss: 0.9503 - val_acc: 0.7344\n",
            "Epoch 42/100\n",
            "18/18 [==============================] - 0s 5ms/step - loss: 0.0753 - acc: 0.9791 - val_loss: 0.9458 - val_acc: 0.7135\n",
            "Epoch 43/100\n",
            "18/18 [==============================] - 0s 4ms/step - loss: 0.0644 - acc: 0.9878 - val_loss: 1.0094 - val_acc: 0.7812\n",
            "Epoch 44/100\n",
            "18/18 [==============================] - 0s 5ms/step - loss: 0.0708 - acc: 0.9826 - val_loss: 1.0559 - val_acc: 0.7396\n",
            "Epoch 45/100\n",
            "18/18 [==============================] - 0s 4ms/step - loss: 0.0655 - acc: 0.9791 - val_loss: 1.0287 - val_acc: 0.7500\n",
            "Epoch 46/100\n",
            "18/18 [==============================] - 0s 4ms/step - loss: 0.0491 - acc: 0.9913 - val_loss: 1.0250 - val_acc: 0.7760\n",
            "Epoch 47/100\n",
            "18/18 [==============================] - 0s 4ms/step - loss: 0.0594 - acc: 0.9826 - val_loss: 1.1207 - val_acc: 0.6979\n",
            "Epoch 48/100\n",
            "18/18 [==============================] - 0s 5ms/step - loss: 0.0499 - acc: 0.9896 - val_loss: 1.1816 - val_acc: 0.7292\n",
            "Epoch 49/100\n",
            "18/18 [==============================] - 0s 4ms/step - loss: 0.0637 - acc: 0.9896 - val_loss: 1.1539 - val_acc: 0.7344\n",
            "Epoch 50/100\n",
            "18/18 [==============================] - 0s 4ms/step - loss: 0.0670 - acc: 0.9791 - val_loss: 1.0926 - val_acc: 0.7708\n",
            "Epoch 51/100\n",
            "18/18 [==============================] - 0s 5ms/step - loss: 0.0385 - acc: 0.9948 - val_loss: 1.0996 - val_acc: 0.7552\n",
            "Epoch 52/100\n",
            "18/18 [==============================] - 0s 4ms/step - loss: 0.0476 - acc: 0.9878 - val_loss: 1.1569 - val_acc: 0.7448\n",
            "Epoch 53/100\n",
            "18/18 [==============================] - 0s 4ms/step - loss: 0.0411 - acc: 0.9913 - val_loss: 1.1902 - val_acc: 0.7500\n",
            "Epoch 54/100\n",
            "18/18 [==============================] - 0s 4ms/step - loss: 0.0301 - acc: 0.9965 - val_loss: 1.1776 - val_acc: 0.7552\n",
            "Epoch 55/100\n",
            "18/18 [==============================] - 0s 5ms/step - loss: 0.0235 - acc: 0.9965 - val_loss: 1.2384 - val_acc: 0.7552\n",
            "Epoch 56/100\n",
            "18/18 [==============================] - 0s 4ms/step - loss: 0.0252 - acc: 0.9983 - val_loss: 1.2380 - val_acc: 0.7448\n",
            "Epoch 57/100\n",
            "18/18 [==============================] - 0s 4ms/step - loss: 0.0202 - acc: 0.9965 - val_loss: 1.3028 - val_acc: 0.7604\n",
            "Epoch 58/100\n",
            "18/18 [==============================] - 0s 4ms/step - loss: 0.0238 - acc: 0.9965 - val_loss: 1.2837 - val_acc: 0.7500\n",
            "Epoch 59/100\n",
            "18/18 [==============================] - 0s 4ms/step - loss: 0.0220 - acc: 0.9965 - val_loss: 1.3206 - val_acc: 0.7344\n",
            "Epoch 60/100\n",
            "18/18 [==============================] - 0s 5ms/step - loss: 0.0220 - acc: 0.9948 - val_loss: 1.3316 - val_acc: 0.7344\n",
            "Epoch 61/100\n",
            "18/18 [==============================] - 0s 6ms/step - loss: 0.0270 - acc: 0.9965 - val_loss: 1.4870 - val_acc: 0.7240\n",
            "Epoch 62/100\n",
            "18/18 [==============================] - 0s 4ms/step - loss: 0.0235 - acc: 0.9965 - val_loss: 1.3339 - val_acc: 0.7500\n",
            "Epoch 63/100\n",
            "18/18 [==============================] - 0s 5ms/step - loss: 0.0242 - acc: 0.9948 - val_loss: 1.3704 - val_acc: 0.7448\n",
            "Epoch 64/100\n",
            "18/18 [==============================] - 0s 4ms/step - loss: 0.0243 - acc: 0.9948 - val_loss: 1.3559 - val_acc: 0.7292\n",
            "Epoch 65/100\n",
            "18/18 [==============================] - 0s 4ms/step - loss: 0.0210 - acc: 0.9965 - val_loss: 1.3822 - val_acc: 0.7760\n",
            "Epoch 66/100\n",
            "18/18 [==============================] - 0s 4ms/step - loss: 0.0222 - acc: 0.9965 - val_loss: 1.3549 - val_acc: 0.7448\n",
            "Epoch 67/100\n",
            "18/18 [==============================] - 0s 4ms/step - loss: 0.0164 - acc: 0.9965 - val_loss: 1.3926 - val_acc: 0.7396\n",
            "Epoch 68/100\n",
            "18/18 [==============================] - 0s 5ms/step - loss: 0.0126 - acc: 0.9983 - val_loss: 1.4222 - val_acc: 0.7396\n",
            "Epoch 69/100\n",
            "18/18 [==============================] - 0s 4ms/step - loss: 0.0110 - acc: 0.9983 - val_loss: 1.4608 - val_acc: 0.7552\n",
            "Epoch 70/100\n",
            "18/18 [==============================] - 0s 4ms/step - loss: 0.0164 - acc: 0.9965 - val_loss: 1.4863 - val_acc: 0.7240\n",
            "Epoch 71/100\n",
            "18/18 [==============================] - 0s 4ms/step - loss: 0.0139 - acc: 0.9983 - val_loss: 1.4636 - val_acc: 0.7552\n",
            "Epoch 72/100\n",
            "18/18 [==============================] - 0s 4ms/step - loss: 0.0106 - acc: 0.9983 - val_loss: 1.5471 - val_acc: 0.7396\n",
            "Epoch 73/100\n",
            "18/18 [==============================] - 0s 4ms/step - loss: 0.0117 - acc: 0.9965 - val_loss: 1.5090 - val_acc: 0.7448\n",
            "Epoch 74/100\n",
            "18/18 [==============================] - 0s 4ms/step - loss: 0.0104 - acc: 0.9983 - val_loss: 1.5779 - val_acc: 0.7396\n",
            "Epoch 75/100\n",
            "18/18 [==============================] - 0s 4ms/step - loss: 0.0144 - acc: 0.9965 - val_loss: 1.5749 - val_acc: 0.7396\n",
            "Epoch 76/100\n",
            "18/18 [==============================] - 0s 4ms/step - loss: 0.0111 - acc: 0.9965 - val_loss: 1.6238 - val_acc: 0.7240\n",
            "Epoch 77/100\n",
            "18/18 [==============================] - 0s 4ms/step - loss: 0.0127 - acc: 0.9983 - val_loss: 1.5605 - val_acc: 0.7656\n",
            "Epoch 78/100\n",
            "18/18 [==============================] - 0s 5ms/step - loss: 0.0124 - acc: 0.9983 - val_loss: 1.5564 - val_acc: 0.7604\n",
            "Epoch 79/100\n",
            "18/18 [==============================] - 0s 5ms/step - loss: 0.0147 - acc: 0.9948 - val_loss: 1.5673 - val_acc: 0.7396\n",
            "Epoch 80/100\n",
            "18/18 [==============================] - 0s 4ms/step - loss: 0.0168 - acc: 0.9930 - val_loss: 1.5631 - val_acc: 0.7656\n",
            "Epoch 81/100\n",
            "18/18 [==============================] - 0s 4ms/step - loss: 0.0176 - acc: 0.9930 - val_loss: 1.6136 - val_acc: 0.7552\n",
            "Epoch 82/100\n",
            "18/18 [==============================] - 0s 5ms/step - loss: 0.0114 - acc: 0.9965 - val_loss: 1.5845 - val_acc: 0.7552\n",
            "Epoch 83/100\n",
            "18/18 [==============================] - 0s 5ms/step - loss: 0.0069 - acc: 0.9983 - val_loss: 1.6266 - val_acc: 0.7500\n",
            "Epoch 84/100\n",
            "18/18 [==============================] - 0s 5ms/step - loss: 0.0068 - acc: 0.9983 - val_loss: 1.7019 - val_acc: 0.7240\n",
            "Epoch 85/100\n",
            "18/18 [==============================] - 0s 5ms/step - loss: 0.0115 - acc: 0.9965 - val_loss: 1.7100 - val_acc: 0.7344\n",
            "Epoch 86/100\n",
            "18/18 [==============================] - 0s 4ms/step - loss: 0.0102 - acc: 0.9983 - val_loss: 1.6560 - val_acc: 0.7552\n",
            "Epoch 87/100\n",
            "18/18 [==============================] - 0s 5ms/step - loss: 0.0109 - acc: 0.9965 - val_loss: 1.6310 - val_acc: 0.7708\n",
            "Epoch 88/100\n",
            "18/18 [==============================] - 0s 4ms/step - loss: 0.0087 - acc: 0.9983 - val_loss: 1.6695 - val_acc: 0.7292\n",
            "Epoch 89/100\n",
            "18/18 [==============================] - 0s 4ms/step - loss: 0.0209 - acc: 0.9948 - val_loss: 1.7155 - val_acc: 0.7656\n",
            "Epoch 90/100\n",
            "18/18 [==============================] - 0s 4ms/step - loss: 0.0598 - acc: 0.9826 - val_loss: 1.5939 - val_acc: 0.7292\n",
            "Epoch 91/100\n",
            "18/18 [==============================] - 0s 5ms/step - loss: 0.0848 - acc: 0.9809 - val_loss: 1.6357 - val_acc: 0.7396\n",
            "Epoch 92/100\n",
            "18/18 [==============================] - 0s 5ms/step - loss: 0.0891 - acc: 0.9757 - val_loss: 1.6093 - val_acc: 0.6823\n",
            "Epoch 93/100\n",
            "18/18 [==============================] - 0s 5ms/step - loss: 0.1000 - acc: 0.9826 - val_loss: 1.5703 - val_acc: 0.7292\n",
            "Epoch 94/100\n",
            "18/18 [==============================] - 0s 4ms/step - loss: 0.0882 - acc: 0.9704 - val_loss: 1.5089 - val_acc: 0.7552\n",
            "Epoch 95/100\n",
            "18/18 [==============================] - 0s 5ms/step - loss: 0.1262 - acc: 0.9530 - val_loss: 1.4560 - val_acc: 0.7604\n",
            "Epoch 96/100\n",
            "18/18 [==============================] - 0s 5ms/step - loss: 0.1826 - acc: 0.9409 - val_loss: 1.3275 - val_acc: 0.7292\n",
            "Epoch 97/100\n",
            "18/18 [==============================] - 0s 4ms/step - loss: 0.0701 - acc: 0.9774 - val_loss: 1.2735 - val_acc: 0.7552\n",
            "Epoch 98/100\n",
            "18/18 [==============================] - 0s 5ms/step - loss: 0.0285 - acc: 0.9948 - val_loss: 1.2964 - val_acc: 0.7240\n",
            "Epoch 99/100\n",
            "18/18 [==============================] - 0s 5ms/step - loss: 0.0193 - acc: 0.9965 - val_loss: 1.3222 - val_acc: 0.7448\n",
            "Epoch 100/100\n",
            "18/18 [==============================] - 0s 4ms/step - loss: 0.0127 - acc: 0.9983 - val_loss: 1.3586 - val_acc: 0.7500\n"
          ]
        }
      ]
    },
    {
      "cell_type": "code",
      "source": [
        "#Get the loss and accuracies\n",
        "scores = model.evaluate(X_test, Y_test)\n",
        "print('Loss: {:.2}\\nAccuracy: {:.2%}'.format(scores[0], scores[1]))"
      ],
      "metadata": {
        "colab": {
          "base_uri": "https://localhost:8080/"
        },
        "id": "DzR2uVrH7zuj",
        "outputId": "acb548d2-ac3d-4c72-cf4f-b44fa2f47b96"
      },
      "execution_count": null,
      "outputs": [
        {
          "output_type": "stream",
          "name": "stdout",
          "text": [
            "6/6 [==============================] - 0s 2ms/step - loss: 1.3586 - acc: 0.7500\n",
            "Loss: 1.4\n",
            "Accuracy: 75.00%\n"
          ]
        }
      ]
    },
    {
      "cell_type": "code",
      "source": [
        "# summarize history for accuracy\n",
        "plt.plot(my_first_nn_fitted_dense.history['acc'])\n",
        "plt.plot(my_first_nn_fitted_dense.history['val_acc'])\n",
        "plt.title('Model Accuracy')\n",
        "plt.ylabel('Accuracy')\n",
        "plt.xlabel('Epoch')\n",
        "plt.legend(['Train', 'Test'], loc='upper left')\n",
        "plt.show()"
      ],
      "metadata": {
        "colab": {
          "base_uri": "https://localhost:8080/",
          "height": 295
        },
        "id": "B-vdmOzW71C3",
        "outputId": "8ed3508e-67fc-43ee-cab4-72dc324956d3"
      },
      "execution_count": null,
      "outputs": [
        {
          "output_type": "display_data",
          "data": {
            "text/plain": [
              "<Figure size 432x288 with 1 Axes>"
            ],
            "image/png": "[encoded data removed]"
          },
          "metadata": {
            "needs_background": "light"
          }
        }
      ]
    },
    {
      "cell_type": "code",
      "source": [
        "# summarize history for loss\n",
        "plt.plot(my_first_nn_fitted_dense.history['loss'])\n",
        "plt.plot(my_first_nn_fitted_dense.history['val_loss'])\n",
        "plt.title('Model Loss')\n",
        "plt.ylabel('Loss')\n",
        "plt.xlabel('Epoch')\n",
        "plt.legend(['Train', 'Test'], loc='upper left')\n",
        "plt.show()"
      ],
      "metadata": {
        "colab": {
          "base_uri": "https://localhost:8080/",
          "height": 295
        },
        "id": "wcdNIF5p74_o",
        "outputId": "4ee858a7-6097-442f-8d76-49e6079452f7"
      },
      "execution_count": null,
      "outputs": [
        {
          "output_type": "display_data",
          "data": {
            "text/plain": [
              "<Figure size 432x288 with 1 Axes>"
            ],
            "image/png": "[encoded data removed]"
          },
          "metadata": {
            "needs_background": "light"
          }
        }
      ]
    }
  ]
}